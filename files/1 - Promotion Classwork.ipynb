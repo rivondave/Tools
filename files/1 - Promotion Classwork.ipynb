{
 "cells": [
  {
   "cell_type": "code",
   "execution_count": 2,
   "metadata": {},
   "outputs": [],
   "source": [
    "import pandas as pd\n",
    "import numpy as np"
   ]
  },
  {
   "cell_type": "code",
   "execution_count": 3,
   "metadata": {},
   "outputs": [],
   "source": [
    "train = pd.read_csv(\"train.csv\")"
   ]
  },
  {
   "cell_type": "code",
   "execution_count": 222,
   "metadata": {
    "scrolled": true
   },
   "outputs": [
    {
     "data": {
      "text/html": [
       "<div>\n",
       "<style scoped>\n",
       "    .dataframe tbody tr th:only-of-type {\n",
       "        vertical-align: middle;\n",
       "    }\n",
       "\n",
       "    .dataframe tbody tr th {\n",
       "        vertical-align: top;\n",
       "    }\n",
       "\n",
       "    .dataframe thead th {\n",
       "        text-align: right;\n",
       "    }\n",
       "</style>\n",
       "<table border=\"1\" class=\"dataframe\">\n",
       "  <thead>\n",
       "    <tr style=\"text-align: right;\">\n",
       "      <th></th>\n",
       "      <th>EmployeeNo</th>\n",
       "      <th>Division</th>\n",
       "      <th>Qualification</th>\n",
       "      <th>Gender</th>\n",
       "      <th>Channel_of_Recruitment</th>\n",
       "      <th>Trainings_Attended</th>\n",
       "      <th>Year_of_birth</th>\n",
       "      <th>Last_performance_score</th>\n",
       "      <th>Year_of_recruitment</th>\n",
       "      <th>Targets_met</th>\n",
       "      <th>Previous_Award</th>\n",
       "      <th>Training_score_average</th>\n",
       "      <th>State_Of_Origin</th>\n",
       "      <th>Foreign_schooled</th>\n",
       "      <th>Marital_Status</th>\n",
       "      <th>Past_Disciplinary_Action</th>\n",
       "      <th>Previous_IntraDepartmental_Movement</th>\n",
       "      <th>No_of_previous_employers</th>\n",
       "      <th>Promoted_or_Not</th>\n",
       "    </tr>\n",
       "  </thead>\n",
       "  <tbody>\n",
       "    <tr>\n",
       "      <th>0</th>\n",
       "      <td>YAK/S/00001</td>\n",
       "      <td>Commercial Sales and Marketing</td>\n",
       "      <td>MSc, MBA and PhD</td>\n",
       "      <td>Female</td>\n",
       "      <td>Direct Internal process</td>\n",
       "      <td>2</td>\n",
       "      <td>1986</td>\n",
       "      <td>12.5</td>\n",
       "      <td>2011</td>\n",
       "      <td>1</td>\n",
       "      <td>0</td>\n",
       "      <td>41</td>\n",
       "      <td>ANAMBRA</td>\n",
       "      <td>No</td>\n",
       "      <td>Married</td>\n",
       "      <td>No</td>\n",
       "      <td>No</td>\n",
       "      <td>0</td>\n",
       "      <td>0</td>\n",
       "    </tr>\n",
       "    <tr>\n",
       "      <th>1</th>\n",
       "      <td>YAK/S/00002</td>\n",
       "      <td>Customer Support and Field Operations</td>\n",
       "      <td>First Degree or HND</td>\n",
       "      <td>Male</td>\n",
       "      <td>Agency and others</td>\n",
       "      <td>2</td>\n",
       "      <td>1991</td>\n",
       "      <td>12.5</td>\n",
       "      <td>2015</td>\n",
       "      <td>0</td>\n",
       "      <td>0</td>\n",
       "      <td>52</td>\n",
       "      <td>ANAMBRA</td>\n",
       "      <td>Yes</td>\n",
       "      <td>Married</td>\n",
       "      <td>No</td>\n",
       "      <td>No</td>\n",
       "      <td>0</td>\n",
       "      <td>0</td>\n",
       "    </tr>\n",
       "    <tr>\n",
       "      <th>2</th>\n",
       "      <td>YAK/S/00003</td>\n",
       "      <td>Commercial Sales and Marketing</td>\n",
       "      <td>First Degree or HND</td>\n",
       "      <td>Male</td>\n",
       "      <td>Direct Internal process</td>\n",
       "      <td>2</td>\n",
       "      <td>1987</td>\n",
       "      <td>7.5</td>\n",
       "      <td>2012</td>\n",
       "      <td>0</td>\n",
       "      <td>0</td>\n",
       "      <td>42</td>\n",
       "      <td>KATSINA</td>\n",
       "      <td>Yes</td>\n",
       "      <td>Married</td>\n",
       "      <td>No</td>\n",
       "      <td>No</td>\n",
       "      <td>0</td>\n",
       "      <td>0</td>\n",
       "    </tr>\n",
       "    <tr>\n",
       "      <th>3</th>\n",
       "      <td>YAK/S/00004</td>\n",
       "      <td>Commercial Sales and Marketing</td>\n",
       "      <td>First Degree or HND</td>\n",
       "      <td>Male</td>\n",
       "      <td>Agency and others</td>\n",
       "      <td>3</td>\n",
       "      <td>1982</td>\n",
       "      <td>2.5</td>\n",
       "      <td>2009</td>\n",
       "      <td>0</td>\n",
       "      <td>0</td>\n",
       "      <td>42</td>\n",
       "      <td>NIGER</td>\n",
       "      <td>Yes</td>\n",
       "      <td>Single</td>\n",
       "      <td>No</td>\n",
       "      <td>No</td>\n",
       "      <td>1</td>\n",
       "      <td>0</td>\n",
       "    </tr>\n",
       "    <tr>\n",
       "      <th>4</th>\n",
       "      <td>YAK/S/00006</td>\n",
       "      <td>Information and Strategy</td>\n",
       "      <td>First Degree or HND</td>\n",
       "      <td>Male</td>\n",
       "      <td>Direct Internal process</td>\n",
       "      <td>3</td>\n",
       "      <td>1990</td>\n",
       "      <td>7.5</td>\n",
       "      <td>2012</td>\n",
       "      <td>0</td>\n",
       "      <td>0</td>\n",
       "      <td>77</td>\n",
       "      <td>AKWA IBOM</td>\n",
       "      <td>Yes</td>\n",
       "      <td>Married</td>\n",
       "      <td>No</td>\n",
       "      <td>No</td>\n",
       "      <td>1</td>\n",
       "      <td>0</td>\n",
       "    </tr>\n",
       "  </tbody>\n",
       "</table>\n",
       "</div>"
      ],
      "text/plain": [
       "    EmployeeNo                               Division        Qualification  \\\n",
       "0  YAK/S/00001         Commercial Sales and Marketing     MSc, MBA and PhD   \n",
       "1  YAK/S/00002  Customer Support and Field Operations  First Degree or HND   \n",
       "2  YAK/S/00003         Commercial Sales and Marketing  First Degree or HND   \n",
       "3  YAK/S/00004         Commercial Sales and Marketing  First Degree or HND   \n",
       "4  YAK/S/00006               Information and Strategy  First Degree or HND   \n",
       "\n",
       "   Gender   Channel_of_Recruitment  Trainings_Attended  Year_of_birth  \\\n",
       "0  Female  Direct Internal process                   2           1986   \n",
       "1    Male        Agency and others                   2           1991   \n",
       "2    Male  Direct Internal process                   2           1987   \n",
       "3    Male        Agency and others                   3           1982   \n",
       "4    Male  Direct Internal process                   3           1990   \n",
       "\n",
       "   Last_performance_score  Year_of_recruitment  Targets_met  Previous_Award  \\\n",
       "0                    12.5                 2011            1               0   \n",
       "1                    12.5                 2015            0               0   \n",
       "2                     7.5                 2012            0               0   \n",
       "3                     2.5                 2009            0               0   \n",
       "4                     7.5                 2012            0               0   \n",
       "\n",
       "   Training_score_average State_Of_Origin Foreign_schooled Marital_Status  \\\n",
       "0                      41         ANAMBRA               No        Married   \n",
       "1                      52         ANAMBRA              Yes        Married   \n",
       "2                      42         KATSINA              Yes        Married   \n",
       "3                      42           NIGER              Yes         Single   \n",
       "4                      77       AKWA IBOM              Yes        Married   \n",
       "\n",
       "  Past_Disciplinary_Action Previous_IntraDepartmental_Movement  \\\n",
       "0                       No                                  No   \n",
       "1                       No                                  No   \n",
       "2                       No                                  No   \n",
       "3                       No                                  No   \n",
       "4                       No                                  No   \n",
       "\n",
       "  No_of_previous_employers  Promoted_or_Not  \n",
       "0                        0                0  \n",
       "1                        0                0  \n",
       "2                        0                0  \n",
       "3                        1                0  \n",
       "4                        1                0  "
      ]
     },
     "execution_count": 222,
     "metadata": {},
     "output_type": "execute_result"
    }
   ],
   "source": [
    "train.head()"
   ]
  },
  {
   "cell_type": "markdown",
   "metadata": {},
   "source": [
    "##### CHECKING FOR NULL VALUES"
   ]
  },
  {
   "cell_type": "code",
   "execution_count": 223,
   "metadata": {},
   "outputs": [
    {
     "name": "stdout",
     "output_type": "stream",
     "text": [
      "<class 'pandas.core.frame.DataFrame'>\n",
      "RangeIndex: 38312 entries, 0 to 38311\n",
      "Data columns (total 19 columns):\n",
      "EmployeeNo                             38312 non-null object\n",
      "Division                               38312 non-null object\n",
      "Qualification                          38312 non-null object\n",
      "Gender                                 38312 non-null object\n",
      "Channel_of_Recruitment                 38312 non-null object\n",
      "Trainings_Attended                     38312 non-null int64\n",
      "Year_of_birth                          38312 non-null int64\n",
      "Last_performance_score                 38312 non-null float64\n",
      "Year_of_recruitment                    38312 non-null int64\n",
      "Targets_met                            38312 non-null int64\n",
      "Previous_Award                         38312 non-null int64\n",
      "Training_score_average                 38312 non-null int64\n",
      "State_Of_Origin                        38312 non-null object\n",
      "Foreign_schooled                       38312 non-null object\n",
      "Marital_Status                         38312 non-null object\n",
      "Past_Disciplinary_Action               38312 non-null object\n",
      "Previous_IntraDepartmental_Movement    38312 non-null object\n",
      "No_of_previous_employers               38312 non-null object\n",
      "Promoted_or_Not                        38312 non-null int64\n",
      "dtypes: float64(1), int64(7), object(11)\n",
      "memory usage: 5.6+ MB\n"
     ]
    }
   ],
   "source": [
    "train.info()"
   ]
  },
  {
   "cell_type": "code",
   "execution_count": 224,
   "metadata": {},
   "outputs": [],
   "source": [
    "train['Qualification'] = train['Qualification'].fillna(train['Qualification'].mode()[0])"
   ]
  },
  {
   "cell_type": "code",
   "execution_count": null,
   "metadata": {},
   "outputs": [],
   "source": []
  },
  {
   "cell_type": "markdown",
   "metadata": {},
   "source": [
    "#### CHECKING THE CORRELATION BETWEEN ALL RESPECTIVE FEATURES AND THE TARGETS"
   ]
  },
  {
   "cell_type": "code",
   "execution_count": 225,
   "metadata": {},
   "outputs": [
    {
     "data": {
      "text/html": [
       "<div>\n",
       "<style scoped>\n",
       "    .dataframe tbody tr th:only-of-type {\n",
       "        vertical-align: middle;\n",
       "    }\n",
       "\n",
       "    .dataframe tbody tr th {\n",
       "        vertical-align: top;\n",
       "    }\n",
       "\n",
       "    .dataframe thead th {\n",
       "        text-align: right;\n",
       "    }\n",
       "</style>\n",
       "<table border=\"1\" class=\"dataframe\">\n",
       "  <thead>\n",
       "    <tr style=\"text-align: right;\">\n",
       "      <th></th>\n",
       "      <th>Trainings_Attended</th>\n",
       "      <th>Year_of_birth</th>\n",
       "      <th>Last_performance_score</th>\n",
       "      <th>Year_of_recruitment</th>\n",
       "      <th>Targets_met</th>\n",
       "      <th>Previous_Award</th>\n",
       "      <th>Training_score_average</th>\n",
       "      <th>Promoted_or_Not</th>\n",
       "    </tr>\n",
       "  </thead>\n",
       "  <tbody>\n",
       "    <tr>\n",
       "      <th>Trainings_Attended</th>\n",
       "      <td>1.000000</td>\n",
       "      <td>0.078710</td>\n",
       "      <td>-0.062042</td>\n",
       "      <td>0.056215</td>\n",
       "      <td>-0.044789</td>\n",
       "      <td>-0.007409</td>\n",
       "      <td>0.041065</td>\n",
       "      <td>-0.024345</td>\n",
       "    </tr>\n",
       "    <tr>\n",
       "      <th>Year_of_birth</th>\n",
       "      <td>0.078710</td>\n",
       "      <td>1.000000</td>\n",
       "      <td>-0.175572</td>\n",
       "      <td>0.654666</td>\n",
       "      <td>0.025337</td>\n",
       "      <td>0.013627</td>\n",
       "      <td>0.048390</td>\n",
       "      <td>0.017991</td>\n",
       "    </tr>\n",
       "    <tr>\n",
       "      <th>Last_performance_score</th>\n",
       "      <td>-0.062042</td>\n",
       "      <td>-0.175572</td>\n",
       "      <td>1.000000</td>\n",
       "      <td>-0.190333</td>\n",
       "      <td>0.276350</td>\n",
       "      <td>0.026587</td>\n",
       "      <td>0.057836</td>\n",
       "      <td>0.119690</td>\n",
       "    </tr>\n",
       "    <tr>\n",
       "      <th>Year_of_recruitment</th>\n",
       "      <td>0.056215</td>\n",
       "      <td>0.654666</td>\n",
       "      <td>-0.190333</td>\n",
       "      <td>1.000000</td>\n",
       "      <td>0.076910</td>\n",
       "      <td>0.041995</td>\n",
       "      <td>0.037477</td>\n",
       "      <td>0.012287</td>\n",
       "    </tr>\n",
       "    <tr>\n",
       "      <th>Targets_met</th>\n",
       "      <td>-0.044789</td>\n",
       "      <td>0.025337</td>\n",
       "      <td>0.276350</td>\n",
       "      <td>0.076910</td>\n",
       "      <td>1.000000</td>\n",
       "      <td>0.092934</td>\n",
       "      <td>0.077201</td>\n",
       "      <td>0.224518</td>\n",
       "    </tr>\n",
       "    <tr>\n",
       "      <th>Previous_Award</th>\n",
       "      <td>-0.007409</td>\n",
       "      <td>0.013627</td>\n",
       "      <td>0.026587</td>\n",
       "      <td>0.041995</td>\n",
       "      <td>0.092934</td>\n",
       "      <td>1.000000</td>\n",
       "      <td>0.072360</td>\n",
       "      <td>0.201434</td>\n",
       "    </tr>\n",
       "    <tr>\n",
       "      <th>Training_score_average</th>\n",
       "      <td>0.041065</td>\n",
       "      <td>0.048390</td>\n",
       "      <td>0.057836</td>\n",
       "      <td>0.037477</td>\n",
       "      <td>0.077201</td>\n",
       "      <td>0.072360</td>\n",
       "      <td>1.000000</td>\n",
       "      <td>0.178448</td>\n",
       "    </tr>\n",
       "    <tr>\n",
       "      <th>Promoted_or_Not</th>\n",
       "      <td>-0.024345</td>\n",
       "      <td>0.017991</td>\n",
       "      <td>0.119690</td>\n",
       "      <td>0.012287</td>\n",
       "      <td>0.224518</td>\n",
       "      <td>0.201434</td>\n",
       "      <td>0.178448</td>\n",
       "      <td>1.000000</td>\n",
       "    </tr>\n",
       "  </tbody>\n",
       "</table>\n",
       "</div>"
      ],
      "text/plain": [
       "                        Trainings_Attended  Year_of_birth  \\\n",
       "Trainings_Attended                1.000000       0.078710   \n",
       "Year_of_birth                     0.078710       1.000000   \n",
       "Last_performance_score           -0.062042      -0.175572   \n",
       "Year_of_recruitment               0.056215       0.654666   \n",
       "Targets_met                      -0.044789       0.025337   \n",
       "Previous_Award                   -0.007409       0.013627   \n",
       "Training_score_average            0.041065       0.048390   \n",
       "Promoted_or_Not                  -0.024345       0.017991   \n",
       "\n",
       "                        Last_performance_score  Year_of_recruitment  \\\n",
       "Trainings_Attended                   -0.062042             0.056215   \n",
       "Year_of_birth                        -0.175572             0.654666   \n",
       "Last_performance_score                1.000000            -0.190333   \n",
       "Year_of_recruitment                  -0.190333             1.000000   \n",
       "Targets_met                           0.276350             0.076910   \n",
       "Previous_Award                        0.026587             0.041995   \n",
       "Training_score_average                0.057836             0.037477   \n",
       "Promoted_or_Not                       0.119690             0.012287   \n",
       "\n",
       "                        Targets_met  Previous_Award  Training_score_average  \\\n",
       "Trainings_Attended        -0.044789       -0.007409                0.041065   \n",
       "Year_of_birth              0.025337        0.013627                0.048390   \n",
       "Last_performance_score     0.276350        0.026587                0.057836   \n",
       "Year_of_recruitment        0.076910        0.041995                0.037477   \n",
       "Targets_met                1.000000        0.092934                0.077201   \n",
       "Previous_Award             0.092934        1.000000                0.072360   \n",
       "Training_score_average     0.077201        0.072360                1.000000   \n",
       "Promoted_or_Not            0.224518        0.201434                0.178448   \n",
       "\n",
       "                        Promoted_or_Not  \n",
       "Trainings_Attended            -0.024345  \n",
       "Year_of_birth                  0.017991  \n",
       "Last_performance_score         0.119690  \n",
       "Year_of_recruitment            0.012287  \n",
       "Targets_met                    0.224518  \n",
       "Previous_Award                 0.201434  \n",
       "Training_score_average         0.178448  \n",
       "Promoted_or_Not                1.000000  "
      ]
     },
     "execution_count": 225,
     "metadata": {},
     "output_type": "execute_result"
    }
   ],
   "source": [
    "train.corr()"
   ]
  },
  {
   "cell_type": "code",
   "execution_count": null,
   "metadata": {},
   "outputs": [],
   "source": []
  },
  {
   "cell_type": "code",
   "execution_count": 226,
   "metadata": {},
   "outputs": [
    {
     "data": {
      "text/plain": [
       "Male      26880\n",
       "Female    11432\n",
       "Name: Gender, dtype: int64"
      ]
     },
     "execution_count": 226,
     "metadata": {},
     "output_type": "execute_result"
    }
   ],
   "source": [
    "train['Gender'].value_counts()"
   ]
  },
  {
   "cell_type": "markdown",
   "metadata": {},
   "source": [
    "#### ANALYZING BY GENDER"
   ]
  },
  {
   "cell_type": "code",
   "execution_count": 227,
   "metadata": {},
   "outputs": [
    {
     "data": {
      "text/plain": [
       "0    35071\n",
       "1     3241\n",
       "Name: Promoted_or_Not, dtype: int64"
      ]
     },
     "execution_count": 227,
     "metadata": {},
     "output_type": "execute_result"
    }
   ],
   "source": [
    "train['Promoted_or_Not'].value_counts()"
   ]
  },
  {
   "cell_type": "markdown",
   "metadata": {},
   "source": [
    "#### 3241 Staff got promoted out of 38312"
   ]
  },
  {
   "cell_type": "code",
   "execution_count": 228,
   "metadata": {},
   "outputs": [
    {
     "data": {
      "text/plain": [
       "EmployeeNo                             2223\n",
       "Division                               2223\n",
       "Qualification                          2223\n",
       "Gender                                 2223\n",
       "Channel_of_Recruitment                 2223\n",
       "Trainings_Attended                     2223\n",
       "Year_of_birth                          2223\n",
       "Last_performance_score                 2223\n",
       "Year_of_recruitment                    2223\n",
       "Targets_met                            2223\n",
       "Previous_Award                         2223\n",
       "Training_score_average                 2223\n",
       "State_Of_Origin                        2223\n",
       "Foreign_schooled                       2223\n",
       "Marital_Status                         2223\n",
       "Past_Disciplinary_Action               2223\n",
       "Previous_IntraDepartmental_Movement    2223\n",
       "No_of_previous_employers               2223\n",
       "Promoted_or_Not                        2223\n",
       "dtype: int64"
      ]
     },
     "execution_count": 228,
     "metadata": {},
     "output_type": "execute_result"
    }
   ],
   "source": [
    "train[(train['Gender'] == 'Male')  & (train['Promoted_or_Not']==1)].count()"
   ]
  },
  {
   "cell_type": "markdown",
   "metadata": {},
   "source": [
    "##### 2223 males were promoted out of 3241 staff\n",
    "###### 1018 females were promoted "
   ]
  },
  {
   "cell_type": "code",
   "execution_count": 229,
   "metadata": {},
   "outputs": [
    {
     "data": {
      "text/plain": [
       "Male      26880\n",
       "Female    11432\n",
       "Name: Gender, dtype: int64"
      ]
     },
     "execution_count": 229,
     "metadata": {},
     "output_type": "execute_result"
    }
   ],
   "source": [
    "train['Gender'].value_counts()"
   ]
  },
  {
   "cell_type": "markdown",
   "metadata": {},
   "source": [
    "###### Percentage of promoted females"
   ]
  },
  {
   "cell_type": "code",
   "execution_count": 230,
   "metadata": {},
   "outputs": [
    {
     "data": {
      "text/plain": [
       "8.90482855143457"
      ]
     },
     "execution_count": 230,
     "metadata": {},
     "output_type": "execute_result"
    }
   ],
   "source": [
    "(1018/11432)*100"
   ]
  },
  {
   "cell_type": "markdown",
   "metadata": {},
   "source": [
    "###### Percentage of promoted males"
   ]
  },
  {
   "cell_type": "code",
   "execution_count": 231,
   "metadata": {},
   "outputs": [
    {
     "data": {
      "text/plain": [
       "8.270089285714285"
      ]
     },
     "execution_count": 231,
     "metadata": {},
     "output_type": "execute_result"
    }
   ],
   "source": [
    "(2223/26880)*100"
   ]
  },
  {
   "cell_type": "code",
   "execution_count": null,
   "metadata": {},
   "outputs": [],
   "source": []
  },
  {
   "cell_type": "markdown",
   "metadata": {},
   "source": [
    "#### ANALYZING BY MARITAL STATUS"
   ]
  },
  {
   "cell_type": "code",
   "execution_count": 232,
   "metadata": {},
   "outputs": [
    {
     "data": {
      "text/html": [
       "<div>\n",
       "<style scoped>\n",
       "    .dataframe tbody tr th:only-of-type {\n",
       "        vertical-align: middle;\n",
       "    }\n",
       "\n",
       "    .dataframe tbody tr th {\n",
       "        vertical-align: top;\n",
       "    }\n",
       "\n",
       "    .dataframe thead th {\n",
       "        text-align: right;\n",
       "    }\n",
       "</style>\n",
       "<table border=\"1\" class=\"dataframe\">\n",
       "  <thead>\n",
       "    <tr style=\"text-align: right;\">\n",
       "      <th></th>\n",
       "      <th>EmployeeNo</th>\n",
       "      <th>Division</th>\n",
       "      <th>Qualification</th>\n",
       "      <th>Gender</th>\n",
       "      <th>Channel_of_Recruitment</th>\n",
       "      <th>Trainings_Attended</th>\n",
       "      <th>Year_of_birth</th>\n",
       "      <th>Last_performance_score</th>\n",
       "      <th>Year_of_recruitment</th>\n",
       "      <th>Targets_met</th>\n",
       "      <th>Previous_Award</th>\n",
       "      <th>Training_score_average</th>\n",
       "      <th>State_Of_Origin</th>\n",
       "      <th>Foreign_schooled</th>\n",
       "      <th>Past_Disciplinary_Action</th>\n",
       "      <th>Previous_IntraDepartmental_Movement</th>\n",
       "      <th>No_of_previous_employers</th>\n",
       "      <th>Promoted_or_Not</th>\n",
       "    </tr>\n",
       "    <tr>\n",
       "      <th>Marital_Status</th>\n",
       "      <th></th>\n",
       "      <th></th>\n",
       "      <th></th>\n",
       "      <th></th>\n",
       "      <th></th>\n",
       "      <th></th>\n",
       "      <th></th>\n",
       "      <th></th>\n",
       "      <th></th>\n",
       "      <th></th>\n",
       "      <th></th>\n",
       "      <th></th>\n",
       "      <th></th>\n",
       "      <th></th>\n",
       "      <th></th>\n",
       "      <th></th>\n",
       "      <th></th>\n",
       "      <th></th>\n",
       "    </tr>\n",
       "  </thead>\n",
       "  <tbody>\n",
       "    <tr>\n",
       "      <th>Married</th>\n",
       "      <td>YAK/S/54807</td>\n",
       "      <td>Sourcing and Purchasing</td>\n",
       "      <td>Non-University Education</td>\n",
       "      <td>Male</td>\n",
       "      <td>Referral and Special candidates</td>\n",
       "      <td>11</td>\n",
       "      <td>2001</td>\n",
       "      <td>12.5</td>\n",
       "      <td>2018</td>\n",
       "      <td>1</td>\n",
       "      <td>1</td>\n",
       "      <td>91</td>\n",
       "      <td>ZAMFARA</td>\n",
       "      <td>Yes</td>\n",
       "      <td>Yes</td>\n",
       "      <td>Yes</td>\n",
       "      <td>More than 5</td>\n",
       "      <td>1</td>\n",
       "    </tr>\n",
       "    <tr>\n",
       "      <th>Not_Sure</th>\n",
       "      <td>YAK/S/54736</td>\n",
       "      <td>Sourcing and Purchasing</td>\n",
       "      <td>Non-University Education</td>\n",
       "      <td>Male</td>\n",
       "      <td>Referral and Special candidates</td>\n",
       "      <td>5</td>\n",
       "      <td>2001</td>\n",
       "      <td>12.5</td>\n",
       "      <td>2018</td>\n",
       "      <td>1</td>\n",
       "      <td>1</td>\n",
       "      <td>90</td>\n",
       "      <td>ZAMFARA</td>\n",
       "      <td>Yes</td>\n",
       "      <td>No</td>\n",
       "      <td>Yes</td>\n",
       "      <td>More than 5</td>\n",
       "      <td>1</td>\n",
       "    </tr>\n",
       "    <tr>\n",
       "      <th>Single</th>\n",
       "      <td>YAK/S/54808</td>\n",
       "      <td>Sourcing and Purchasing</td>\n",
       "      <td>Non-University Education</td>\n",
       "      <td>Male</td>\n",
       "      <td>Referral and Special candidates</td>\n",
       "      <td>9</td>\n",
       "      <td>2001</td>\n",
       "      <td>12.5</td>\n",
       "      <td>2018</td>\n",
       "      <td>1</td>\n",
       "      <td>1</td>\n",
       "      <td>91</td>\n",
       "      <td>ZAMFARA</td>\n",
       "      <td>Yes</td>\n",
       "      <td>Yes</td>\n",
       "      <td>Yes</td>\n",
       "      <td>More than 5</td>\n",
       "      <td>1</td>\n",
       "    </tr>\n",
       "  </tbody>\n",
       "</table>\n",
       "</div>"
      ],
      "text/plain": [
       "                 EmployeeNo                 Division  \\\n",
       "Marital_Status                                         \n",
       "Married         YAK/S/54807  Sourcing and Purchasing   \n",
       "Not_Sure        YAK/S/54736  Sourcing and Purchasing   \n",
       "Single          YAK/S/54808  Sourcing and Purchasing   \n",
       "\n",
       "                           Qualification Gender  \\\n",
       "Marital_Status                                    \n",
       "Married         Non-University Education   Male   \n",
       "Not_Sure        Non-University Education   Male   \n",
       "Single          Non-University Education   Male   \n",
       "\n",
       "                         Channel_of_Recruitment  Trainings_Attended  \\\n",
       "Marital_Status                                                        \n",
       "Married         Referral and Special candidates                  11   \n",
       "Not_Sure        Referral and Special candidates                   5   \n",
       "Single          Referral and Special candidates                   9   \n",
       "\n",
       "                Year_of_birth  Last_performance_score  Year_of_recruitment  \\\n",
       "Marital_Status                                                               \n",
       "Married                  2001                    12.5                 2018   \n",
       "Not_Sure                 2001                    12.5                 2018   \n",
       "Single                   2001                    12.5                 2018   \n",
       "\n",
       "                Targets_met  Previous_Award  Training_score_average  \\\n",
       "Marital_Status                                                        \n",
       "Married                   1               1                      91   \n",
       "Not_Sure                  1               1                      90   \n",
       "Single                    1               1                      91   \n",
       "\n",
       "               State_Of_Origin Foreign_schooled Past_Disciplinary_Action  \\\n",
       "Marital_Status                                                             \n",
       "Married                ZAMFARA              Yes                      Yes   \n",
       "Not_Sure               ZAMFARA              Yes                       No   \n",
       "Single                 ZAMFARA              Yes                      Yes   \n",
       "\n",
       "               Previous_IntraDepartmental_Movement No_of_previous_employers  \\\n",
       "Marital_Status                                                                \n",
       "Married                                        Yes              More than 5   \n",
       "Not_Sure                                       Yes              More than 5   \n",
       "Single                                         Yes              More than 5   \n",
       "\n",
       "                Promoted_or_Not  \n",
       "Marital_Status                   \n",
       "Married                       1  \n",
       "Not_Sure                      1  \n",
       "Single                        1  "
      ]
     },
     "execution_count": 232,
     "metadata": {},
     "output_type": "execute_result"
    }
   ],
   "source": [
    "train.groupby('Marital_Status').max().sort_values(['Promoted_or_Not'], ascending=False)"
   ]
  },
  {
   "cell_type": "code",
   "execution_count": 233,
   "metadata": {},
   "outputs": [
    {
     "data": {
      "text/plain": [
       "EmployeeNo                             15\n",
       "Division                               15\n",
       "Qualification                          15\n",
       "Gender                                 15\n",
       "Channel_of_Recruitment                 15\n",
       "Trainings_Attended                     15\n",
       "Year_of_birth                          15\n",
       "Last_performance_score                 15\n",
       "Year_of_recruitment                    15\n",
       "Targets_met                            15\n",
       "Previous_Award                         15\n",
       "Training_score_average                 15\n",
       "State_Of_Origin                        15\n",
       "Foreign_schooled                       15\n",
       "Marital_Status                         15\n",
       "Past_Disciplinary_Action               15\n",
       "Previous_IntraDepartmental_Movement    15\n",
       "No_of_previous_employers               15\n",
       "Promoted_or_Not                        15\n",
       "dtype: int64"
      ]
     },
     "execution_count": 233,
     "metadata": {},
     "output_type": "execute_result"
    }
   ],
   "source": [
    "train[(train['Gender']=='Female') & (train['Marital_Status']=='Not_Sure') & (train['Promoted_or_Not']==1)].count()"
   ]
  },
  {
   "cell_type": "code",
   "execution_count": 234,
   "metadata": {},
   "outputs": [],
   "source": [
    "# train[(train['Gender']=='Male') & (train['Marital_Status']=='Single') & (train['Promoted_or_Not']==1)].count()"
   ]
  },
  {
   "cell_type": "markdown",
   "metadata": {},
   "source": [
    "###### Percentage of promoted males who are married, single, not_sure"
   ]
  },
  {
   "cell_type": "code",
   "execution_count": 235,
   "metadata": {},
   "outputs": [
    {
     "data": {
      "text/plain": [
       "80.61178587494376"
      ]
     },
     "execution_count": 235,
     "metadata": {},
     "output_type": "execute_result"
    }
   ],
   "source": [
    "(1792/2223)*100"
   ]
  },
  {
   "cell_type": "code",
   "execution_count": 236,
   "metadata": {},
   "outputs": [
    {
     "data": {
      "text/plain": [
       "1.0796221322537112"
      ]
     },
     "execution_count": 236,
     "metadata": {},
     "output_type": "execute_result"
    }
   ],
   "source": [
    "(24/2223)*100"
   ]
  },
  {
   "cell_type": "code",
   "execution_count": 237,
   "metadata": {},
   "outputs": [
    {
     "data": {
      "text/plain": [
       "18.30859199280252"
      ]
     },
     "execution_count": 237,
     "metadata": {},
     "output_type": "execute_result"
    }
   ],
   "source": [
    "(407/2223)*100"
   ]
  },
  {
   "cell_type": "markdown",
   "metadata": {},
   "source": [
    "###### Percentage of promoted females who are married, single, not_sure"
   ]
  },
  {
   "cell_type": "code",
   "execution_count": 238,
   "metadata": {},
   "outputs": [
    {
     "data": {
      "text/plain": [
       "82.90766208251473"
      ]
     },
     "execution_count": 238,
     "metadata": {},
     "output_type": "execute_result"
    }
   ],
   "source": [
    "(844/1018)*100"
   ]
  },
  {
   "cell_type": "code",
   "execution_count": 239,
   "metadata": {},
   "outputs": [
    {
     "data": {
      "text/plain": [
       "15.618860510805503"
      ]
     },
     "execution_count": 239,
     "metadata": {},
     "output_type": "execute_result"
    }
   ],
   "source": [
    "(159/1018)*100"
   ]
  },
  {
   "cell_type": "code",
   "execution_count": 240,
   "metadata": {},
   "outputs": [
    {
     "data": {
      "text/plain": [
       "1.4734774066797642"
      ]
     },
     "execution_count": 240,
     "metadata": {},
     "output_type": "execute_result"
    }
   ],
   "source": [
    "(15/1018)*100"
   ]
  },
  {
   "cell_type": "markdown",
   "metadata": {},
   "source": [
    "###### Total married Staff"
   ]
  },
  {
   "cell_type": "code",
   "execution_count": 241,
   "metadata": {},
   "outputs": [
    {
     "data": {
      "text/plain": [
       "2636"
      ]
     },
     "execution_count": 241,
     "metadata": {},
     "output_type": "execute_result"
    }
   ],
   "source": [
    "1792+844"
   ]
  },
  {
   "cell_type": "code",
   "execution_count": 242,
   "metadata": {},
   "outputs": [
    {
     "data": {
      "text/plain": [
       "81.33292193767355"
      ]
     },
     "execution_count": 242,
     "metadata": {},
     "output_type": "execute_result"
    }
   ],
   "source": [
    "(2636/3241)*100"
   ]
  },
  {
   "cell_type": "markdown",
   "metadata": {},
   "source": [
    "###### 81.33% of the total promoted staff are married"
   ]
  },
  {
   "cell_type": "code",
   "execution_count": null,
   "metadata": {},
   "outputs": [],
   "source": []
  },
  {
   "cell_type": "code",
   "execution_count": null,
   "metadata": {},
   "outputs": [],
   "source": []
  },
  {
   "cell_type": "markdown",
   "metadata": {},
   "source": [
    "#### ANALYZING BY QUALIFICATION"
   ]
  },
  {
   "cell_type": "code",
   "execution_count": 243,
   "metadata": {},
   "outputs": [
    {
     "data": {
      "text/html": [
       "<div>\n",
       "<style scoped>\n",
       "    .dataframe tbody tr th:only-of-type {\n",
       "        vertical-align: middle;\n",
       "    }\n",
       "\n",
       "    .dataframe tbody tr th {\n",
       "        vertical-align: top;\n",
       "    }\n",
       "\n",
       "    .dataframe thead th {\n",
       "        text-align: right;\n",
       "    }\n",
       "</style>\n",
       "<table border=\"1\" class=\"dataframe\">\n",
       "  <thead>\n",
       "    <tr style=\"text-align: right;\">\n",
       "      <th></th>\n",
       "      <th>EmployeeNo</th>\n",
       "      <th>Division</th>\n",
       "      <th>Gender</th>\n",
       "      <th>Channel_of_Recruitment</th>\n",
       "      <th>Trainings_Attended</th>\n",
       "      <th>Year_of_birth</th>\n",
       "      <th>Last_performance_score</th>\n",
       "      <th>Year_of_recruitment</th>\n",
       "      <th>Targets_met</th>\n",
       "      <th>Previous_Award</th>\n",
       "      <th>Training_score_average</th>\n",
       "      <th>State_Of_Origin</th>\n",
       "      <th>Foreign_schooled</th>\n",
       "      <th>Marital_Status</th>\n",
       "      <th>Past_Disciplinary_Action</th>\n",
       "      <th>Previous_IntraDepartmental_Movement</th>\n",
       "      <th>No_of_previous_employers</th>\n",
       "      <th>Promoted_or_Not</th>\n",
       "    </tr>\n",
       "    <tr>\n",
       "      <th>Qualification</th>\n",
       "      <th></th>\n",
       "      <th></th>\n",
       "      <th></th>\n",
       "      <th></th>\n",
       "      <th></th>\n",
       "      <th></th>\n",
       "      <th></th>\n",
       "      <th></th>\n",
       "      <th></th>\n",
       "      <th></th>\n",
       "      <th></th>\n",
       "      <th></th>\n",
       "      <th></th>\n",
       "      <th></th>\n",
       "      <th></th>\n",
       "      <th></th>\n",
       "      <th></th>\n",
       "      <th></th>\n",
       "    </tr>\n",
       "  </thead>\n",
       "  <tbody>\n",
       "    <tr>\n",
       "      <th>First Degree or HND</th>\n",
       "      <td>YAK/S/54808</td>\n",
       "      <td>Sourcing and Purchasing</td>\n",
       "      <td>Male</td>\n",
       "      <td>Referral and Special candidates</td>\n",
       "      <td>11</td>\n",
       "      <td>2001</td>\n",
       "      <td>12.5</td>\n",
       "      <td>2018</td>\n",
       "      <td>1</td>\n",
       "      <td>1</td>\n",
       "      <td>91</td>\n",
       "      <td>ZAMFARA</td>\n",
       "      <td>Yes</td>\n",
       "      <td>Single</td>\n",
       "      <td>Yes</td>\n",
       "      <td>Yes</td>\n",
       "      <td>More than 5</td>\n",
       "      <td>1</td>\n",
       "    </tr>\n",
       "    <tr>\n",
       "      <th>MSc, MBA and PhD</th>\n",
       "      <td>YAK/S/54805</td>\n",
       "      <td>Sourcing and Purchasing</td>\n",
       "      <td>Male</td>\n",
       "      <td>Referral and Special candidates</td>\n",
       "      <td>11</td>\n",
       "      <td>2001</td>\n",
       "      <td>12.5</td>\n",
       "      <td>2018</td>\n",
       "      <td>1</td>\n",
       "      <td>1</td>\n",
       "      <td>91</td>\n",
       "      <td>ZAMFARA</td>\n",
       "      <td>Yes</td>\n",
       "      <td>Single</td>\n",
       "      <td>Yes</td>\n",
       "      <td>Yes</td>\n",
       "      <td>More than 5</td>\n",
       "      <td>1</td>\n",
       "    </tr>\n",
       "    <tr>\n",
       "      <th>Non-University Education</th>\n",
       "      <td>YAK/S/54783</td>\n",
       "      <td>Sourcing and Purchasing</td>\n",
       "      <td>Male</td>\n",
       "      <td>Referral and Special candidates</td>\n",
       "      <td>5</td>\n",
       "      <td>2001</td>\n",
       "      <td>12.5</td>\n",
       "      <td>2018</td>\n",
       "      <td>1</td>\n",
       "      <td>1</td>\n",
       "      <td>89</td>\n",
       "      <td>ZAMFARA</td>\n",
       "      <td>Yes</td>\n",
       "      <td>Single</td>\n",
       "      <td>Yes</td>\n",
       "      <td>Yes</td>\n",
       "      <td>More than 5</td>\n",
       "      <td>1</td>\n",
       "    </tr>\n",
       "  </tbody>\n",
       "</table>\n",
       "</div>"
      ],
      "text/plain": [
       "                           EmployeeNo                 Division Gender  \\\n",
       "Qualification                                                           \n",
       "First Degree or HND       YAK/S/54808  Sourcing and Purchasing   Male   \n",
       "MSc, MBA and PhD          YAK/S/54805  Sourcing and Purchasing   Male   \n",
       "Non-University Education  YAK/S/54783  Sourcing and Purchasing   Male   \n",
       "\n",
       "                                   Channel_of_Recruitment  Trainings_Attended  \\\n",
       "Qualification                                                                   \n",
       "First Degree or HND       Referral and Special candidates                  11   \n",
       "MSc, MBA and PhD          Referral and Special candidates                  11   \n",
       "Non-University Education  Referral and Special candidates                   5   \n",
       "\n",
       "                          Year_of_birth  Last_performance_score  \\\n",
       "Qualification                                                     \n",
       "First Degree or HND                2001                    12.5   \n",
       "MSc, MBA and PhD                   2001                    12.5   \n",
       "Non-University Education           2001                    12.5   \n",
       "\n",
       "                          Year_of_recruitment  Targets_met  Previous_Award  \\\n",
       "Qualification                                                                \n",
       "First Degree or HND                      2018            1               1   \n",
       "MSc, MBA and PhD                         2018            1               1   \n",
       "Non-University Education                 2018            1               1   \n",
       "\n",
       "                          Training_score_average State_Of_Origin  \\\n",
       "Qualification                                                      \n",
       "First Degree or HND                           91         ZAMFARA   \n",
       "MSc, MBA and PhD                              91         ZAMFARA   \n",
       "Non-University Education                      89         ZAMFARA   \n",
       "\n",
       "                         Foreign_schooled Marital_Status  \\\n",
       "Qualification                                              \n",
       "First Degree or HND                   Yes         Single   \n",
       "MSc, MBA and PhD                      Yes         Single   \n",
       "Non-University Education              Yes         Single   \n",
       "\n",
       "                         Past_Disciplinary_Action  \\\n",
       "Qualification                                       \n",
       "First Degree or HND                           Yes   \n",
       "MSc, MBA and PhD                              Yes   \n",
       "Non-University Education                      Yes   \n",
       "\n",
       "                         Previous_IntraDepartmental_Movement  \\\n",
       "Qualification                                                  \n",
       "First Degree or HND                                      Yes   \n",
       "MSc, MBA and PhD                                         Yes   \n",
       "Non-University Education                                 Yes   \n",
       "\n",
       "                         No_of_previous_employers  Promoted_or_Not  \n",
       "Qualification                                                       \n",
       "First Degree or HND                   More than 5                1  \n",
       "MSc, MBA and PhD                      More than 5                1  \n",
       "Non-University Education              More than 5                1  "
      ]
     },
     "execution_count": 243,
     "metadata": {},
     "output_type": "execute_result"
    }
   ],
   "source": [
    "train.groupby('Qualification').max().sort_values(['Promoted_or_Not'], ascending=False)"
   ]
  },
  {
   "cell_type": "code",
   "execution_count": 244,
   "metadata": {},
   "outputs": [
    {
     "data": {
      "text/plain": [
       "First Degree or HND         27257\n",
       "MSc, MBA and PhD            10469\n",
       "Non-University Education      586\n",
       "Name: Qualification, dtype: int64"
      ]
     },
     "execution_count": 244,
     "metadata": {},
     "output_type": "execute_result"
    }
   ],
   "source": [
    "train['Qualification'].value_counts()"
   ]
  },
  {
   "cell_type": "markdown",
   "metadata": {},
   "source": [
    "###### Number of males with first degrees"
   ]
  },
  {
   "cell_type": "code",
   "execution_count": 245,
   "metadata": {},
   "outputs": [],
   "source": [
    "# train[(train['Qualification'] == 'First Degree or HND') & (train['Gender'] == 'Male')].count()"
   ]
  },
  {
   "cell_type": "markdown",
   "metadata": {},
   "source": [
    "###### Number of females with first degrees"
   ]
  },
  {
   "cell_type": "code",
   "execution_count": 246,
   "metadata": {},
   "outputs": [],
   "source": [
    "# train[(train['Qualification'] == 'First Degree or HND') & (train['Gender'] == 'Female')].count()"
   ]
  },
  {
   "cell_type": "markdown",
   "metadata": {},
   "source": [
    "###### Number of promoted males with first degrees"
   ]
  },
  {
   "cell_type": "code",
   "execution_count": 247,
   "metadata": {},
   "outputs": [],
   "source": [
    "# train[(train['Qualification'] == 'First Degree or HND') & (train['Gender'] == 'Male') & (train['Promoted_or_Not']==1)].count()"
   ]
  },
  {
   "cell_type": "markdown",
   "metadata": {},
   "source": [
    "###### Number of promoted females with First degrees"
   ]
  },
  {
   "cell_type": "code",
   "execution_count": 248,
   "metadata": {},
   "outputs": [],
   "source": [
    "# train[(train['Qualification'] == 'First Degree or HND') & (train['Gender'] == 'Female') & (train['Promoted_or_Not']==1)].count()"
   ]
  },
  {
   "cell_type": "markdown",
   "metadata": {},
   "source": [
    "###### Total promoted staff with First Degrees"
   ]
  },
  {
   "cell_type": "code",
   "execution_count": 249,
   "metadata": {},
   "outputs": [
    {
     "data": {
      "text/plain": [
       "2177"
      ]
     },
     "execution_count": 249,
     "metadata": {},
     "output_type": "execute_result"
    }
   ],
   "source": [
    "1517+660"
   ]
  },
  {
   "cell_type": "markdown",
   "metadata": {},
   "source": [
    "###### Percentage of First Degrees of the total staff with first degrees"
   ]
  },
  {
   "cell_type": "code",
   "execution_count": 250,
   "metadata": {},
   "outputs": [
    {
     "data": {
      "text/plain": [
       "7.986939134901126"
      ]
     },
     "execution_count": 250,
     "metadata": {},
     "output_type": "execute_result"
    }
   ],
   "source": [
    "(2177/27257)*100"
   ]
  },
  {
   "cell_type": "markdown",
   "metadata": {},
   "source": [
    "#### (MSc, MBA and PhD) Qualification"
   ]
  },
  {
   "cell_type": "markdown",
   "metadata": {},
   "source": [
    "**** Number Of Males with (MSc, MBA and PhD) qualification"
   ]
  },
  {
   "cell_type": "code",
   "execution_count": 251,
   "metadata": {},
   "outputs": [],
   "source": [
    "# train[(train['Qualification'] =='MSc, MBA and PhD') & (train['Gender']=='Male')].count()"
   ]
  },
  {
   "cell_type": "markdown",
   "metadata": {},
   "source": [
    "****** Number of promoted males with (MSc, MBA and PhD) Qualification"
   ]
  },
  {
   "cell_type": "code",
   "execution_count": 252,
   "metadata": {},
   "outputs": [],
   "source": [
    "# train[(train['Qualification'] =='MSc, MBA and PhD') & (train['Gender']=='Male') & (train['Promoted_or_Not']==1)].count()"
   ]
  },
  {
   "cell_type": "markdown",
   "metadata": {},
   "source": [
    "**** Number Of Females with (MSc, MBA and PhD) qualification"
   ]
  },
  {
   "cell_type": "code",
   "execution_count": 253,
   "metadata": {},
   "outputs": [],
   "source": [
    "# train[(train['Qualification'] =='MSc, MBA and PhD') & (train['Gender']=='Female')].count()"
   ]
  },
  {
   "cell_type": "markdown",
   "metadata": {},
   "source": [
    "***** Number of promoted females with (MSc, MBA and PhD) Qualification"
   ]
  },
  {
   "cell_type": "code",
   "execution_count": 254,
   "metadata": {},
   "outputs": [],
   "source": [
    "# train[(train['Qualification'] =='MSc, MBA and PhD') & (train['Gender']=='Female') & (train['Promoted_or_Not']==1)].count()"
   ]
  },
  {
   "cell_type": "markdown",
   "metadata": {},
   "source": [
    "###### Total promoted Staff with (MSc, MBA and PhD) Qualification"
   ]
  },
  {
   "cell_type": "code",
   "execution_count": 255,
   "metadata": {},
   "outputs": [
    {
     "data": {
      "text/plain": [
       "1012"
      ]
     },
     "execution_count": 255,
     "metadata": {},
     "output_type": "execute_result"
    }
   ],
   "source": [
    "670+342"
   ]
  },
  {
   "cell_type": "markdown",
   "metadata": {},
   "source": [
    "###### Percentage of the (MSc, MBA and PhD) of the total staff with (MSc, MBA and PhD)"
   ]
  },
  {
   "cell_type": "code",
   "execution_count": 256,
   "metadata": {},
   "outputs": [
    {
     "data": {
      "text/plain": [
       "9.666634826631006"
      ]
     },
     "execution_count": 256,
     "metadata": {},
     "output_type": "execute_result"
    }
   ],
   "source": [
    "(1012/10469)*100"
   ]
  },
  {
   "cell_type": "markdown",
   "metadata": {},
   "source": [
    "#### Non-University Education"
   ]
  },
  {
   "cell_type": "code",
   "execution_count": 257,
   "metadata": {},
   "outputs": [],
   "source": [
    "# train[(train['Qualification'] =='Non-University Education') & (train['Gender']=='Male')].count()"
   ]
  },
  {
   "cell_type": "code",
   "execution_count": 258,
   "metadata": {},
   "outputs": [],
   "source": [
    "# train[(train['Qualification'] =='Non-University Education') & (train['Gender']=='Female')].count()"
   ]
  },
  {
   "cell_type": "code",
   "execution_count": 259,
   "metadata": {},
   "outputs": [],
   "source": [
    "# train[(train['Qualification'] =='Non-University Education') & (train['Gender']=='Male') & (train['Promoted_or_Not']==1)].count()"
   ]
  },
  {
   "cell_type": "code",
   "execution_count": 260,
   "metadata": {},
   "outputs": [],
   "source": [
    "# train[(train['Qualification'] =='Non-University Education') & (train['Gender']=='Female') & (train['Promoted_or_Not']==1)].count()"
   ]
  },
  {
   "cell_type": "markdown",
   "metadata": {},
   "source": [
    "#### Total Number of promoted staff with Non-University Qualification"
   ]
  },
  {
   "cell_type": "code",
   "execution_count": 261,
   "metadata": {},
   "outputs": [
    {
     "data": {
      "text/plain": [
       "52"
      ]
     },
     "execution_count": 261,
     "metadata": {},
     "output_type": "execute_result"
    }
   ],
   "source": [
    "36+16"
   ]
  },
  {
   "cell_type": "markdown",
   "metadata": {},
   "source": [
    "###### % of promoted staff with (Non-University Qualification)"
   ]
  },
  {
   "cell_type": "code",
   "execution_count": 262,
   "metadata": {},
   "outputs": [
    {
     "data": {
      "text/plain": [
       "8.873720136518772"
      ]
     },
     "execution_count": 262,
     "metadata": {},
     "output_type": "execute_result"
    }
   ],
   "source": [
    "(52/586)*100"
   ]
  },
  {
   "cell_type": "code",
   "execution_count": null,
   "metadata": {},
   "outputs": [],
   "source": []
  },
  {
   "cell_type": "code",
   "execution_count": null,
   "metadata": {},
   "outputs": [],
   "source": []
  },
  {
   "cell_type": "code",
   "execution_count": null,
   "metadata": {},
   "outputs": [],
   "source": []
  },
  {
   "cell_type": "markdown",
   "metadata": {},
   "source": [
    "#### ANALYZING FOREIGN SCHOOLED"
   ]
  },
  {
   "cell_type": "code",
   "execution_count": 263,
   "metadata": {},
   "outputs": [
    {
     "data": {
      "text/plain": [
       "Yes    34995\n",
       "No      3317\n",
       "Name: Foreign_schooled, dtype: int64"
      ]
     },
     "execution_count": 263,
     "metadata": {},
     "output_type": "execute_result"
    }
   ],
   "source": [
    "train['Foreign_schooled'].value_counts()"
   ]
  },
  {
   "cell_type": "code",
   "execution_count": 264,
   "metadata": {},
   "outputs": [
    {
     "data": {
      "text/html": [
       "<div>\n",
       "<style scoped>\n",
       "    .dataframe tbody tr th:only-of-type {\n",
       "        vertical-align: middle;\n",
       "    }\n",
       "\n",
       "    .dataframe tbody tr th {\n",
       "        vertical-align: top;\n",
       "    }\n",
       "\n",
       "    .dataframe thead th {\n",
       "        text-align: right;\n",
       "    }\n",
       "</style>\n",
       "<table border=\"1\" class=\"dataframe\">\n",
       "  <thead>\n",
       "    <tr style=\"text-align: right;\">\n",
       "      <th></th>\n",
       "      <th>EmployeeNo</th>\n",
       "      <th>Division</th>\n",
       "      <th>Qualification</th>\n",
       "      <th>Gender</th>\n",
       "      <th>Channel_of_Recruitment</th>\n",
       "      <th>Trainings_Attended</th>\n",
       "      <th>Year_of_birth</th>\n",
       "      <th>Last_performance_score</th>\n",
       "      <th>Year_of_recruitment</th>\n",
       "      <th>Targets_met</th>\n",
       "      <th>Previous_Award</th>\n",
       "      <th>Training_score_average</th>\n",
       "      <th>State_Of_Origin</th>\n",
       "      <th>Marital_Status</th>\n",
       "      <th>Past_Disciplinary_Action</th>\n",
       "      <th>Previous_IntraDepartmental_Movement</th>\n",
       "      <th>No_of_previous_employers</th>\n",
       "      <th>Promoted_or_Not</th>\n",
       "    </tr>\n",
       "    <tr>\n",
       "      <th>Foreign_schooled</th>\n",
       "      <th></th>\n",
       "      <th></th>\n",
       "      <th></th>\n",
       "      <th></th>\n",
       "      <th></th>\n",
       "      <th></th>\n",
       "      <th></th>\n",
       "      <th></th>\n",
       "      <th></th>\n",
       "      <th></th>\n",
       "      <th></th>\n",
       "      <th></th>\n",
       "      <th></th>\n",
       "      <th></th>\n",
       "      <th></th>\n",
       "      <th></th>\n",
       "      <th></th>\n",
       "      <th></th>\n",
       "    </tr>\n",
       "  </thead>\n",
       "  <tbody>\n",
       "    <tr>\n",
       "      <th>No</th>\n",
       "      <td>YAK/S/54806</td>\n",
       "      <td>Sourcing and Purchasing</td>\n",
       "      <td>Non-University Education</td>\n",
       "      <td>Male</td>\n",
       "      <td>Referral and Special candidates</td>\n",
       "      <td>10</td>\n",
       "      <td>2001</td>\n",
       "      <td>12.5</td>\n",
       "      <td>2018</td>\n",
       "      <td>1</td>\n",
       "      <td>1</td>\n",
       "      <td>91</td>\n",
       "      <td>ZAMFARA</td>\n",
       "      <td>Single</td>\n",
       "      <td>Yes</td>\n",
       "      <td>Yes</td>\n",
       "      <td>More than 5</td>\n",
       "      <td>1</td>\n",
       "    </tr>\n",
       "    <tr>\n",
       "      <th>Yes</th>\n",
       "      <td>YAK/S/54808</td>\n",
       "      <td>Sourcing and Purchasing</td>\n",
       "      <td>Non-University Education</td>\n",
       "      <td>Male</td>\n",
       "      <td>Referral and Special candidates</td>\n",
       "      <td>11</td>\n",
       "      <td>2001</td>\n",
       "      <td>12.5</td>\n",
       "      <td>2018</td>\n",
       "      <td>1</td>\n",
       "      <td>1</td>\n",
       "      <td>91</td>\n",
       "      <td>ZAMFARA</td>\n",
       "      <td>Single</td>\n",
       "      <td>Yes</td>\n",
       "      <td>Yes</td>\n",
       "      <td>More than 5</td>\n",
       "      <td>1</td>\n",
       "    </tr>\n",
       "  </tbody>\n",
       "</table>\n",
       "</div>"
      ],
      "text/plain": [
       "                   EmployeeNo                 Division  \\\n",
       "Foreign_schooled                                         \n",
       "No                YAK/S/54806  Sourcing and Purchasing   \n",
       "Yes               YAK/S/54808  Sourcing and Purchasing   \n",
       "\n",
       "                             Qualification Gender  \\\n",
       "Foreign_schooled                                    \n",
       "No                Non-University Education   Male   \n",
       "Yes               Non-University Education   Male   \n",
       "\n",
       "                           Channel_of_Recruitment  Trainings_Attended  \\\n",
       "Foreign_schooled                                                        \n",
       "No                Referral and Special candidates                  10   \n",
       "Yes               Referral and Special candidates                  11   \n",
       "\n",
       "                  Year_of_birth  Last_performance_score  Year_of_recruitment  \\\n",
       "Foreign_schooled                                                               \n",
       "No                         2001                    12.5                 2018   \n",
       "Yes                        2001                    12.5                 2018   \n",
       "\n",
       "                  Targets_met  Previous_Award  Training_score_average  \\\n",
       "Foreign_schooled                                                        \n",
       "No                          1               1                      91   \n",
       "Yes                         1               1                      91   \n",
       "\n",
       "                 State_Of_Origin Marital_Status Past_Disciplinary_Action  \\\n",
       "Foreign_schooled                                                           \n",
       "No                       ZAMFARA         Single                      Yes   \n",
       "Yes                      ZAMFARA         Single                      Yes   \n",
       "\n",
       "                 Previous_IntraDepartmental_Movement No_of_previous_employers  \\\n",
       "Foreign_schooled                                                                \n",
       "No                                               Yes              More than 5   \n",
       "Yes                                              Yes              More than 5   \n",
       "\n",
       "                  Promoted_or_Not  \n",
       "Foreign_schooled                   \n",
       "No                              1  \n",
       "Yes                             1  "
      ]
     },
     "execution_count": 264,
     "metadata": {},
     "output_type": "execute_result"
    }
   ],
   "source": [
    "train.groupby('Foreign_schooled').max().sort_values(['Promoted_or_Not'], ascending=False)"
   ]
  },
  {
   "cell_type": "markdown",
   "metadata": {},
   "source": [
    "###### Number of Promoted staff, who were foreign schooled"
   ]
  },
  {
   "cell_type": "code",
   "execution_count": 265,
   "metadata": {},
   "outputs": [
    {
     "data": {
      "text/plain": [
       "EmployeeNo                             2970\n",
       "Division                               2970\n",
       "Qualification                          2970\n",
       "Gender                                 2970\n",
       "Channel_of_Recruitment                 2970\n",
       "Trainings_Attended                     2970\n",
       "Year_of_birth                          2970\n",
       "Last_performance_score                 2970\n",
       "Year_of_recruitment                    2970\n",
       "Targets_met                            2970\n",
       "Previous_Award                         2970\n",
       "Training_score_average                 2970\n",
       "State_Of_Origin                        2970\n",
       "Foreign_schooled                       2970\n",
       "Marital_Status                         2970\n",
       "Past_Disciplinary_Action               2970\n",
       "Previous_IntraDepartmental_Movement    2970\n",
       "No_of_previous_employers               2970\n",
       "Promoted_or_Not                        2970\n",
       "dtype: int64"
      ]
     },
     "execution_count": 265,
     "metadata": {},
     "output_type": "execute_result"
    }
   ],
   "source": [
    "train[(train['Foreign_schooled'] == 'Yes') & (train['Promoted_or_Not'] == 1)].count()"
   ]
  },
  {
   "cell_type": "code",
   "execution_count": 266,
   "metadata": {},
   "outputs": [
    {
     "data": {
      "text/plain": [
       "91.63838321505709"
      ]
     },
     "execution_count": 266,
     "metadata": {},
     "output_type": "execute_result"
    }
   ],
   "source": [
    "(2970/3241)*100"
   ]
  },
  {
   "cell_type": "markdown",
   "metadata": {},
   "source": [
    "###### Number Of Promoted Staff who were not foreign schooled"
   ]
  },
  {
   "cell_type": "code",
   "execution_count": 267,
   "metadata": {},
   "outputs": [
    {
     "data": {
      "text/plain": [
       "EmployeeNo                             271\n",
       "Division                               271\n",
       "Qualification                          271\n",
       "Gender                                 271\n",
       "Channel_of_Recruitment                 271\n",
       "Trainings_Attended                     271\n",
       "Year_of_birth                          271\n",
       "Last_performance_score                 271\n",
       "Year_of_recruitment                    271\n",
       "Targets_met                            271\n",
       "Previous_Award                         271\n",
       "Training_score_average                 271\n",
       "State_Of_Origin                        271\n",
       "Foreign_schooled                       271\n",
       "Marital_Status                         271\n",
       "Past_Disciplinary_Action               271\n",
       "Previous_IntraDepartmental_Movement    271\n",
       "No_of_previous_employers               271\n",
       "Promoted_or_Not                        271\n",
       "dtype: int64"
      ]
     },
     "execution_count": 267,
     "metadata": {},
     "output_type": "execute_result"
    }
   ],
   "source": [
    "train[(train['Foreign_schooled']== 'No') & (train['Promoted_or_Not']==1)].count()"
   ]
  },
  {
   "cell_type": "code",
   "execution_count": 268,
   "metadata": {},
   "outputs": [
    {
     "data": {
      "text/plain": [
       "8.36161678494292"
      ]
     },
     "execution_count": 268,
     "metadata": {},
     "output_type": "execute_result"
    }
   ],
   "source": [
    "(271/3241)*100"
   ]
  },
  {
   "cell_type": "code",
   "execution_count": null,
   "metadata": {},
   "outputs": [],
   "source": []
  },
  {
   "cell_type": "code",
   "execution_count": null,
   "metadata": {},
   "outputs": [],
   "source": []
  },
  {
   "cell_type": "code",
   "execution_count": null,
   "metadata": {},
   "outputs": [],
   "source": []
  },
  {
   "cell_type": "markdown",
   "metadata": {},
   "source": [
    "#### TARGETS"
   ]
  },
  {
   "cell_type": "code",
   "execution_count": 269,
   "metadata": {},
   "outputs": [
    {
     "data": {
      "text/html": [
       "<div>\n",
       "<style scoped>\n",
       "    .dataframe tbody tr th:only-of-type {\n",
       "        vertical-align: middle;\n",
       "    }\n",
       "\n",
       "    .dataframe tbody tr th {\n",
       "        vertical-align: top;\n",
       "    }\n",
       "\n",
       "    .dataframe thead th {\n",
       "        text-align: right;\n",
       "    }\n",
       "</style>\n",
       "<table border=\"1\" class=\"dataframe\">\n",
       "  <thead>\n",
       "    <tr style=\"text-align: right;\">\n",
       "      <th></th>\n",
       "      <th>EmployeeNo</th>\n",
       "      <th>Division</th>\n",
       "      <th>Qualification</th>\n",
       "      <th>Gender</th>\n",
       "      <th>Channel_of_Recruitment</th>\n",
       "      <th>Trainings_Attended</th>\n",
       "      <th>Year_of_birth</th>\n",
       "      <th>Last_performance_score</th>\n",
       "      <th>Year_of_recruitment</th>\n",
       "      <th>Previous_Award</th>\n",
       "      <th>Training_score_average</th>\n",
       "      <th>State_Of_Origin</th>\n",
       "      <th>Foreign_schooled</th>\n",
       "      <th>Marital_Status</th>\n",
       "      <th>Past_Disciplinary_Action</th>\n",
       "      <th>Previous_IntraDepartmental_Movement</th>\n",
       "      <th>No_of_previous_employers</th>\n",
       "      <th>Promoted_or_Not</th>\n",
       "    </tr>\n",
       "    <tr>\n",
       "      <th>Targets_met</th>\n",
       "      <th></th>\n",
       "      <th></th>\n",
       "      <th></th>\n",
       "      <th></th>\n",
       "      <th></th>\n",
       "      <th></th>\n",
       "      <th></th>\n",
       "      <th></th>\n",
       "      <th></th>\n",
       "      <th></th>\n",
       "      <th></th>\n",
       "      <th></th>\n",
       "      <th></th>\n",
       "      <th></th>\n",
       "      <th></th>\n",
       "      <th></th>\n",
       "      <th></th>\n",
       "      <th></th>\n",
       "    </tr>\n",
       "  </thead>\n",
       "  <tbody>\n",
       "    <tr>\n",
       "      <th>0</th>\n",
       "      <td>YAK/S/54808</td>\n",
       "      <td>Sourcing and Purchasing</td>\n",
       "      <td>Non-University Education</td>\n",
       "      <td>Male</td>\n",
       "      <td>Referral and Special candidates</td>\n",
       "      <td>11</td>\n",
       "      <td>2001</td>\n",
       "      <td>12.5</td>\n",
       "      <td>2018</td>\n",
       "      <td>1</td>\n",
       "      <td>91</td>\n",
       "      <td>ZAMFARA</td>\n",
       "      <td>Yes</td>\n",
       "      <td>Single</td>\n",
       "      <td>Yes</td>\n",
       "      <td>Yes</td>\n",
       "      <td>More than 5</td>\n",
       "      <td>1</td>\n",
       "    </tr>\n",
       "    <tr>\n",
       "      <th>1</th>\n",
       "      <td>YAK/S/54806</td>\n",
       "      <td>Sourcing and Purchasing</td>\n",
       "      <td>Non-University Education</td>\n",
       "      <td>Male</td>\n",
       "      <td>Referral and Special candidates</td>\n",
       "      <td>9</td>\n",
       "      <td>2001</td>\n",
       "      <td>12.5</td>\n",
       "      <td>2018</td>\n",
       "      <td>1</td>\n",
       "      <td>91</td>\n",
       "      <td>ZAMFARA</td>\n",
       "      <td>Yes</td>\n",
       "      <td>Single</td>\n",
       "      <td>Yes</td>\n",
       "      <td>Yes</td>\n",
       "      <td>More than 5</td>\n",
       "      <td>1</td>\n",
       "    </tr>\n",
       "  </tbody>\n",
       "</table>\n",
       "</div>"
      ],
      "text/plain": [
       "              EmployeeNo                 Division             Qualification  \\\n",
       "Targets_met                                                                   \n",
       "0            YAK/S/54808  Sourcing and Purchasing  Non-University Education   \n",
       "1            YAK/S/54806  Sourcing and Purchasing  Non-University Education   \n",
       "\n",
       "            Gender           Channel_of_Recruitment  Trainings_Attended  \\\n",
       "Targets_met                                                               \n",
       "0             Male  Referral and Special candidates                  11   \n",
       "1             Male  Referral and Special candidates                   9   \n",
       "\n",
       "             Year_of_birth  Last_performance_score  Year_of_recruitment  \\\n",
       "Targets_met                                                               \n",
       "0                     2001                    12.5                 2018   \n",
       "1                     2001                    12.5                 2018   \n",
       "\n",
       "             Previous_Award  Training_score_average State_Of_Origin  \\\n",
       "Targets_met                                                           \n",
       "0                         1                      91         ZAMFARA   \n",
       "1                         1                      91         ZAMFARA   \n",
       "\n",
       "            Foreign_schooled Marital_Status Past_Disciplinary_Action  \\\n",
       "Targets_met                                                            \n",
       "0                        Yes         Single                      Yes   \n",
       "1                        Yes         Single                      Yes   \n",
       "\n",
       "            Previous_IntraDepartmental_Movement No_of_previous_employers  \\\n",
       "Targets_met                                                                \n",
       "0                                           Yes              More than 5   \n",
       "1                                           Yes              More than 5   \n",
       "\n",
       "             Promoted_or_Not  \n",
       "Targets_met                   \n",
       "0                          1  \n",
       "1                          1  "
      ]
     },
     "execution_count": 269,
     "metadata": {},
     "output_type": "execute_result"
    }
   ],
   "source": [
    "train.groupby('Targets_met').max().sort_values(['Promoted_or_Not'], ascending=False)"
   ]
  },
  {
   "cell_type": "code",
   "execution_count": 270,
   "metadata": {},
   "outputs": [
    {
     "data": {
      "text/plain": [
       "0    24788\n",
       "1    13524\n",
       "Name: Targets_met, dtype: int64"
      ]
     },
     "execution_count": 270,
     "metadata": {},
     "output_type": "execute_result"
    }
   ],
   "source": [
    "train['Targets_met'].value_counts()"
   ]
  },
  {
   "cell_type": "markdown",
   "metadata": {},
   "source": [
    "#### Number of staff who met target and were promoted"
   ]
  },
  {
   "cell_type": "code",
   "execution_count": 271,
   "metadata": {},
   "outputs": [
    {
     "data": {
      "text/plain": [
       "EmployeeNo                             2288\n",
       "Division                               2288\n",
       "Qualification                          2288\n",
       "Gender                                 2288\n",
       "Channel_of_Recruitment                 2288\n",
       "Trainings_Attended                     2288\n",
       "Year_of_birth                          2288\n",
       "Last_performance_score                 2288\n",
       "Year_of_recruitment                    2288\n",
       "Targets_met                            2288\n",
       "Previous_Award                         2288\n",
       "Training_score_average                 2288\n",
       "State_Of_Origin                        2288\n",
       "Foreign_schooled                       2288\n",
       "Marital_Status                         2288\n",
       "Past_Disciplinary_Action               2288\n",
       "Previous_IntraDepartmental_Movement    2288\n",
       "No_of_previous_employers               2288\n",
       "Promoted_or_Not                        2288\n",
       "dtype: int64"
      ]
     },
     "execution_count": 271,
     "metadata": {},
     "output_type": "execute_result"
    }
   ],
   "source": [
    "train[(train['Targets_met'] == 1) & (train['Promoted_or_Not'] == 1)].count()"
   ]
  },
  {
   "cell_type": "code",
   "execution_count": null,
   "metadata": {},
   "outputs": [],
   "source": []
  },
  {
   "cell_type": "markdown",
   "metadata": {},
   "source": [
    "#### Number of staff who met target and were not promoted"
   ]
  },
  {
   "cell_type": "code",
   "execution_count": 272,
   "metadata": {},
   "outputs": [],
   "source": [
    "# train[(train['Targets_met']==1) & (train['Promoted_or_Not']==0)].count()"
   ]
  },
  {
   "cell_type": "code",
   "execution_count": null,
   "metadata": {},
   "outputs": [],
   "source": []
  },
  {
   "cell_type": "code",
   "execution_count": 273,
   "metadata": {},
   "outputs": [],
   "source": [
    "# train[(train['Targets_met']==0) & (train['Promoted_or_Not']==1)].count()"
   ]
  },
  {
   "cell_type": "code",
   "execution_count": 274,
   "metadata": {},
   "outputs": [],
   "source": [
    "# train[(train['Targets_met']==0) & (train['Promoted_or_Not']==0)].count()"
   ]
  },
  {
   "cell_type": "code",
   "execution_count": null,
   "metadata": {},
   "outputs": [],
   "source": []
  },
  {
   "cell_type": "markdown",
   "metadata": {},
   "source": [
    "###### % of staff who met target and were promoted"
   ]
  },
  {
   "cell_type": "code",
   "execution_count": 275,
   "metadata": {},
   "outputs": [
    {
     "data": {
      "text/plain": [
       "16.91807157645667"
      ]
     },
     "execution_count": 275,
     "metadata": {},
     "output_type": "execute_result"
    }
   ],
   "source": [
    "(2288/13524)*100"
   ]
  },
  {
   "cell_type": "markdown",
   "metadata": {},
   "source": [
    "###### % of staff who met target and were not promoted"
   ]
  },
  {
   "cell_type": "code",
   "execution_count": 276,
   "metadata": {},
   "outputs": [
    {
     "data": {
      "text/plain": [
       "83.08192842354333"
      ]
     },
     "execution_count": 276,
     "metadata": {},
     "output_type": "execute_result"
    }
   ],
   "source": [
    "(11236/13524)*100"
   ]
  },
  {
   "cell_type": "markdown",
   "metadata": {},
   "source": [
    "###### % of staff who did not meet target, yet were promoted"
   ]
  },
  {
   "cell_type": "code",
   "execution_count": 277,
   "metadata": {},
   "outputs": [
    {
     "data": {
      "text/plain": [
       "3.844602226883976"
      ]
     },
     "execution_count": 277,
     "metadata": {},
     "output_type": "execute_result"
    }
   ],
   "source": [
    "(953/24788)*100"
   ]
  },
  {
   "cell_type": "markdown",
   "metadata": {},
   "source": [
    "###### % of staff who did not meet target, and they were not promoted"
   ]
  },
  {
   "cell_type": "code",
   "execution_count": 278,
   "metadata": {},
   "outputs": [
    {
     "data": {
      "text/plain": [
       "96.15539777311602"
      ]
     },
     "execution_count": 278,
     "metadata": {},
     "output_type": "execute_result"
    }
   ],
   "source": [
    "(23835/24788)*100"
   ]
  },
  {
   "cell_type": "code",
   "execution_count": null,
   "metadata": {},
   "outputs": [],
   "source": []
  },
  {
   "cell_type": "code",
   "execution_count": null,
   "metadata": {},
   "outputs": [],
   "source": []
  },
  {
   "cell_type": "code",
   "execution_count": null,
   "metadata": {},
   "outputs": [],
   "source": []
  },
  {
   "cell_type": "code",
   "execution_count": null,
   "metadata": {},
   "outputs": [],
   "source": []
  },
  {
   "cell_type": "markdown",
   "metadata": {},
   "source": [
    "###### DISCIPLINE"
   ]
  },
  {
   "cell_type": "code",
   "execution_count": 279,
   "metadata": {},
   "outputs": [
    {
     "data": {
      "text/html": [
       "<div>\n",
       "<style scoped>\n",
       "    .dataframe tbody tr th:only-of-type {\n",
       "        vertical-align: middle;\n",
       "    }\n",
       "\n",
       "    .dataframe tbody tr th {\n",
       "        vertical-align: top;\n",
       "    }\n",
       "\n",
       "    .dataframe thead th {\n",
       "        text-align: right;\n",
       "    }\n",
       "</style>\n",
       "<table border=\"1\" class=\"dataframe\">\n",
       "  <thead>\n",
       "    <tr style=\"text-align: right;\">\n",
       "      <th></th>\n",
       "      <th>EmployeeNo</th>\n",
       "      <th>Division</th>\n",
       "      <th>Qualification</th>\n",
       "      <th>Gender</th>\n",
       "      <th>Channel_of_Recruitment</th>\n",
       "      <th>Trainings_Attended</th>\n",
       "      <th>Year_of_birth</th>\n",
       "      <th>Last_performance_score</th>\n",
       "      <th>Year_of_recruitment</th>\n",
       "      <th>Targets_met</th>\n",
       "      <th>Previous_Award</th>\n",
       "      <th>Training_score_average</th>\n",
       "      <th>State_Of_Origin</th>\n",
       "      <th>Foreign_schooled</th>\n",
       "      <th>Marital_Status</th>\n",
       "      <th>Previous_IntraDepartmental_Movement</th>\n",
       "      <th>No_of_previous_employers</th>\n",
       "      <th>Promoted_or_Not</th>\n",
       "    </tr>\n",
       "    <tr>\n",
       "      <th>Past_Disciplinary_Action</th>\n",
       "      <th></th>\n",
       "      <th></th>\n",
       "      <th></th>\n",
       "      <th></th>\n",
       "      <th></th>\n",
       "      <th></th>\n",
       "      <th></th>\n",
       "      <th></th>\n",
       "      <th></th>\n",
       "      <th></th>\n",
       "      <th></th>\n",
       "      <th></th>\n",
       "      <th></th>\n",
       "      <th></th>\n",
       "      <th></th>\n",
       "      <th></th>\n",
       "      <th></th>\n",
       "      <th></th>\n",
       "    </tr>\n",
       "  </thead>\n",
       "  <tbody>\n",
       "    <tr>\n",
       "      <th>No</th>\n",
       "      <td>YAK/S/54808</td>\n",
       "      <td>Sourcing and Purchasing</td>\n",
       "      <td>Non-University Education</td>\n",
       "      <td>Male</td>\n",
       "      <td>Referral and Special candidates</td>\n",
       "      <td>11</td>\n",
       "      <td>2001</td>\n",
       "      <td>12.5</td>\n",
       "      <td>2018</td>\n",
       "      <td>1</td>\n",
       "      <td>1</td>\n",
       "      <td>91</td>\n",
       "      <td>ZAMFARA</td>\n",
       "      <td>Yes</td>\n",
       "      <td>Single</td>\n",
       "      <td>Yes</td>\n",
       "      <td>More than 5</td>\n",
       "      <td>1</td>\n",
       "    </tr>\n",
       "    <tr>\n",
       "      <th>Yes</th>\n",
       "      <td>YAK/S/54447</td>\n",
       "      <td>Sourcing and Purchasing</td>\n",
       "      <td>Non-University Education</td>\n",
       "      <td>Male</td>\n",
       "      <td>Direct Internal process</td>\n",
       "      <td>5</td>\n",
       "      <td>2000</td>\n",
       "      <td>12.5</td>\n",
       "      <td>2018</td>\n",
       "      <td>1</td>\n",
       "      <td>1</td>\n",
       "      <td>81</td>\n",
       "      <td>ZAMFARA</td>\n",
       "      <td>Yes</td>\n",
       "      <td>Single</td>\n",
       "      <td>Yes</td>\n",
       "      <td>More than 5</td>\n",
       "      <td>1</td>\n",
       "    </tr>\n",
       "  </tbody>\n",
       "</table>\n",
       "</div>"
      ],
      "text/plain": [
       "                           EmployeeNo                 Division  \\\n",
       "Past_Disciplinary_Action                                         \n",
       "No                        YAK/S/54808  Sourcing and Purchasing   \n",
       "Yes                       YAK/S/54447  Sourcing and Purchasing   \n",
       "\n",
       "                                     Qualification Gender  \\\n",
       "Past_Disciplinary_Action                                    \n",
       "No                        Non-University Education   Male   \n",
       "Yes                       Non-University Education   Male   \n",
       "\n",
       "                                   Channel_of_Recruitment  Trainings_Attended  \\\n",
       "Past_Disciplinary_Action                                                        \n",
       "No                        Referral and Special candidates                  11   \n",
       "Yes                               Direct Internal process                   5   \n",
       "\n",
       "                          Year_of_birth  Last_performance_score  \\\n",
       "Past_Disciplinary_Action                                          \n",
       "No                                 2001                    12.5   \n",
       "Yes                                2000                    12.5   \n",
       "\n",
       "                          Year_of_recruitment  Targets_met  Previous_Award  \\\n",
       "Past_Disciplinary_Action                                                     \n",
       "No                                       2018            1               1   \n",
       "Yes                                      2018            1               1   \n",
       "\n",
       "                          Training_score_average State_Of_Origin  \\\n",
       "Past_Disciplinary_Action                                           \n",
       "No                                            91         ZAMFARA   \n",
       "Yes                                           81         ZAMFARA   \n",
       "\n",
       "                         Foreign_schooled Marital_Status  \\\n",
       "Past_Disciplinary_Action                                   \n",
       "No                                    Yes         Single   \n",
       "Yes                                   Yes         Single   \n",
       "\n",
       "                         Previous_IntraDepartmental_Movement  \\\n",
       "Past_Disciplinary_Action                                       \n",
       "No                                                       Yes   \n",
       "Yes                                                      Yes   \n",
       "\n",
       "                         No_of_previous_employers  Promoted_or_Not  \n",
       "Past_Disciplinary_Action                                            \n",
       "No                                    More than 5                1  \n",
       "Yes                                   More than 5                1  "
      ]
     },
     "execution_count": 279,
     "metadata": {},
     "output_type": "execute_result"
    }
   ],
   "source": [
    "train.groupby('Past_Disciplinary_Action').max().sort_values(['Promoted_or_Not'], ascending= False)"
   ]
  },
  {
   "cell_type": "code",
   "execution_count": 280,
   "metadata": {},
   "outputs": [
    {
     "data": {
      "text/plain": [
       "No     38161\n",
       "Yes      151\n",
       "Name: Past_Disciplinary_Action, dtype: int64"
      ]
     },
     "execution_count": 280,
     "metadata": {},
     "output_type": "execute_result"
    }
   ],
   "source": [
    "train['Past_Disciplinary_Action'].value_counts()"
   ]
  },
  {
   "cell_type": "code",
   "execution_count": 281,
   "metadata": {},
   "outputs": [
    {
     "data": {
      "text/plain": [
       "EmployeeNo                             16\n",
       "Division                               16\n",
       "Qualification                          16\n",
       "Gender                                 16\n",
       "Channel_of_Recruitment                 16\n",
       "Trainings_Attended                     16\n",
       "Year_of_birth                          16\n",
       "Last_performance_score                 16\n",
       "Year_of_recruitment                    16\n",
       "Targets_met                            16\n",
       "Previous_Award                         16\n",
       "Training_score_average                 16\n",
       "State_Of_Origin                        16\n",
       "Foreign_schooled                       16\n",
       "Marital_Status                         16\n",
       "Past_Disciplinary_Action               16\n",
       "Previous_IntraDepartmental_Movement    16\n",
       "No_of_previous_employers               16\n",
       "Promoted_or_Not                        16\n",
       "dtype: int64"
      ]
     },
     "execution_count": 281,
     "metadata": {},
     "output_type": "execute_result"
    }
   ],
   "source": [
    "train[(train['Past_Disciplinary_Action'] == 'Yes') & (train['Promoted_or_Not'] == 1)].count()"
   ]
  },
  {
   "cell_type": "code",
   "execution_count": 282,
   "metadata": {},
   "outputs": [
    {
     "data": {
      "text/plain": [
       "EmployeeNo                             3225\n",
       "Division                               3225\n",
       "Qualification                          3225\n",
       "Gender                                 3225\n",
       "Channel_of_Recruitment                 3225\n",
       "Trainings_Attended                     3225\n",
       "Year_of_birth                          3225\n",
       "Last_performance_score                 3225\n",
       "Year_of_recruitment                    3225\n",
       "Targets_met                            3225\n",
       "Previous_Award                         3225\n",
       "Training_score_average                 3225\n",
       "State_Of_Origin                        3225\n",
       "Foreign_schooled                       3225\n",
       "Marital_Status                         3225\n",
       "Past_Disciplinary_Action               3225\n",
       "Previous_IntraDepartmental_Movement    3225\n",
       "No_of_previous_employers               3225\n",
       "Promoted_or_Not                        3225\n",
       "dtype: int64"
      ]
     },
     "execution_count": 282,
     "metadata": {},
     "output_type": "execute_result"
    }
   ],
   "source": [
    "train[(train['Past_Disciplinary_Action'] == 'No') & (train['Promoted_or_Not'] == 1)].count()"
   ]
  },
  {
   "cell_type": "code",
   "execution_count": 283,
   "metadata": {},
   "outputs": [
    {
     "data": {
      "text/plain": [
       "10.596026490066226"
      ]
     },
     "execution_count": 283,
     "metadata": {},
     "output_type": "execute_result"
    }
   ],
   "source": [
    "(16/151)*100"
   ]
  },
  {
   "cell_type": "code",
   "execution_count": 284,
   "metadata": {},
   "outputs": [
    {
     "data": {
      "text/plain": [
       "89.40397350993378"
      ]
     },
     "execution_count": 284,
     "metadata": {},
     "output_type": "execute_result"
    }
   ],
   "source": [
    "(135/151)*100"
   ]
  },
  {
   "cell_type": "code",
   "execution_count": null,
   "metadata": {},
   "outputs": [],
   "source": []
  },
  {
   "cell_type": "code",
   "execution_count": null,
   "metadata": {},
   "outputs": [],
   "source": []
  },
  {
   "cell_type": "markdown",
   "metadata": {},
   "source": [
    "##### AREA OF WORK"
   ]
  },
  {
   "cell_type": "code",
   "execution_count": 285,
   "metadata": {},
   "outputs": [
    {
     "data": {
      "text/plain": [
       "Commercial Sales and Marketing                 11695\n",
       "Customer Support and Field Operations           7973\n",
       "Sourcing and Purchasing                         5052\n",
       "Information Technology and Solution Support     4952\n",
       "Information and Strategy                        3721\n",
       "Business Finance Operations                     1786\n",
       "People/HR Management                            1704\n",
       "Regulatory and Legal services                    733\n",
       "Research and Innovation                          696\n",
       "Name: Division, dtype: int64"
      ]
     },
     "execution_count": 285,
     "metadata": {},
     "output_type": "execute_result"
    }
   ],
   "source": [
    "train['Division'].value_counts()"
   ]
  },
  {
   "cell_type": "code",
   "execution_count": 286,
   "metadata": {},
   "outputs": [
    {
     "data": {
      "text/html": [
       "<div>\n",
       "<style scoped>\n",
       "    .dataframe tbody tr th:only-of-type {\n",
       "        vertical-align: middle;\n",
       "    }\n",
       "\n",
       "    .dataframe tbody tr th {\n",
       "        vertical-align: top;\n",
       "    }\n",
       "\n",
       "    .dataframe thead th {\n",
       "        text-align: right;\n",
       "    }\n",
       "</style>\n",
       "<table border=\"1\" class=\"dataframe\">\n",
       "  <thead>\n",
       "    <tr style=\"text-align: right;\">\n",
       "      <th></th>\n",
       "      <th>EmployeeNo</th>\n",
       "      <th>Qualification</th>\n",
       "      <th>Gender</th>\n",
       "      <th>Channel_of_Recruitment</th>\n",
       "      <th>Trainings_Attended</th>\n",
       "      <th>Year_of_birth</th>\n",
       "      <th>Last_performance_score</th>\n",
       "      <th>Year_of_recruitment</th>\n",
       "      <th>Targets_met</th>\n",
       "      <th>Previous_Award</th>\n",
       "      <th>Training_score_average</th>\n",
       "      <th>State_Of_Origin</th>\n",
       "      <th>Foreign_schooled</th>\n",
       "      <th>Marital_Status</th>\n",
       "      <th>Past_Disciplinary_Action</th>\n",
       "      <th>Previous_IntraDepartmental_Movement</th>\n",
       "      <th>No_of_previous_employers</th>\n",
       "      <th>Promoted_or_Not</th>\n",
       "    </tr>\n",
       "    <tr>\n",
       "      <th>Division</th>\n",
       "      <th></th>\n",
       "      <th></th>\n",
       "      <th></th>\n",
       "      <th></th>\n",
       "      <th></th>\n",
       "      <th></th>\n",
       "      <th></th>\n",
       "      <th></th>\n",
       "      <th></th>\n",
       "      <th></th>\n",
       "      <th></th>\n",
       "      <th></th>\n",
       "      <th></th>\n",
       "      <th></th>\n",
       "      <th></th>\n",
       "      <th></th>\n",
       "      <th></th>\n",
       "      <th></th>\n",
       "    </tr>\n",
       "  </thead>\n",
       "  <tbody>\n",
       "    <tr>\n",
       "      <th>Business Finance Operations</th>\n",
       "      <td>YAK/S/54774</td>\n",
       "      <td>Non-University Education</td>\n",
       "      <td>Male</td>\n",
       "      <td>Referral and Special candidates</td>\n",
       "      <td>6</td>\n",
       "      <td>2001</td>\n",
       "      <td>12.5</td>\n",
       "      <td>2018</td>\n",
       "      <td>1</td>\n",
       "      <td>1</td>\n",
       "      <td>90</td>\n",
       "      <td>ZAMFARA</td>\n",
       "      <td>Yes</td>\n",
       "      <td>Single</td>\n",
       "      <td>Yes</td>\n",
       "      <td>Yes</td>\n",
       "      <td>More than 5</td>\n",
       "      <td>1</td>\n",
       "    </tr>\n",
       "    <tr>\n",
       "      <th>Commercial Sales and Marketing</th>\n",
       "      <td>YAK/S/54807</td>\n",
       "      <td>MSc, MBA and PhD</td>\n",
       "      <td>Male</td>\n",
       "      <td>Referral and Special candidates</td>\n",
       "      <td>11</td>\n",
       "      <td>2001</td>\n",
       "      <td>12.5</td>\n",
       "      <td>2018</td>\n",
       "      <td>1</td>\n",
       "      <td>1</td>\n",
       "      <td>91</td>\n",
       "      <td>ZAMFARA</td>\n",
       "      <td>Yes</td>\n",
       "      <td>Single</td>\n",
       "      <td>Yes</td>\n",
       "      <td>Yes</td>\n",
       "      <td>More than 5</td>\n",
       "      <td>1</td>\n",
       "    </tr>\n",
       "    <tr>\n",
       "      <th>Customer Support and Field Operations</th>\n",
       "      <td>YAK/S/54805</td>\n",
       "      <td>Non-University Education</td>\n",
       "      <td>Male</td>\n",
       "      <td>Referral and Special candidates</td>\n",
       "      <td>6</td>\n",
       "      <td>2001</td>\n",
       "      <td>12.5</td>\n",
       "      <td>2018</td>\n",
       "      <td>1</td>\n",
       "      <td>1</td>\n",
       "      <td>91</td>\n",
       "      <td>ZAMFARA</td>\n",
       "      <td>Yes</td>\n",
       "      <td>Single</td>\n",
       "      <td>Yes</td>\n",
       "      <td>Yes</td>\n",
       "      <td>More than 5</td>\n",
       "      <td>1</td>\n",
       "    </tr>\n",
       "    <tr>\n",
       "      <th>Information Technology and Solution Support</th>\n",
       "      <td>YAK/S/54802</td>\n",
       "      <td>Non-University Education</td>\n",
       "      <td>Male</td>\n",
       "      <td>Referral and Special candidates</td>\n",
       "      <td>8</td>\n",
       "      <td>2001</td>\n",
       "      <td>12.5</td>\n",
       "      <td>2018</td>\n",
       "      <td>1</td>\n",
       "      <td>1</td>\n",
       "      <td>91</td>\n",
       "      <td>ZAMFARA</td>\n",
       "      <td>Yes</td>\n",
       "      <td>Single</td>\n",
       "      <td>Yes</td>\n",
       "      <td>Yes</td>\n",
       "      <td>More than 5</td>\n",
       "      <td>1</td>\n",
       "    </tr>\n",
       "    <tr>\n",
       "      <th>Information and Strategy</th>\n",
       "      <td>YAK/S/54806</td>\n",
       "      <td>MSc, MBA and PhD</td>\n",
       "      <td>Male</td>\n",
       "      <td>Referral and Special candidates</td>\n",
       "      <td>5</td>\n",
       "      <td>2001</td>\n",
       "      <td>12.5</td>\n",
       "      <td>2018</td>\n",
       "      <td>1</td>\n",
       "      <td>1</td>\n",
       "      <td>91</td>\n",
       "      <td>ZAMFARA</td>\n",
       "      <td>Yes</td>\n",
       "      <td>Single</td>\n",
       "      <td>Yes</td>\n",
       "      <td>Yes</td>\n",
       "      <td>More than 5</td>\n",
       "      <td>1</td>\n",
       "    </tr>\n",
       "  </tbody>\n",
       "</table>\n",
       "</div>"
      ],
      "text/plain": [
       "                                              EmployeeNo  \\\n",
       "Division                                                   \n",
       "Business Finance Operations                  YAK/S/54774   \n",
       "Commercial Sales and Marketing               YAK/S/54807   \n",
       "Customer Support and Field Operations        YAK/S/54805   \n",
       "Information Technology and Solution Support  YAK/S/54802   \n",
       "Information and Strategy                     YAK/S/54806   \n",
       "\n",
       "                                                        Qualification Gender  \\\n",
       "Division                                                                       \n",
       "Business Finance Operations                  Non-University Education   Male   \n",
       "Commercial Sales and Marketing                       MSc, MBA and PhD   Male   \n",
       "Customer Support and Field Operations        Non-University Education   Male   \n",
       "Information Technology and Solution Support  Non-University Education   Male   \n",
       "Information and Strategy                             MSc, MBA and PhD   Male   \n",
       "\n",
       "                                                      Channel_of_Recruitment  \\\n",
       "Division                                                                       \n",
       "Business Finance Operations                  Referral and Special candidates   \n",
       "Commercial Sales and Marketing               Referral and Special candidates   \n",
       "Customer Support and Field Operations        Referral and Special candidates   \n",
       "Information Technology and Solution Support  Referral and Special candidates   \n",
       "Information and Strategy                     Referral and Special candidates   \n",
       "\n",
       "                                             Trainings_Attended  \\\n",
       "Division                                                          \n",
       "Business Finance Operations                                   6   \n",
       "Commercial Sales and Marketing                               11   \n",
       "Customer Support and Field Operations                         6   \n",
       "Information Technology and Solution Support                   8   \n",
       "Information and Strategy                                      5   \n",
       "\n",
       "                                             Year_of_birth  \\\n",
       "Division                                                     \n",
       "Business Finance Operations                           2001   \n",
       "Commercial Sales and Marketing                        2001   \n",
       "Customer Support and Field Operations                 2001   \n",
       "Information Technology and Solution Support           2001   \n",
       "Information and Strategy                              2001   \n",
       "\n",
       "                                             Last_performance_score  \\\n",
       "Division                                                              \n",
       "Business Finance Operations                                    12.5   \n",
       "Commercial Sales and Marketing                                 12.5   \n",
       "Customer Support and Field Operations                          12.5   \n",
       "Information Technology and Solution Support                    12.5   \n",
       "Information and Strategy                                       12.5   \n",
       "\n",
       "                                             Year_of_recruitment  Targets_met  \\\n",
       "Division                                                                        \n",
       "Business Finance Operations                                 2018            1   \n",
       "Commercial Sales and Marketing                              2018            1   \n",
       "Customer Support and Field Operations                       2018            1   \n",
       "Information Technology and Solution Support                 2018            1   \n",
       "Information and Strategy                                    2018            1   \n",
       "\n",
       "                                             Previous_Award  \\\n",
       "Division                                                      \n",
       "Business Finance Operations                               1   \n",
       "Commercial Sales and Marketing                            1   \n",
       "Customer Support and Field Operations                     1   \n",
       "Information Technology and Solution Support               1   \n",
       "Information and Strategy                                  1   \n",
       "\n",
       "                                             Training_score_average  \\\n",
       "Division                                                              \n",
       "Business Finance Operations                                      90   \n",
       "Commercial Sales and Marketing                                   91   \n",
       "Customer Support and Field Operations                            91   \n",
       "Information Technology and Solution Support                      91   \n",
       "Information and Strategy                                         91   \n",
       "\n",
       "                                            State_Of_Origin Foreign_schooled  \\\n",
       "Division                                                                       \n",
       "Business Finance Operations                         ZAMFARA              Yes   \n",
       "Commercial Sales and Marketing                      ZAMFARA              Yes   \n",
       "Customer Support and Field Operations               ZAMFARA              Yes   \n",
       "Information Technology and Solution Support         ZAMFARA              Yes   \n",
       "Information and Strategy                            ZAMFARA              Yes   \n",
       "\n",
       "                                            Marital_Status  \\\n",
       "Division                                                     \n",
       "Business Finance Operations                         Single   \n",
       "Commercial Sales and Marketing                      Single   \n",
       "Customer Support and Field Operations               Single   \n",
       "Information Technology and Solution Support         Single   \n",
       "Information and Strategy                            Single   \n",
       "\n",
       "                                            Past_Disciplinary_Action  \\\n",
       "Division                                                               \n",
       "Business Finance Operations                                      Yes   \n",
       "Commercial Sales and Marketing                                   Yes   \n",
       "Customer Support and Field Operations                            Yes   \n",
       "Information Technology and Solution Support                      Yes   \n",
       "Information and Strategy                                         Yes   \n",
       "\n",
       "                                            Previous_IntraDepartmental_Movement  \\\n",
       "Division                                                                          \n",
       "Business Finance Operations                                                 Yes   \n",
       "Commercial Sales and Marketing                                              Yes   \n",
       "Customer Support and Field Operations                                       Yes   \n",
       "Information Technology and Solution Support                                 Yes   \n",
       "Information and Strategy                                                    Yes   \n",
       "\n",
       "                                            No_of_previous_employers  \\\n",
       "Division                                                               \n",
       "Business Finance Operations                              More than 5   \n",
       "Commercial Sales and Marketing                           More than 5   \n",
       "Customer Support and Field Operations                    More than 5   \n",
       "Information Technology and Solution Support              More than 5   \n",
       "Information and Strategy                                 More than 5   \n",
       "\n",
       "                                             Promoted_or_Not  \n",
       "Division                                                      \n",
       "Business Finance Operations                                1  \n",
       "Commercial Sales and Marketing                             1  \n",
       "Customer Support and Field Operations                      1  \n",
       "Information Technology and Solution Support                1  \n",
       "Information and Strategy                                   1  "
      ]
     },
     "execution_count": 286,
     "metadata": {},
     "output_type": "execute_result"
    }
   ],
   "source": [
    "train.groupby('Division').max().sort_values('Promoted_or_Not').head()"
   ]
  },
  {
   "cell_type": "code",
   "execution_count": 287,
   "metadata": {},
   "outputs": [
    {
     "data": {
      "text/plain": [
       "Commercial Sales and Marketing                 11695\n",
       "Customer Support and Field Operations           7973\n",
       "Sourcing and Purchasing                         5052\n",
       "Information Technology and Solution Support     4952\n",
       "Information and Strategy                        3721\n",
       "Business Finance Operations                     1786\n",
       "People/HR Management                            1704\n",
       "Regulatory and Legal services                    733\n",
       "Research and Innovation                          696\n",
       "Name: Division, dtype: int64"
      ]
     },
     "execution_count": 287,
     "metadata": {},
     "output_type": "execute_result"
    }
   ],
   "source": [
    "train['Division'].value_counts()"
   ]
  },
  {
   "cell_type": "code",
   "execution_count": null,
   "metadata": {},
   "outputs": [],
   "source": []
  },
  {
   "cell_type": "code",
   "execution_count": 288,
   "metadata": {},
   "outputs": [],
   "source": [
    "# train[(train['Division']=='People/HR Management') & (train['Promoted_or_Not']==1)].count()"
   ]
  },
  {
   "cell_type": "code",
   "execution_count": 289,
   "metadata": {},
   "outputs": [],
   "source": [
    "# train[(train['Division']=='Regulatory and Legal services') & (train['Promoted_or_Not']==1)].count()"
   ]
  },
  {
   "cell_type": "code",
   "execution_count": 290,
   "metadata": {},
   "outputs": [],
   "source": [
    "# train[(train['Division']=='Research and Innovation') & (train['Promoted_or_Not']==1)].count()"
   ]
  },
  {
   "cell_type": "code",
   "execution_count": 291,
   "metadata": {},
   "outputs": [],
   "source": [
    "# train[(train['Division']=='Commercial Sales and Marketing') & (train['Promoted_or_Not']==1)].count()"
   ]
  },
  {
   "cell_type": "code",
   "execution_count": 292,
   "metadata": {},
   "outputs": [],
   "source": [
    "# train[(train['Division']=='Customer Support and Field Operations') & (train['Promoted_or_Not']==1)].count()"
   ]
  },
  {
   "cell_type": "code",
   "execution_count": 293,
   "metadata": {},
   "outputs": [],
   "source": [
    "# train[(train['Division']=='Sourcing and Purchasing') & (train['Promoted_or_Not']==1)].count()"
   ]
  },
  {
   "cell_type": "code",
   "execution_count": 294,
   "metadata": {},
   "outputs": [],
   "source": [
    "# train[(train['Division']=='Information Technology and Solution Support') & (train['Promoted_or_Not']==1)].count()"
   ]
  },
  {
   "cell_type": "code",
   "execution_count": 295,
   "metadata": {},
   "outputs": [],
   "source": [
    "# train[(train['Division']=='Information and Strategy') & (train['Promoted_or_Not']==1)].count()"
   ]
  },
  {
   "cell_type": "code",
   "execution_count": 296,
   "metadata": {},
   "outputs": [],
   "source": [
    "# train[(train['Division']=='Business Finance Operations') & (train['Promoted_or_Not']==1)].count()"
   ]
  },
  {
   "cell_type": "code",
   "execution_count": null,
   "metadata": {},
   "outputs": [],
   "source": []
  },
  {
   "cell_type": "markdown",
   "metadata": {},
   "source": [
    "**% of promoted staff in the (Business Finance Operations) Division**"
   ]
  },
  {
   "cell_type": "code",
   "execution_count": 297,
   "metadata": {},
   "outputs": [
    {
     "data": {
      "text/plain": [
       "8.174692049272117"
      ]
     },
     "execution_count": 297,
     "metadata": {},
     "output_type": "execute_result"
    }
   ],
   "source": [
    "(146/1786)*100"
   ]
  },
  {
   "cell_type": "markdown",
   "metadata": {},
   "source": [
    "**% of promoted staff in the (Commercial Sales and Marketing) Division**"
   ]
  },
  {
   "cell_type": "code",
   "execution_count": 298,
   "metadata": {},
   "outputs": [
    {
     "data": {
      "text/plain": [
       "7.191107310816588"
      ]
     },
     "execution_count": 298,
     "metadata": {},
     "output_type": "execute_result"
    }
   ],
   "source": [
    "(841/11695)*100"
   ]
  },
  {
   "cell_type": "markdown",
   "metadata": {},
   "source": [
    "**% of promoted staff in the(Customer Support and Field Operations) Division**"
   ]
  },
  {
   "cell_type": "code",
   "execution_count": 299,
   "metadata": {},
   "outputs": [
    {
     "data": {
      "text/plain": [
       "8.829800576947196"
      ]
     },
     "execution_count": 299,
     "metadata": {},
     "output_type": "execute_result"
    }
   ],
   "source": [
    "(704/7973)*100"
   ]
  },
  {
   "cell_type": "markdown",
   "metadata": {},
   "source": [
    "**% of promoted staff in the(Sourcing and Purchasing) Division**"
   ]
  },
  {
   "cell_type": "code",
   "execution_count": 300,
   "metadata": {},
   "outputs": [
    {
     "data": {
      "text/plain": [
       "9.679334916864608"
      ]
     },
     "execution_count": 300,
     "metadata": {},
     "output_type": "execute_result"
    }
   ],
   "source": [
    "(489/5052)*100"
   ]
  },
  {
   "cell_type": "markdown",
   "metadata": {},
   "source": [
    "**% of promoted staff in the(Information Technology and Solution Support) Division**"
   ]
  },
  {
   "cell_type": "code",
   "execution_count": 301,
   "metadata": {},
   "outputs": [
    {
     "data": {
      "text/plain": [
       "10.743134087237479"
      ]
     },
     "execution_count": 301,
     "metadata": {},
     "output_type": "execute_result"
    }
   ],
   "source": [
    "(532/4952)*100"
   ]
  },
  {
   "cell_type": "markdown",
   "metadata": {},
   "source": [
    "**% of promoted staff in the(Information and Strategy) Division**"
   ]
  },
  {
   "cell_type": "code",
   "execution_count": 302,
   "metadata": {},
   "outputs": [
    {
     "data": {
      "text/plain": [
       "9.352324643912926"
      ]
     },
     "execution_count": 302,
     "metadata": {},
     "output_type": "execute_result"
    }
   ],
   "source": [
    "(348/3721)*100"
   ]
  },
  {
   "cell_type": "markdown",
   "metadata": {},
   "source": [
    "**% of promoted staff in the(People/HR Management) Division**"
   ]
  },
  {
   "cell_type": "code",
   "execution_count": 303,
   "metadata": {},
   "outputs": [
    {
     "data": {
      "text/plain": [
       "5.692488262910798"
      ]
     },
     "execution_count": 303,
     "metadata": {},
     "output_type": "execute_result"
    }
   ],
   "source": [
    "(97/1704)*100"
   ]
  },
  {
   "cell_type": "markdown",
   "metadata": {},
   "source": [
    "**% of promoted staff in the(Regulatory and Legal services) Division**"
   ]
  },
  {
   "cell_type": "code",
   "execution_count": 304,
   "metadata": {},
   "outputs": [
    {
     "data": {
      "text/plain": [
       "5.5934515688949515"
      ]
     },
     "execution_count": 304,
     "metadata": {},
     "output_type": "execute_result"
    }
   ],
   "source": [
    "(41/733)*100"
   ]
  },
  {
   "cell_type": "markdown",
   "metadata": {},
   "source": [
    "**% of promoted staff in the(Research and Innovation) Division**"
   ]
  },
  {
   "cell_type": "code",
   "execution_count": 305,
   "metadata": {},
   "outputs": [
    {
     "data": {
      "text/plain": [
       "6.17816091954023"
      ]
     },
     "execution_count": 305,
     "metadata": {},
     "output_type": "execute_result"
    }
   ],
   "source": [
    "(43/696)*100"
   ]
  },
  {
   "cell_type": "code",
   "execution_count": null,
   "metadata": {},
   "outputs": [],
   "source": []
  },
  {
   "cell_type": "code",
   "execution_count": null,
   "metadata": {},
   "outputs": [],
   "source": []
  },
  {
   "cell_type": "code",
   "execution_count": null,
   "metadata": {},
   "outputs": [],
   "source": []
  },
  {
   "cell_type": "markdown",
   "metadata": {},
   "source": [
    "##### TRAININGS_ATTENDED"
   ]
  },
  {
   "cell_type": "code",
   "execution_count": 306,
   "metadata": {},
   "outputs": [
    {
     "data": {
      "text/plain": [
       "2     30981\n",
       "3      5631\n",
       "4      1244\n",
       "5       316\n",
       "6        93\n",
       "7        28\n",
       "8         6\n",
       "10        5\n",
       "11        4\n",
       "9         4\n",
       "Name: Trainings_Attended, dtype: int64"
      ]
     },
     "execution_count": 306,
     "metadata": {},
     "output_type": "execute_result"
    }
   ],
   "source": [
    "train['Trainings_Attended'].value_counts()"
   ]
  },
  {
   "cell_type": "code",
   "execution_count": 307,
   "metadata": {},
   "outputs": [
    {
     "data": {
      "text/plain": [
       "EmployeeNo                             92\n",
       "Division                               92\n",
       "Qualification                          92\n",
       "Gender                                 92\n",
       "Channel_of_Recruitment                 92\n",
       "Trainings_Attended                     92\n",
       "Year_of_birth                          92\n",
       "Last_performance_score                 92\n",
       "Year_of_recruitment                    92\n",
       "Targets_met                            92\n",
       "Previous_Award                         92\n",
       "Training_score_average                 92\n",
       "State_Of_Origin                        92\n",
       "Foreign_schooled                       92\n",
       "Marital_Status                         92\n",
       "Past_Disciplinary_Action               92\n",
       "Previous_IntraDepartmental_Movement    92\n",
       "No_of_previous_employers               92\n",
       "Promoted_or_Not                        92\n",
       "dtype: int64"
      ]
     },
     "execution_count": 307,
     "metadata": {},
     "output_type": "execute_result"
    }
   ],
   "source": [
    "train[(train['Trainings_Attended']== 4) & (train['Promoted_or_Not'] == 1)].count()"
   ]
  },
  {
   "cell_type": "code",
   "execution_count": 308,
   "metadata": {},
   "outputs": [
    {
     "data": {
      "text/html": [
       "<div>\n",
       "<style scoped>\n",
       "    .dataframe tbody tr th:only-of-type {\n",
       "        vertical-align: middle;\n",
       "    }\n",
       "\n",
       "    .dataframe tbody tr th {\n",
       "        vertical-align: top;\n",
       "    }\n",
       "\n",
       "    .dataframe thead th {\n",
       "        text-align: right;\n",
       "    }\n",
       "</style>\n",
       "<table border=\"1\" class=\"dataframe\">\n",
       "  <thead>\n",
       "    <tr style=\"text-align: right;\">\n",
       "      <th></th>\n",
       "      <th>EmployeeNo</th>\n",
       "      <th>Division</th>\n",
       "      <th>Qualification</th>\n",
       "      <th>Gender</th>\n",
       "      <th>Channel_of_Recruitment</th>\n",
       "      <th>Year_of_birth</th>\n",
       "      <th>Last_performance_score</th>\n",
       "      <th>Year_of_recruitment</th>\n",
       "      <th>Targets_met</th>\n",
       "      <th>Previous_Award</th>\n",
       "      <th>Training_score_average</th>\n",
       "      <th>State_Of_Origin</th>\n",
       "      <th>Foreign_schooled</th>\n",
       "      <th>Marital_Status</th>\n",
       "      <th>Past_Disciplinary_Action</th>\n",
       "      <th>Previous_IntraDepartmental_Movement</th>\n",
       "      <th>No_of_previous_employers</th>\n",
       "      <th>Promoted_or_Not</th>\n",
       "    </tr>\n",
       "    <tr>\n",
       "      <th>Trainings_Attended</th>\n",
       "      <th></th>\n",
       "      <th></th>\n",
       "      <th></th>\n",
       "      <th></th>\n",
       "      <th></th>\n",
       "      <th></th>\n",
       "      <th></th>\n",
       "      <th></th>\n",
       "      <th></th>\n",
       "      <th></th>\n",
       "      <th></th>\n",
       "      <th></th>\n",
       "      <th></th>\n",
       "      <th></th>\n",
       "      <th></th>\n",
       "      <th></th>\n",
       "      <th></th>\n",
       "      <th></th>\n",
       "    </tr>\n",
       "  </thead>\n",
       "  <tbody>\n",
       "    <tr>\n",
       "      <th>2</th>\n",
       "      <td>YAK/S/54808</td>\n",
       "      <td>Sourcing and Purchasing</td>\n",
       "      <td>Non-University Education</td>\n",
       "      <td>Male</td>\n",
       "      <td>Referral and Special candidates</td>\n",
       "      <td>2001</td>\n",
       "      <td>12.5</td>\n",
       "      <td>2018</td>\n",
       "      <td>1</td>\n",
       "      <td>1</td>\n",
       "      <td>91</td>\n",
       "      <td>ZAMFARA</td>\n",
       "      <td>Yes</td>\n",
       "      <td>Single</td>\n",
       "      <td>Yes</td>\n",
       "      <td>Yes</td>\n",
       "      <td>More than 5</td>\n",
       "      <td>1</td>\n",
       "    </tr>\n",
       "    <tr>\n",
       "      <th>3</th>\n",
       "      <td>YAK/S/54801</td>\n",
       "      <td>Sourcing and Purchasing</td>\n",
       "      <td>Non-University Education</td>\n",
       "      <td>Male</td>\n",
       "      <td>Referral and Special candidates</td>\n",
       "      <td>2001</td>\n",
       "      <td>12.5</td>\n",
       "      <td>2018</td>\n",
       "      <td>1</td>\n",
       "      <td>1</td>\n",
       "      <td>91</td>\n",
       "      <td>ZAMFARA</td>\n",
       "      <td>Yes</td>\n",
       "      <td>Single</td>\n",
       "      <td>Yes</td>\n",
       "      <td>Yes</td>\n",
       "      <td>More than 5</td>\n",
       "      <td>1</td>\n",
       "    </tr>\n",
       "    <tr>\n",
       "      <th>4</th>\n",
       "      <td>YAK/S/54790</td>\n",
       "      <td>Sourcing and Purchasing</td>\n",
       "      <td>Non-University Education</td>\n",
       "      <td>Male</td>\n",
       "      <td>Referral and Special candidates</td>\n",
       "      <td>2001</td>\n",
       "      <td>12.5</td>\n",
       "      <td>2018</td>\n",
       "      <td>1</td>\n",
       "      <td>1</td>\n",
       "      <td>91</td>\n",
       "      <td>ZAMFARA</td>\n",
       "      <td>Yes</td>\n",
       "      <td>Single</td>\n",
       "      <td>Yes</td>\n",
       "      <td>Yes</td>\n",
       "      <td>More than 5</td>\n",
       "      <td>1</td>\n",
       "    </tr>\n",
       "    <tr>\n",
       "      <th>5</th>\n",
       "      <td>YAK/S/54788</td>\n",
       "      <td>Sourcing and Purchasing</td>\n",
       "      <td>Non-University Education</td>\n",
       "      <td>Male</td>\n",
       "      <td>Direct Internal process</td>\n",
       "      <td>2000</td>\n",
       "      <td>12.5</td>\n",
       "      <td>2018</td>\n",
       "      <td>1</td>\n",
       "      <td>1</td>\n",
       "      <td>86</td>\n",
       "      <td>ZAMFARA</td>\n",
       "      <td>Yes</td>\n",
       "      <td>Single</td>\n",
       "      <td>Yes</td>\n",
       "      <td>Yes</td>\n",
       "      <td>More than 5</td>\n",
       "      <td>1</td>\n",
       "    </tr>\n",
       "    <tr>\n",
       "      <th>6</th>\n",
       "      <td>YAK/S/54621</td>\n",
       "      <td>Sourcing and Purchasing</td>\n",
       "      <td>MSc, MBA and PhD</td>\n",
       "      <td>Male</td>\n",
       "      <td>Referral and Special candidates</td>\n",
       "      <td>1999</td>\n",
       "      <td>12.5</td>\n",
       "      <td>2018</td>\n",
       "      <td>1</td>\n",
       "      <td>1</td>\n",
       "      <td>82</td>\n",
       "      <td>ZAMFARA</td>\n",
       "      <td>Yes</td>\n",
       "      <td>Single</td>\n",
       "      <td>No</td>\n",
       "      <td>Yes</td>\n",
       "      <td>More than 5</td>\n",
       "      <td>1</td>\n",
       "    </tr>\n",
       "    <tr>\n",
       "      <th>7</th>\n",
       "      <td>YAK/S/54645</td>\n",
       "      <td>Sourcing and Purchasing</td>\n",
       "      <td>MSc, MBA and PhD</td>\n",
       "      <td>Male</td>\n",
       "      <td>Direct Internal process</td>\n",
       "      <td>1996</td>\n",
       "      <td>12.5</td>\n",
       "      <td>2018</td>\n",
       "      <td>1</td>\n",
       "      <td>0</td>\n",
       "      <td>73</td>\n",
       "      <td>YOBE</td>\n",
       "      <td>Yes</td>\n",
       "      <td>Single</td>\n",
       "      <td>No</td>\n",
       "      <td>Yes</td>\n",
       "      <td>3</td>\n",
       "      <td>1</td>\n",
       "    </tr>\n",
       "    <tr>\n",
       "      <th>8</th>\n",
       "      <td>YAK/S/52534</td>\n",
       "      <td>Sourcing and Purchasing</td>\n",
       "      <td>MSc, MBA and PhD</td>\n",
       "      <td>Male</td>\n",
       "      <td>Direct Internal process</td>\n",
       "      <td>1996</td>\n",
       "      <td>12.5</td>\n",
       "      <td>2018</td>\n",
       "      <td>1</td>\n",
       "      <td>0</td>\n",
       "      <td>74</td>\n",
       "      <td>RIVERS</td>\n",
       "      <td>Yes</td>\n",
       "      <td>Single</td>\n",
       "      <td>No</td>\n",
       "      <td>No</td>\n",
       "      <td>4</td>\n",
       "      <td>0</td>\n",
       "    </tr>\n",
       "    <tr>\n",
       "      <th>9</th>\n",
       "      <td>YAK/S/33660</td>\n",
       "      <td>Sourcing and Purchasing</td>\n",
       "      <td>MSc, MBA and PhD</td>\n",
       "      <td>Male</td>\n",
       "      <td>Direct Internal process</td>\n",
       "      <td>1995</td>\n",
       "      <td>10.0</td>\n",
       "      <td>2018</td>\n",
       "      <td>1</td>\n",
       "      <td>0</td>\n",
       "      <td>64</td>\n",
       "      <td>OGUN</td>\n",
       "      <td>Yes</td>\n",
       "      <td>Single</td>\n",
       "      <td>No</td>\n",
       "      <td>Yes</td>\n",
       "      <td>1</td>\n",
       "      <td>0</td>\n",
       "    </tr>\n",
       "    <tr>\n",
       "      <th>10</th>\n",
       "      <td>YAK/S/54339</td>\n",
       "      <td>Sourcing and Purchasing</td>\n",
       "      <td>First Degree or HND</td>\n",
       "      <td>Male</td>\n",
       "      <td>Direct Internal process</td>\n",
       "      <td>1995</td>\n",
       "      <td>7.5</td>\n",
       "      <td>2018</td>\n",
       "      <td>0</td>\n",
       "      <td>0</td>\n",
       "      <td>67</td>\n",
       "      <td>RIVERS</td>\n",
       "      <td>Yes</td>\n",
       "      <td>Married</td>\n",
       "      <td>No</td>\n",
       "      <td>No</td>\n",
       "      <td>4</td>\n",
       "      <td>0</td>\n",
       "    </tr>\n",
       "    <tr>\n",
       "      <th>11</th>\n",
       "      <td>YAK/S/44898</td>\n",
       "      <td>Sourcing and Purchasing</td>\n",
       "      <td>MSc, MBA and PhD</td>\n",
       "      <td>Male</td>\n",
       "      <td>Direct Internal process</td>\n",
       "      <td>1993</td>\n",
       "      <td>7.5</td>\n",
       "      <td>2017</td>\n",
       "      <td>0</td>\n",
       "      <td>0</td>\n",
       "      <td>63</td>\n",
       "      <td>YOBE</td>\n",
       "      <td>Yes</td>\n",
       "      <td>Married</td>\n",
       "      <td>No</td>\n",
       "      <td>No</td>\n",
       "      <td>3</td>\n",
       "      <td>0</td>\n",
       "    </tr>\n",
       "  </tbody>\n",
       "</table>\n",
       "</div>"
      ],
      "text/plain": [
       "                     EmployeeNo                 Division  \\\n",
       "Trainings_Attended                                         \n",
       "2                   YAK/S/54808  Sourcing and Purchasing   \n",
       "3                   YAK/S/54801  Sourcing and Purchasing   \n",
       "4                   YAK/S/54790  Sourcing and Purchasing   \n",
       "5                   YAK/S/54788  Sourcing and Purchasing   \n",
       "6                   YAK/S/54621  Sourcing and Purchasing   \n",
       "7                   YAK/S/54645  Sourcing and Purchasing   \n",
       "8                   YAK/S/52534  Sourcing and Purchasing   \n",
       "9                   YAK/S/33660  Sourcing and Purchasing   \n",
       "10                  YAK/S/54339  Sourcing and Purchasing   \n",
       "11                  YAK/S/44898  Sourcing and Purchasing   \n",
       "\n",
       "                               Qualification Gender  \\\n",
       "Trainings_Attended                                    \n",
       "2                   Non-University Education   Male   \n",
       "3                   Non-University Education   Male   \n",
       "4                   Non-University Education   Male   \n",
       "5                   Non-University Education   Male   \n",
       "6                           MSc, MBA and PhD   Male   \n",
       "7                           MSc, MBA and PhD   Male   \n",
       "8                           MSc, MBA and PhD   Male   \n",
       "9                           MSc, MBA and PhD   Male   \n",
       "10                       First Degree or HND   Male   \n",
       "11                          MSc, MBA and PhD   Male   \n",
       "\n",
       "                             Channel_of_Recruitment  Year_of_birth  \\\n",
       "Trainings_Attended                                                   \n",
       "2                   Referral and Special candidates           2001   \n",
       "3                   Referral and Special candidates           2001   \n",
       "4                   Referral and Special candidates           2001   \n",
       "5                           Direct Internal process           2000   \n",
       "6                   Referral and Special candidates           1999   \n",
       "7                           Direct Internal process           1996   \n",
       "8                           Direct Internal process           1996   \n",
       "9                           Direct Internal process           1995   \n",
       "10                          Direct Internal process           1995   \n",
       "11                          Direct Internal process           1993   \n",
       "\n",
       "                    Last_performance_score  Year_of_recruitment  Targets_met  \\\n",
       "Trainings_Attended                                                             \n",
       "2                                     12.5                 2018            1   \n",
       "3                                     12.5                 2018            1   \n",
       "4                                     12.5                 2018            1   \n",
       "5                                     12.5                 2018            1   \n",
       "6                                     12.5                 2018            1   \n",
       "7                                     12.5                 2018            1   \n",
       "8                                     12.5                 2018            1   \n",
       "9                                     10.0                 2018            1   \n",
       "10                                     7.5                 2018            0   \n",
       "11                                     7.5                 2017            0   \n",
       "\n",
       "                    Previous_Award  Training_score_average State_Of_Origin  \\\n",
       "Trainings_Attended                                                           \n",
       "2                                1                      91         ZAMFARA   \n",
       "3                                1                      91         ZAMFARA   \n",
       "4                                1                      91         ZAMFARA   \n",
       "5                                1                      86         ZAMFARA   \n",
       "6                                1                      82         ZAMFARA   \n",
       "7                                0                      73            YOBE   \n",
       "8                                0                      74          RIVERS   \n",
       "9                                0                      64            OGUN   \n",
       "10                               0                      67          RIVERS   \n",
       "11                               0                      63            YOBE   \n",
       "\n",
       "                   Foreign_schooled Marital_Status Past_Disciplinary_Action  \\\n",
       "Trainings_Attended                                                            \n",
       "2                               Yes         Single                      Yes   \n",
       "3                               Yes         Single                      Yes   \n",
       "4                               Yes         Single                      Yes   \n",
       "5                               Yes         Single                      Yes   \n",
       "6                               Yes         Single                       No   \n",
       "7                               Yes         Single                       No   \n",
       "8                               Yes         Single                       No   \n",
       "9                               Yes         Single                       No   \n",
       "10                              Yes        Married                       No   \n",
       "11                              Yes        Married                       No   \n",
       "\n",
       "                   Previous_IntraDepartmental_Movement  \\\n",
       "Trainings_Attended                                       \n",
       "2                                                  Yes   \n",
       "3                                                  Yes   \n",
       "4                                                  Yes   \n",
       "5                                                  Yes   \n",
       "6                                                  Yes   \n",
       "7                                                  Yes   \n",
       "8                                                   No   \n",
       "9                                                  Yes   \n",
       "10                                                  No   \n",
       "11                                                  No   \n",
       "\n",
       "                   No_of_previous_employers  Promoted_or_Not  \n",
       "Trainings_Attended                                            \n",
       "2                               More than 5                1  \n",
       "3                               More than 5                1  \n",
       "4                               More than 5                1  \n",
       "5                               More than 5                1  \n",
       "6                               More than 5                1  \n",
       "7                                         3                1  \n",
       "8                                         4                0  \n",
       "9                                         1                0  \n",
       "10                                        4                0  \n",
       "11                                        3                0  "
      ]
     },
     "execution_count": 308,
     "metadata": {},
     "output_type": "execute_result"
    }
   ],
   "source": [
    "train.groupby('Trainings_Attended').max().sort_values('Promoted_or_Not', ascending=False)"
   ]
  },
  {
   "cell_type": "markdown",
   "metadata": {},
   "source": [
    "###### From the above we can see that staff who have lower number of trainings attended have a higher tendency to be promoted "
   ]
  },
  {
   "cell_type": "code",
   "execution_count": null,
   "metadata": {},
   "outputs": [],
   "source": []
  },
  {
   "cell_type": "code",
   "execution_count": null,
   "metadata": {},
   "outputs": [],
   "source": []
  },
  {
   "cell_type": "code",
   "execution_count": null,
   "metadata": {},
   "outputs": [],
   "source": []
  },
  {
   "cell_type": "code",
   "execution_count": null,
   "metadata": {},
   "outputs": [],
   "source": []
  },
  {
   "cell_type": "markdown",
   "metadata": {},
   "source": [
    "###### TIME(Year Of Recruitment)"
   ]
  },
  {
   "cell_type": "code",
   "execution_count": 309,
   "metadata": {},
   "outputs": [
    {
     "data": {
      "text/plain": [
       "EmployeeNo                             2\n",
       "Division                               2\n",
       "Qualification                          2\n",
       "Gender                                 2\n",
       "Channel_of_Recruitment                 2\n",
       "Trainings_Attended                     2\n",
       "Year_of_birth                          2\n",
       "Last_performance_score                 2\n",
       "Year_of_recruitment                    2\n",
       "Targets_met                            2\n",
       "Previous_Award                         2\n",
       "Training_score_average                 2\n",
       "State_Of_Origin                        2\n",
       "Foreign_schooled                       2\n",
       "Marital_Status                         2\n",
       "Past_Disciplinary_Action               2\n",
       "Previous_IntraDepartmental_Movement    2\n",
       "No_of_previous_employers               2\n",
       "Promoted_or_Not                        2\n",
       "dtype: int64"
      ]
     },
     "execution_count": 309,
     "metadata": {},
     "output_type": "execute_result"
    }
   ],
   "source": [
    "train[(train['Year_of_recruitment']==1998) & (train['Promoted_or_Not']==1)].count()"
   ]
  },
  {
   "cell_type": "code",
   "execution_count": 310,
   "metadata": {},
   "outputs": [
    {
     "data": {
      "text/html": [
       "<div>\n",
       "<style scoped>\n",
       "    .dataframe tbody tr th:only-of-type {\n",
       "        vertical-align: middle;\n",
       "    }\n",
       "\n",
       "    .dataframe tbody tr th {\n",
       "        vertical-align: top;\n",
       "    }\n",
       "\n",
       "    .dataframe thead th {\n",
       "        text-align: right;\n",
       "    }\n",
       "</style>\n",
       "<table border=\"1\" class=\"dataframe\">\n",
       "  <thead>\n",
       "    <tr style=\"text-align: right;\">\n",
       "      <th></th>\n",
       "      <th>EmployeeNo</th>\n",
       "      <th>Division</th>\n",
       "      <th>Qualification</th>\n",
       "      <th>Gender</th>\n",
       "      <th>Channel_of_Recruitment</th>\n",
       "      <th>Trainings_Attended</th>\n",
       "      <th>Year_of_birth</th>\n",
       "      <th>Last_performance_score</th>\n",
       "      <th>Targets_met</th>\n",
       "      <th>Previous_Award</th>\n",
       "      <th>Training_score_average</th>\n",
       "      <th>State_Of_Origin</th>\n",
       "      <th>Foreign_schooled</th>\n",
       "      <th>Marital_Status</th>\n",
       "      <th>Past_Disciplinary_Action</th>\n",
       "      <th>Previous_IntraDepartmental_Movement</th>\n",
       "      <th>No_of_previous_employers</th>\n",
       "      <th>Promoted_or_Not</th>\n",
       "    </tr>\n",
       "    <tr>\n",
       "      <th>Year_of_recruitment</th>\n",
       "      <th></th>\n",
       "      <th></th>\n",
       "      <th></th>\n",
       "      <th></th>\n",
       "      <th></th>\n",
       "      <th></th>\n",
       "      <th></th>\n",
       "      <th></th>\n",
       "      <th></th>\n",
       "      <th></th>\n",
       "      <th></th>\n",
       "      <th></th>\n",
       "      <th></th>\n",
       "      <th></th>\n",
       "      <th></th>\n",
       "      <th></th>\n",
       "      <th></th>\n",
       "      <th></th>\n",
       "    </tr>\n",
       "  </thead>\n",
       "  <tbody>\n",
       "    <tr>\n",
       "      <th>2001</th>\n",
       "      <td>YAK/S/54421</td>\n",
       "      <td>Sourcing and Purchasing</td>\n",
       "      <td>MSc, MBA and PhD</td>\n",
       "      <td>Male</td>\n",
       "      <td>Referral and Special candidates</td>\n",
       "      <td>6</td>\n",
       "      <td>1981</td>\n",
       "      <td>12.5</td>\n",
       "      <td>1</td>\n",
       "      <td>1</td>\n",
       "      <td>82</td>\n",
       "      <td>ZAMFARA</td>\n",
       "      <td>Yes</td>\n",
       "      <td>Single</td>\n",
       "      <td>Yes</td>\n",
       "      <td>Yes</td>\n",
       "      <td>More than 5</td>\n",
       "      <td>1</td>\n",
       "    </tr>\n",
       "    <tr>\n",
       "      <th>2010</th>\n",
       "      <td>YAK/S/54794</td>\n",
       "      <td>Sourcing and Purchasing</td>\n",
       "      <td>MSc, MBA and PhD</td>\n",
       "      <td>Male</td>\n",
       "      <td>Referral and Special candidates</td>\n",
       "      <td>7</td>\n",
       "      <td>1993</td>\n",
       "      <td>12.5</td>\n",
       "      <td>1</td>\n",
       "      <td>1</td>\n",
       "      <td>91</td>\n",
       "      <td>ZAMFARA</td>\n",
       "      <td>Yes</td>\n",
       "      <td>Single</td>\n",
       "      <td>Yes</td>\n",
       "      <td>Yes</td>\n",
       "      <td>More than 5</td>\n",
       "      <td>1</td>\n",
       "    </tr>\n",
       "    <tr>\n",
       "      <th>2004</th>\n",
       "      <td>YAK/S/54690</td>\n",
       "      <td>Sourcing and Purchasing</td>\n",
       "      <td>MSc, MBA and PhD</td>\n",
       "      <td>Male</td>\n",
       "      <td>Referral and Special candidates</td>\n",
       "      <td>7</td>\n",
       "      <td>1982</td>\n",
       "      <td>12.5</td>\n",
       "      <td>1</td>\n",
       "      <td>1</td>\n",
       "      <td>86</td>\n",
       "      <td>ZAMFARA</td>\n",
       "      <td>Yes</td>\n",
       "      <td>Single</td>\n",
       "      <td>Yes</td>\n",
       "      <td>Yes</td>\n",
       "      <td>More than 5</td>\n",
       "      <td>1</td>\n",
       "    </tr>\n",
       "    <tr>\n",
       "      <th>2005</th>\n",
       "      <td>YAK/S/54593</td>\n",
       "      <td>Sourcing and Purchasing</td>\n",
       "      <td>MSc, MBA and PhD</td>\n",
       "      <td>Male</td>\n",
       "      <td>Referral and Special candidates</td>\n",
       "      <td>6</td>\n",
       "      <td>1984</td>\n",
       "      <td>12.5</td>\n",
       "      <td>1</td>\n",
       "      <td>1</td>\n",
       "      <td>85</td>\n",
       "      <td>YOBE</td>\n",
       "      <td>Yes</td>\n",
       "      <td>Single</td>\n",
       "      <td>Yes</td>\n",
       "      <td>Yes</td>\n",
       "      <td>More than 5</td>\n",
       "      <td>1</td>\n",
       "    </tr>\n",
       "    <tr>\n",
       "      <th>2006</th>\n",
       "      <td>YAK/S/54759</td>\n",
       "      <td>Sourcing and Purchasing</td>\n",
       "      <td>MSc, MBA and PhD</td>\n",
       "      <td>Male</td>\n",
       "      <td>Referral and Special candidates</td>\n",
       "      <td>11</td>\n",
       "      <td>1991</td>\n",
       "      <td>12.5</td>\n",
       "      <td>1</td>\n",
       "      <td>1</td>\n",
       "      <td>90</td>\n",
       "      <td>ZAMFARA</td>\n",
       "      <td>Yes</td>\n",
       "      <td>Single</td>\n",
       "      <td>Yes</td>\n",
       "      <td>Yes</td>\n",
       "      <td>More than 5</td>\n",
       "      <td>1</td>\n",
       "    </tr>\n",
       "    <tr>\n",
       "      <th>2007</th>\n",
       "      <td>YAK/S/54750</td>\n",
       "      <td>Sourcing and Purchasing</td>\n",
       "      <td>MSc, MBA and PhD</td>\n",
       "      <td>Male</td>\n",
       "      <td>Referral and Special candidates</td>\n",
       "      <td>11</td>\n",
       "      <td>1991</td>\n",
       "      <td>12.5</td>\n",
       "      <td>1</td>\n",
       "      <td>1</td>\n",
       "      <td>87</td>\n",
       "      <td>ZAMFARA</td>\n",
       "      <td>Yes</td>\n",
       "      <td>Single</td>\n",
       "      <td>No</td>\n",
       "      <td>Yes</td>\n",
       "      <td>More than 5</td>\n",
       "      <td>1</td>\n",
       "    </tr>\n",
       "    <tr>\n",
       "      <th>2008</th>\n",
       "      <td>YAK/S/54793</td>\n",
       "      <td>Sourcing and Purchasing</td>\n",
       "      <td>MSc, MBA and PhD</td>\n",
       "      <td>Male</td>\n",
       "      <td>Referral and Special candidates</td>\n",
       "      <td>6</td>\n",
       "      <td>1992</td>\n",
       "      <td>12.5</td>\n",
       "      <td>1</td>\n",
       "      <td>1</td>\n",
       "      <td>91</td>\n",
       "      <td>ZAMFARA</td>\n",
       "      <td>Yes</td>\n",
       "      <td>Single</td>\n",
       "      <td>Yes</td>\n",
       "      <td>Yes</td>\n",
       "      <td>More than 5</td>\n",
       "      <td>1</td>\n",
       "    </tr>\n",
       "    <tr>\n",
       "      <th>2009</th>\n",
       "      <td>YAK/S/54736</td>\n",
       "      <td>Sourcing and Purchasing</td>\n",
       "      <td>MSc, MBA and PhD</td>\n",
       "      <td>Male</td>\n",
       "      <td>Referral and Special candidates</td>\n",
       "      <td>11</td>\n",
       "      <td>1993</td>\n",
       "      <td>12.5</td>\n",
       "      <td>1</td>\n",
       "      <td>1</td>\n",
       "      <td>90</td>\n",
       "      <td>ZAMFARA</td>\n",
       "      <td>Yes</td>\n",
       "      <td>Single</td>\n",
       "      <td>Yes</td>\n",
       "      <td>Yes</td>\n",
       "      <td>More than 5</td>\n",
       "      <td>1</td>\n",
       "    </tr>\n",
       "    <tr>\n",
       "      <th>2011</th>\n",
       "      <td>YAK/S/54764</td>\n",
       "      <td>Sourcing and Purchasing</td>\n",
       "      <td>MSc, MBA and PhD</td>\n",
       "      <td>Male</td>\n",
       "      <td>Referral and Special candidates</td>\n",
       "      <td>6</td>\n",
       "      <td>1994</td>\n",
       "      <td>12.5</td>\n",
       "      <td>1</td>\n",
       "      <td>1</td>\n",
       "      <td>90</td>\n",
       "      <td>ZAMFARA</td>\n",
       "      <td>Yes</td>\n",
       "      <td>Single</td>\n",
       "      <td>Yes</td>\n",
       "      <td>Yes</td>\n",
       "      <td>More than 5</td>\n",
       "      <td>1</td>\n",
       "    </tr>\n",
       "    <tr>\n",
       "      <th>2002</th>\n",
       "      <td>YAK/S/54586</td>\n",
       "      <td>Sourcing and Purchasing</td>\n",
       "      <td>MSc, MBA and PhD</td>\n",
       "      <td>Male</td>\n",
       "      <td>Referral and Special candidates</td>\n",
       "      <td>8</td>\n",
       "      <td>1981</td>\n",
       "      <td>12.5</td>\n",
       "      <td>1</td>\n",
       "      <td>1</td>\n",
       "      <td>84</td>\n",
       "      <td>ZAMFARA</td>\n",
       "      <td>Yes</td>\n",
       "      <td>Single</td>\n",
       "      <td>Yes</td>\n",
       "      <td>Yes</td>\n",
       "      <td>More than 5</td>\n",
       "      <td>1</td>\n",
       "    </tr>\n",
       "    <tr>\n",
       "      <th>2012</th>\n",
       "      <td>YAK/S/54796</td>\n",
       "      <td>Sourcing and Purchasing</td>\n",
       "      <td>MSc, MBA and PhD</td>\n",
       "      <td>Male</td>\n",
       "      <td>Referral and Special candidates</td>\n",
       "      <td>7</td>\n",
       "      <td>1995</td>\n",
       "      <td>12.5</td>\n",
       "      <td>1</td>\n",
       "      <td>1</td>\n",
       "      <td>91</td>\n",
       "      <td>ZAMFARA</td>\n",
       "      <td>Yes</td>\n",
       "      <td>Single</td>\n",
       "      <td>Yes</td>\n",
       "      <td>Yes</td>\n",
       "      <td>More than 5</td>\n",
       "      <td>1</td>\n",
       "    </tr>\n",
       "    <tr>\n",
       "      <th>2013</th>\n",
       "      <td>YAK/S/54805</td>\n",
       "      <td>Sourcing and Purchasing</td>\n",
       "      <td>MSc, MBA and PhD</td>\n",
       "      <td>Male</td>\n",
       "      <td>Referral and Special candidates</td>\n",
       "      <td>7</td>\n",
       "      <td>1997</td>\n",
       "      <td>12.5</td>\n",
       "      <td>1</td>\n",
       "      <td>1</td>\n",
       "      <td>91</td>\n",
       "      <td>ZAMFARA</td>\n",
       "      <td>Yes</td>\n",
       "      <td>Single</td>\n",
       "      <td>Yes</td>\n",
       "      <td>Yes</td>\n",
       "      <td>More than 5</td>\n",
       "      <td>1</td>\n",
       "    </tr>\n",
       "    <tr>\n",
       "      <th>2014</th>\n",
       "      <td>YAK/S/54808</td>\n",
       "      <td>Sourcing and Purchasing</td>\n",
       "      <td>Non-University Education</td>\n",
       "      <td>Male</td>\n",
       "      <td>Referral and Special candidates</td>\n",
       "      <td>8</td>\n",
       "      <td>1996</td>\n",
       "      <td>12.5</td>\n",
       "      <td>1</td>\n",
       "      <td>1</td>\n",
       "      <td>91</td>\n",
       "      <td>ZAMFARA</td>\n",
       "      <td>Yes</td>\n",
       "      <td>Single</td>\n",
       "      <td>Yes</td>\n",
       "      <td>Yes</td>\n",
       "      <td>More than 5</td>\n",
       "      <td>1</td>\n",
       "    </tr>\n",
       "    <tr>\n",
       "      <th>2015</th>\n",
       "      <td>YAK/S/54799</td>\n",
       "      <td>Sourcing and Purchasing</td>\n",
       "      <td>Non-University Education</td>\n",
       "      <td>Male</td>\n",
       "      <td>Referral and Special candidates</td>\n",
       "      <td>10</td>\n",
       "      <td>1998</td>\n",
       "      <td>12.5</td>\n",
       "      <td>1</td>\n",
       "      <td>1</td>\n",
       "      <td>91</td>\n",
       "      <td>ZAMFARA</td>\n",
       "      <td>Yes</td>\n",
       "      <td>Single</td>\n",
       "      <td>Yes</td>\n",
       "      <td>Yes</td>\n",
       "      <td>More than 5</td>\n",
       "      <td>1</td>\n",
       "    </tr>\n",
       "    <tr>\n",
       "      <th>2016</th>\n",
       "      <td>YAK/S/54806</td>\n",
       "      <td>Sourcing and Purchasing</td>\n",
       "      <td>Non-University Education</td>\n",
       "      <td>Male</td>\n",
       "      <td>Referral and Special candidates</td>\n",
       "      <td>10</td>\n",
       "      <td>1998</td>\n",
       "      <td>12.5</td>\n",
       "      <td>1</td>\n",
       "      <td>1</td>\n",
       "      <td>91</td>\n",
       "      <td>ZAMFARA</td>\n",
       "      <td>Yes</td>\n",
       "      <td>Single</td>\n",
       "      <td>Yes</td>\n",
       "      <td>Yes</td>\n",
       "      <td>More than 5</td>\n",
       "      <td>1</td>\n",
       "    </tr>\n",
       "    <tr>\n",
       "      <th>2017</th>\n",
       "      <td>YAK/S/54807</td>\n",
       "      <td>Sourcing and Purchasing</td>\n",
       "      <td>Non-University Education</td>\n",
       "      <td>Male</td>\n",
       "      <td>Referral and Special candidates</td>\n",
       "      <td>11</td>\n",
       "      <td>2001</td>\n",
       "      <td>12.5</td>\n",
       "      <td>1</td>\n",
       "      <td>1</td>\n",
       "      <td>91</td>\n",
       "      <td>ZAMFARA</td>\n",
       "      <td>Yes</td>\n",
       "      <td>Single</td>\n",
       "      <td>Yes</td>\n",
       "      <td>Yes</td>\n",
       "      <td>More than 5</td>\n",
       "      <td>1</td>\n",
       "    </tr>\n",
       "    <tr>\n",
       "      <th>2003</th>\n",
       "      <td>YAK/S/54620</td>\n",
       "      <td>Sourcing and Purchasing</td>\n",
       "      <td>MSc, MBA and PhD</td>\n",
       "      <td>Male</td>\n",
       "      <td>Direct Internal process</td>\n",
       "      <td>7</td>\n",
       "      <td>1982</td>\n",
       "      <td>12.5</td>\n",
       "      <td>1</td>\n",
       "      <td>0</td>\n",
       "      <td>90</td>\n",
       "      <td>ZAMFARA</td>\n",
       "      <td>Yes</td>\n",
       "      <td>Single</td>\n",
       "      <td>No</td>\n",
       "      <td>Yes</td>\n",
       "      <td>More than 5</td>\n",
       "      <td>1</td>\n",
       "    </tr>\n",
       "    <tr>\n",
       "      <th>2018</th>\n",
       "      <td>YAK/S/54802</td>\n",
       "      <td>Sourcing and Purchasing</td>\n",
       "      <td>Non-University Education</td>\n",
       "      <td>Male</td>\n",
       "      <td>Referral and Special candidates</td>\n",
       "      <td>10</td>\n",
       "      <td>2001</td>\n",
       "      <td>12.5</td>\n",
       "      <td>1</td>\n",
       "      <td>1</td>\n",
       "      <td>91</td>\n",
       "      <td>ZAMFARA</td>\n",
       "      <td>Yes</td>\n",
       "      <td>Single</td>\n",
       "      <td>Yes</td>\n",
       "      <td>Yes</td>\n",
       "      <td>More than 5</td>\n",
       "      <td>1</td>\n",
       "    </tr>\n",
       "    <tr>\n",
       "      <th>1985</th>\n",
       "      <td>YAK/S/16758</td>\n",
       "      <td>Information and Strategy</td>\n",
       "      <td>MSc, MBA and PhD</td>\n",
       "      <td>Male</td>\n",
       "      <td>Direct Internal process</td>\n",
       "      <td>3</td>\n",
       "      <td>1961</td>\n",
       "      <td>12.5</td>\n",
       "      <td>1</td>\n",
       "      <td>0</td>\n",
       "      <td>79</td>\n",
       "      <td>RIVERS</td>\n",
       "      <td>Yes</td>\n",
       "      <td>Married</td>\n",
       "      <td>No</td>\n",
       "      <td>No</td>\n",
       "      <td>2</td>\n",
       "      <td>1</td>\n",
       "    </tr>\n",
       "    <tr>\n",
       "      <th>1999</th>\n",
       "      <td>YAK/S/54393</td>\n",
       "      <td>Sourcing and Purchasing</td>\n",
       "      <td>MSc, MBA and PhD</td>\n",
       "      <td>Male</td>\n",
       "      <td>Direct Internal process</td>\n",
       "      <td>5</td>\n",
       "      <td>1979</td>\n",
       "      <td>12.5</td>\n",
       "      <td>1</td>\n",
       "      <td>0</td>\n",
       "      <td>89</td>\n",
       "      <td>ZAMFARA</td>\n",
       "      <td>Yes</td>\n",
       "      <td>Single</td>\n",
       "      <td>No</td>\n",
       "      <td>Yes</td>\n",
       "      <td>5</td>\n",
       "      <td>1</td>\n",
       "    </tr>\n",
       "    <tr>\n",
       "      <th>1998</th>\n",
       "      <td>YAK/S/54167</td>\n",
       "      <td>Sourcing and Purchasing</td>\n",
       "      <td>MSc, MBA and PhD</td>\n",
       "      <td>Male</td>\n",
       "      <td>Direct Internal process</td>\n",
       "      <td>7</td>\n",
       "      <td>1976</td>\n",
       "      <td>12.5</td>\n",
       "      <td>1</td>\n",
       "      <td>0</td>\n",
       "      <td>91</td>\n",
       "      <td>ZAMFARA</td>\n",
       "      <td>Yes</td>\n",
       "      <td>Single</td>\n",
       "      <td>No</td>\n",
       "      <td>Yes</td>\n",
       "      <td>More than 5</td>\n",
       "      <td>1</td>\n",
       "    </tr>\n",
       "    <tr>\n",
       "      <th>1997</th>\n",
       "      <td>YAK/S/50716</td>\n",
       "      <td>Sourcing and Purchasing</td>\n",
       "      <td>MSc, MBA and PhD</td>\n",
       "      <td>Male</td>\n",
       "      <td>Direct Internal process</td>\n",
       "      <td>4</td>\n",
       "      <td>1976</td>\n",
       "      <td>12.5</td>\n",
       "      <td>1</td>\n",
       "      <td>1</td>\n",
       "      <td>90</td>\n",
       "      <td>ZAMFARA</td>\n",
       "      <td>Yes</td>\n",
       "      <td>Single</td>\n",
       "      <td>Yes</td>\n",
       "      <td>Yes</td>\n",
       "      <td>5</td>\n",
       "      <td>1</td>\n",
       "    </tr>\n",
       "    <tr>\n",
       "      <th>1996</th>\n",
       "      <td>YAK/S/54345</td>\n",
       "      <td>Sourcing and Purchasing</td>\n",
       "      <td>MSc, MBA and PhD</td>\n",
       "      <td>Male</td>\n",
       "      <td>Direct Internal process</td>\n",
       "      <td>6</td>\n",
       "      <td>1975</td>\n",
       "      <td>12.5</td>\n",
       "      <td>1</td>\n",
       "      <td>0</td>\n",
       "      <td>82</td>\n",
       "      <td>RIVERS</td>\n",
       "      <td>Yes</td>\n",
       "      <td>Single</td>\n",
       "      <td>No</td>\n",
       "      <td>Yes</td>\n",
       "      <td>More than 5</td>\n",
       "      <td>1</td>\n",
       "    </tr>\n",
       "    <tr>\n",
       "      <th>1994</th>\n",
       "      <td>YAK/S/53748</td>\n",
       "      <td>Sourcing and Purchasing</td>\n",
       "      <td>MSc, MBA and PhD</td>\n",
       "      <td>Male</td>\n",
       "      <td>Direct Internal process</td>\n",
       "      <td>4</td>\n",
       "      <td>1971</td>\n",
       "      <td>12.5</td>\n",
       "      <td>1</td>\n",
       "      <td>0</td>\n",
       "      <td>81</td>\n",
       "      <td>YOBE</td>\n",
       "      <td>Yes</td>\n",
       "      <td>Single</td>\n",
       "      <td>No</td>\n",
       "      <td>Yes</td>\n",
       "      <td>5</td>\n",
       "      <td>1</td>\n",
       "    </tr>\n",
       "    <tr>\n",
       "      <th>2000</th>\n",
       "      <td>YAK/S/54692</td>\n",
       "      <td>Sourcing and Purchasing</td>\n",
       "      <td>MSc, MBA and PhD</td>\n",
       "      <td>Male</td>\n",
       "      <td>Referral and Special candidates</td>\n",
       "      <td>5</td>\n",
       "      <td>1981</td>\n",
       "      <td>12.5</td>\n",
       "      <td>1</td>\n",
       "      <td>0</td>\n",
       "      <td>91</td>\n",
       "      <td>ZAMFARA</td>\n",
       "      <td>Yes</td>\n",
       "      <td>Single</td>\n",
       "      <td>Yes</td>\n",
       "      <td>Yes</td>\n",
       "      <td>More than 5</td>\n",
       "      <td>1</td>\n",
       "    </tr>\n",
       "    <tr>\n",
       "      <th>1992</th>\n",
       "      <td>YAK/S/52892</td>\n",
       "      <td>Sourcing and Purchasing</td>\n",
       "      <td>MSc, MBA and PhD</td>\n",
       "      <td>Male</td>\n",
       "      <td>Direct Internal process</td>\n",
       "      <td>3</td>\n",
       "      <td>1971</td>\n",
       "      <td>12.5</td>\n",
       "      <td>1</td>\n",
       "      <td>0</td>\n",
       "      <td>80</td>\n",
       "      <td>RIVERS</td>\n",
       "      <td>Yes</td>\n",
       "      <td>Single</td>\n",
       "      <td>No</td>\n",
       "      <td>No</td>\n",
       "      <td>2</td>\n",
       "      <td>1</td>\n",
       "    </tr>\n",
       "    <tr>\n",
       "      <th>1991</th>\n",
       "      <td>YAK/S/49913</td>\n",
       "      <td>Sourcing and Purchasing</td>\n",
       "      <td>MSc, MBA and PhD</td>\n",
       "      <td>Male</td>\n",
       "      <td>Direct Internal process</td>\n",
       "      <td>3</td>\n",
       "      <td>1970</td>\n",
       "      <td>12.5</td>\n",
       "      <td>1</td>\n",
       "      <td>0</td>\n",
       "      <td>76</td>\n",
       "      <td>RIVERS</td>\n",
       "      <td>Yes</td>\n",
       "      <td>Single</td>\n",
       "      <td>No</td>\n",
       "      <td>Yes</td>\n",
       "      <td>5</td>\n",
       "      <td>1</td>\n",
       "    </tr>\n",
       "    <tr>\n",
       "      <th>1990</th>\n",
       "      <td>YAK/S/53216</td>\n",
       "      <td>Sourcing and Purchasing</td>\n",
       "      <td>MSc, MBA and PhD</td>\n",
       "      <td>Male</td>\n",
       "      <td>Direct Internal process</td>\n",
       "      <td>3</td>\n",
       "      <td>1968</td>\n",
       "      <td>12.5</td>\n",
       "      <td>1</td>\n",
       "      <td>0</td>\n",
       "      <td>82</td>\n",
       "      <td>YOBE</td>\n",
       "      <td>Yes</td>\n",
       "      <td>Single</td>\n",
       "      <td>No</td>\n",
       "      <td>Yes</td>\n",
       "      <td>2</td>\n",
       "      <td>1</td>\n",
       "    </tr>\n",
       "    <tr>\n",
       "      <th>1987</th>\n",
       "      <td>YAK/S/44110</td>\n",
       "      <td>Sourcing and Purchasing</td>\n",
       "      <td>MSc, MBA and PhD</td>\n",
       "      <td>Male</td>\n",
       "      <td>Direct Internal process</td>\n",
       "      <td>4</td>\n",
       "      <td>1963</td>\n",
       "      <td>12.5</td>\n",
       "      <td>1</td>\n",
       "      <td>0</td>\n",
       "      <td>66</td>\n",
       "      <td>TARABA</td>\n",
       "      <td>Yes</td>\n",
       "      <td>Single</td>\n",
       "      <td>No</td>\n",
       "      <td>Yes</td>\n",
       "      <td>5</td>\n",
       "      <td>1</td>\n",
       "    </tr>\n",
       "    <tr>\n",
       "      <th>1988</th>\n",
       "      <td>YAK/S/54581</td>\n",
       "      <td>Sourcing and Purchasing</td>\n",
       "      <td>MSc, MBA and PhD</td>\n",
       "      <td>Male</td>\n",
       "      <td>Direct Internal process</td>\n",
       "      <td>3</td>\n",
       "      <td>1965</td>\n",
       "      <td>12.5</td>\n",
       "      <td>0</td>\n",
       "      <td>0</td>\n",
       "      <td>74</td>\n",
       "      <td>OYO</td>\n",
       "      <td>Yes</td>\n",
       "      <td>Not_Sure</td>\n",
       "      <td>No</td>\n",
       "      <td>Yes</td>\n",
       "      <td>2</td>\n",
       "      <td>0</td>\n",
       "    </tr>\n",
       "    <tr>\n",
       "      <th>1986</th>\n",
       "      <td>YAK/S/45289</td>\n",
       "      <td>People/HR Management</td>\n",
       "      <td>MSc, MBA and PhD</td>\n",
       "      <td>Male</td>\n",
       "      <td>Direct Internal process</td>\n",
       "      <td>2</td>\n",
       "      <td>1968</td>\n",
       "      <td>12.5</td>\n",
       "      <td>1</td>\n",
       "      <td>0</td>\n",
       "      <td>73</td>\n",
       "      <td>RIVERS</td>\n",
       "      <td>Yes</td>\n",
       "      <td>Single</td>\n",
       "      <td>No</td>\n",
       "      <td>Yes</td>\n",
       "      <td>2</td>\n",
       "      <td>0</td>\n",
       "    </tr>\n",
       "    <tr>\n",
       "      <th>1993</th>\n",
       "      <td>YAK/S/46183</td>\n",
       "      <td>Sourcing and Purchasing</td>\n",
       "      <td>MSc, MBA and PhD</td>\n",
       "      <td>Male</td>\n",
       "      <td>Direct Internal process</td>\n",
       "      <td>3</td>\n",
       "      <td>1973</td>\n",
       "      <td>12.5</td>\n",
       "      <td>1</td>\n",
       "      <td>0</td>\n",
       "      <td>74</td>\n",
       "      <td>YOBE</td>\n",
       "      <td>Yes</td>\n",
       "      <td>Single</td>\n",
       "      <td>No</td>\n",
       "      <td>Yes</td>\n",
       "      <td>5</td>\n",
       "      <td>0</td>\n",
       "    </tr>\n",
       "    <tr>\n",
       "      <th>1989</th>\n",
       "      <td>YAK/S/53225</td>\n",
       "      <td>Sourcing and Purchasing</td>\n",
       "      <td>MSc, MBA and PhD</td>\n",
       "      <td>Male</td>\n",
       "      <td>Direct Internal process</td>\n",
       "      <td>3</td>\n",
       "      <td>1968</td>\n",
       "      <td>12.5</td>\n",
       "      <td>1</td>\n",
       "      <td>0</td>\n",
       "      <td>65</td>\n",
       "      <td>TARABA</td>\n",
       "      <td>Yes</td>\n",
       "      <td>Single</td>\n",
       "      <td>No</td>\n",
       "      <td>No</td>\n",
       "      <td>4</td>\n",
       "      <td>0</td>\n",
       "    </tr>\n",
       "    <tr>\n",
       "      <th>1995</th>\n",
       "      <td>YAK/S/54618</td>\n",
       "      <td>Sourcing and Purchasing</td>\n",
       "      <td>MSc, MBA and PhD</td>\n",
       "      <td>Male</td>\n",
       "      <td>Direct Internal process</td>\n",
       "      <td>5</td>\n",
       "      <td>1974</td>\n",
       "      <td>12.5</td>\n",
       "      <td>1</td>\n",
       "      <td>0</td>\n",
       "      <td>79</td>\n",
       "      <td>ZAMFARA</td>\n",
       "      <td>Yes</td>\n",
       "      <td>Single</td>\n",
       "      <td>No</td>\n",
       "      <td>Yes</td>\n",
       "      <td>More than 5</td>\n",
       "      <td>0</td>\n",
       "    </tr>\n",
       "    <tr>\n",
       "      <th>1982</th>\n",
       "      <td>YAK/S/31072</td>\n",
       "      <td>Commercial Sales and Marketing</td>\n",
       "      <td>First Degree or HND</td>\n",
       "      <td>Male</td>\n",
       "      <td>Direct Internal process</td>\n",
       "      <td>3</td>\n",
       "      <td>1961</td>\n",
       "      <td>12.5</td>\n",
       "      <td>0</td>\n",
       "      <td>0</td>\n",
       "      <td>40</td>\n",
       "      <td>OYO</td>\n",
       "      <td>Yes</td>\n",
       "      <td>Married</td>\n",
       "      <td>No</td>\n",
       "      <td>No</td>\n",
       "      <td>1</td>\n",
       "      <td>0</td>\n",
       "    </tr>\n",
       "  </tbody>\n",
       "</table>\n",
       "</div>"
      ],
      "text/plain": [
       "                      EmployeeNo                        Division  \\\n",
       "Year_of_recruitment                                                \n",
       "2001                 YAK/S/54421         Sourcing and Purchasing   \n",
       "2010                 YAK/S/54794         Sourcing and Purchasing   \n",
       "2004                 YAK/S/54690         Sourcing and Purchasing   \n",
       "2005                 YAK/S/54593         Sourcing and Purchasing   \n",
       "2006                 YAK/S/54759         Sourcing and Purchasing   \n",
       "2007                 YAK/S/54750         Sourcing and Purchasing   \n",
       "2008                 YAK/S/54793         Sourcing and Purchasing   \n",
       "2009                 YAK/S/54736         Sourcing and Purchasing   \n",
       "2011                 YAK/S/54764         Sourcing and Purchasing   \n",
       "2002                 YAK/S/54586         Sourcing and Purchasing   \n",
       "2012                 YAK/S/54796         Sourcing and Purchasing   \n",
       "2013                 YAK/S/54805         Sourcing and Purchasing   \n",
       "2014                 YAK/S/54808         Sourcing and Purchasing   \n",
       "2015                 YAK/S/54799         Sourcing and Purchasing   \n",
       "2016                 YAK/S/54806         Sourcing and Purchasing   \n",
       "2017                 YAK/S/54807         Sourcing and Purchasing   \n",
       "2003                 YAK/S/54620         Sourcing and Purchasing   \n",
       "2018                 YAK/S/54802         Sourcing and Purchasing   \n",
       "1985                 YAK/S/16758        Information and Strategy   \n",
       "1999                 YAK/S/54393         Sourcing and Purchasing   \n",
       "1998                 YAK/S/54167         Sourcing and Purchasing   \n",
       "1997                 YAK/S/50716         Sourcing and Purchasing   \n",
       "1996                 YAK/S/54345         Sourcing and Purchasing   \n",
       "1994                 YAK/S/53748         Sourcing and Purchasing   \n",
       "2000                 YAK/S/54692         Sourcing and Purchasing   \n",
       "1992                 YAK/S/52892         Sourcing and Purchasing   \n",
       "1991                 YAK/S/49913         Sourcing and Purchasing   \n",
       "1990                 YAK/S/53216         Sourcing and Purchasing   \n",
       "1987                 YAK/S/44110         Sourcing and Purchasing   \n",
       "1988                 YAK/S/54581         Sourcing and Purchasing   \n",
       "1986                 YAK/S/45289            People/HR Management   \n",
       "1993                 YAK/S/46183         Sourcing and Purchasing   \n",
       "1989                 YAK/S/53225         Sourcing and Purchasing   \n",
       "1995                 YAK/S/54618         Sourcing and Purchasing   \n",
       "1982                 YAK/S/31072  Commercial Sales and Marketing   \n",
       "\n",
       "                                Qualification Gender  \\\n",
       "Year_of_recruitment                                    \n",
       "2001                         MSc, MBA and PhD   Male   \n",
       "2010                         MSc, MBA and PhD   Male   \n",
       "2004                         MSc, MBA and PhD   Male   \n",
       "2005                         MSc, MBA and PhD   Male   \n",
       "2006                         MSc, MBA and PhD   Male   \n",
       "2007                         MSc, MBA and PhD   Male   \n",
       "2008                         MSc, MBA and PhD   Male   \n",
       "2009                         MSc, MBA and PhD   Male   \n",
       "2011                         MSc, MBA and PhD   Male   \n",
       "2002                         MSc, MBA and PhD   Male   \n",
       "2012                         MSc, MBA and PhD   Male   \n",
       "2013                         MSc, MBA and PhD   Male   \n",
       "2014                 Non-University Education   Male   \n",
       "2015                 Non-University Education   Male   \n",
       "2016                 Non-University Education   Male   \n",
       "2017                 Non-University Education   Male   \n",
       "2003                         MSc, MBA and PhD   Male   \n",
       "2018                 Non-University Education   Male   \n",
       "1985                         MSc, MBA and PhD   Male   \n",
       "1999                         MSc, MBA and PhD   Male   \n",
       "1998                         MSc, MBA and PhD   Male   \n",
       "1997                         MSc, MBA and PhD   Male   \n",
       "1996                         MSc, MBA and PhD   Male   \n",
       "1994                         MSc, MBA and PhD   Male   \n",
       "2000                         MSc, MBA and PhD   Male   \n",
       "1992                         MSc, MBA and PhD   Male   \n",
       "1991                         MSc, MBA and PhD   Male   \n",
       "1990                         MSc, MBA and PhD   Male   \n",
       "1987                         MSc, MBA and PhD   Male   \n",
       "1988                         MSc, MBA and PhD   Male   \n",
       "1986                         MSc, MBA and PhD   Male   \n",
       "1993                         MSc, MBA and PhD   Male   \n",
       "1989                         MSc, MBA and PhD   Male   \n",
       "1995                         MSc, MBA and PhD   Male   \n",
       "1982                      First Degree or HND   Male   \n",
       "\n",
       "                              Channel_of_Recruitment  Trainings_Attended  \\\n",
       "Year_of_recruitment                                                        \n",
       "2001                 Referral and Special candidates                   6   \n",
       "2010                 Referral and Special candidates                   7   \n",
       "2004                 Referral and Special candidates                   7   \n",
       "2005                 Referral and Special candidates                   6   \n",
       "2006                 Referral and Special candidates                  11   \n",
       "2007                 Referral and Special candidates                  11   \n",
       "2008                 Referral and Special candidates                   6   \n",
       "2009                 Referral and Special candidates                  11   \n",
       "2011                 Referral and Special candidates                   6   \n",
       "2002                 Referral and Special candidates                   8   \n",
       "2012                 Referral and Special candidates                   7   \n",
       "2013                 Referral and Special candidates                   7   \n",
       "2014                 Referral and Special candidates                   8   \n",
       "2015                 Referral and Special candidates                  10   \n",
       "2016                 Referral and Special candidates                  10   \n",
       "2017                 Referral and Special candidates                  11   \n",
       "2003                         Direct Internal process                   7   \n",
       "2018                 Referral and Special candidates                  10   \n",
       "1985                         Direct Internal process                   3   \n",
       "1999                         Direct Internal process                   5   \n",
       "1998                         Direct Internal process                   7   \n",
       "1997                         Direct Internal process                   4   \n",
       "1996                         Direct Internal process                   6   \n",
       "1994                         Direct Internal process                   4   \n",
       "2000                 Referral and Special candidates                   5   \n",
       "1992                         Direct Internal process                   3   \n",
       "1991                         Direct Internal process                   3   \n",
       "1990                         Direct Internal process                   3   \n",
       "1987                         Direct Internal process                   4   \n",
       "1988                         Direct Internal process                   3   \n",
       "1986                         Direct Internal process                   2   \n",
       "1993                         Direct Internal process                   3   \n",
       "1989                         Direct Internal process                   3   \n",
       "1995                         Direct Internal process                   5   \n",
       "1982                         Direct Internal process                   3   \n",
       "\n",
       "                     Year_of_birth  Last_performance_score  Targets_met  \\\n",
       "Year_of_recruitment                                                       \n",
       "2001                          1981                    12.5            1   \n",
       "2010                          1993                    12.5            1   \n",
       "2004                          1982                    12.5            1   \n",
       "2005                          1984                    12.5            1   \n",
       "2006                          1991                    12.5            1   \n",
       "2007                          1991                    12.5            1   \n",
       "2008                          1992                    12.5            1   \n",
       "2009                          1993                    12.5            1   \n",
       "2011                          1994                    12.5            1   \n",
       "2002                          1981                    12.5            1   \n",
       "2012                          1995                    12.5            1   \n",
       "2013                          1997                    12.5            1   \n",
       "2014                          1996                    12.5            1   \n",
       "2015                          1998                    12.5            1   \n",
       "2016                          1998                    12.5            1   \n",
       "2017                          2001                    12.5            1   \n",
       "2003                          1982                    12.5            1   \n",
       "2018                          2001                    12.5            1   \n",
       "1985                          1961                    12.5            1   \n",
       "1999                          1979                    12.5            1   \n",
       "1998                          1976                    12.5            1   \n",
       "1997                          1976                    12.5            1   \n",
       "1996                          1975                    12.5            1   \n",
       "1994                          1971                    12.5            1   \n",
       "2000                          1981                    12.5            1   \n",
       "1992                          1971                    12.5            1   \n",
       "1991                          1970                    12.5            1   \n",
       "1990                          1968                    12.5            1   \n",
       "1987                          1963                    12.5            1   \n",
       "1988                          1965                    12.5            0   \n",
       "1986                          1968                    12.5            1   \n",
       "1993                          1973                    12.5            1   \n",
       "1989                          1968                    12.5            1   \n",
       "1995                          1974                    12.5            1   \n",
       "1982                          1961                    12.5            0   \n",
       "\n",
       "                     Previous_Award  Training_score_average State_Of_Origin  \\\n",
       "Year_of_recruitment                                                           \n",
       "2001                              1                      82         ZAMFARA   \n",
       "2010                              1                      91         ZAMFARA   \n",
       "2004                              1                      86         ZAMFARA   \n",
       "2005                              1                      85            YOBE   \n",
       "2006                              1                      90         ZAMFARA   \n",
       "2007                              1                      87         ZAMFARA   \n",
       "2008                              1                      91         ZAMFARA   \n",
       "2009                              1                      90         ZAMFARA   \n",
       "2011                              1                      90         ZAMFARA   \n",
       "2002                              1                      84         ZAMFARA   \n",
       "2012                              1                      91         ZAMFARA   \n",
       "2013                              1                      91         ZAMFARA   \n",
       "2014                              1                      91         ZAMFARA   \n",
       "2015                              1                      91         ZAMFARA   \n",
       "2016                              1                      91         ZAMFARA   \n",
       "2017                              1                      91         ZAMFARA   \n",
       "2003                              0                      90         ZAMFARA   \n",
       "2018                              1                      91         ZAMFARA   \n",
       "1985                              0                      79          RIVERS   \n",
       "1999                              0                      89         ZAMFARA   \n",
       "1998                              0                      91         ZAMFARA   \n",
       "1997                              1                      90         ZAMFARA   \n",
       "1996                              0                      82          RIVERS   \n",
       "1994                              0                      81            YOBE   \n",
       "2000                              0                      91         ZAMFARA   \n",
       "1992                              0                      80          RIVERS   \n",
       "1991                              0                      76          RIVERS   \n",
       "1990                              0                      82            YOBE   \n",
       "1987                              0                      66          TARABA   \n",
       "1988                              0                      74             OYO   \n",
       "1986                              0                      73          RIVERS   \n",
       "1993                              0                      74            YOBE   \n",
       "1989                              0                      65          TARABA   \n",
       "1995                              0                      79         ZAMFARA   \n",
       "1982                              0                      40             OYO   \n",
       "\n",
       "                    Foreign_schooled Marital_Status Past_Disciplinary_Action  \\\n",
       "Year_of_recruitment                                                            \n",
       "2001                             Yes         Single                      Yes   \n",
       "2010                             Yes         Single                      Yes   \n",
       "2004                             Yes         Single                      Yes   \n",
       "2005                             Yes         Single                      Yes   \n",
       "2006                             Yes         Single                      Yes   \n",
       "2007                             Yes         Single                       No   \n",
       "2008                             Yes         Single                      Yes   \n",
       "2009                             Yes         Single                      Yes   \n",
       "2011                             Yes         Single                      Yes   \n",
       "2002                             Yes         Single                      Yes   \n",
       "2012                             Yes         Single                      Yes   \n",
       "2013                             Yes         Single                      Yes   \n",
       "2014                             Yes         Single                      Yes   \n",
       "2015                             Yes         Single                      Yes   \n",
       "2016                             Yes         Single                      Yes   \n",
       "2017                             Yes         Single                      Yes   \n",
       "2003                             Yes         Single                       No   \n",
       "2018                             Yes         Single                      Yes   \n",
       "1985                             Yes        Married                       No   \n",
       "1999                             Yes         Single                       No   \n",
       "1998                             Yes         Single                       No   \n",
       "1997                             Yes         Single                      Yes   \n",
       "1996                             Yes         Single                       No   \n",
       "1994                             Yes         Single                       No   \n",
       "2000                             Yes         Single                      Yes   \n",
       "1992                             Yes         Single                       No   \n",
       "1991                             Yes         Single                       No   \n",
       "1990                             Yes         Single                       No   \n",
       "1987                             Yes         Single                       No   \n",
       "1988                             Yes       Not_Sure                       No   \n",
       "1986                             Yes         Single                       No   \n",
       "1993                             Yes         Single                       No   \n",
       "1989                             Yes         Single                       No   \n",
       "1995                             Yes         Single                       No   \n",
       "1982                             Yes        Married                       No   \n",
       "\n",
       "                    Previous_IntraDepartmental_Movement  \\\n",
       "Year_of_recruitment                                       \n",
       "2001                                                Yes   \n",
       "2010                                                Yes   \n",
       "2004                                                Yes   \n",
       "2005                                                Yes   \n",
       "2006                                                Yes   \n",
       "2007                                                Yes   \n",
       "2008                                                Yes   \n",
       "2009                                                Yes   \n",
       "2011                                                Yes   \n",
       "2002                                                Yes   \n",
       "2012                                                Yes   \n",
       "2013                                                Yes   \n",
       "2014                                                Yes   \n",
       "2015                                                Yes   \n",
       "2016                                                Yes   \n",
       "2017                                                Yes   \n",
       "2003                                                Yes   \n",
       "2018                                                Yes   \n",
       "1985                                                 No   \n",
       "1999                                                Yes   \n",
       "1998                                                Yes   \n",
       "1997                                                Yes   \n",
       "1996                                                Yes   \n",
       "1994                                                Yes   \n",
       "2000                                                Yes   \n",
       "1992                                                 No   \n",
       "1991                                                Yes   \n",
       "1990                                                Yes   \n",
       "1987                                                Yes   \n",
       "1988                                                Yes   \n",
       "1986                                                Yes   \n",
       "1993                                                Yes   \n",
       "1989                                                 No   \n",
       "1995                                                Yes   \n",
       "1982                                                 No   \n",
       "\n",
       "                    No_of_previous_employers  Promoted_or_Not  \n",
       "Year_of_recruitment                                            \n",
       "2001                             More than 5                1  \n",
       "2010                             More than 5                1  \n",
       "2004                             More than 5                1  \n",
       "2005                             More than 5                1  \n",
       "2006                             More than 5                1  \n",
       "2007                             More than 5                1  \n",
       "2008                             More than 5                1  \n",
       "2009                             More than 5                1  \n",
       "2011                             More than 5                1  \n",
       "2002                             More than 5                1  \n",
       "2012                             More than 5                1  \n",
       "2013                             More than 5                1  \n",
       "2014                             More than 5                1  \n",
       "2015                             More than 5                1  \n",
       "2016                             More than 5                1  \n",
       "2017                             More than 5                1  \n",
       "2003                             More than 5                1  \n",
       "2018                             More than 5                1  \n",
       "1985                                       2                1  \n",
       "1999                                       5                1  \n",
       "1998                             More than 5                1  \n",
       "1997                                       5                1  \n",
       "1996                             More than 5                1  \n",
       "1994                                       5                1  \n",
       "2000                             More than 5                1  \n",
       "1992                                       2                1  \n",
       "1991                                       5                1  \n",
       "1990                                       2                1  \n",
       "1987                                       5                1  \n",
       "1988                                       2                0  \n",
       "1986                                       2                0  \n",
       "1993                                       5                0  \n",
       "1989                                       4                0  \n",
       "1995                             More than 5                0  \n",
       "1982                                       1                0  "
      ]
     },
     "execution_count": 310,
     "metadata": {},
     "output_type": "execute_result"
    }
   ],
   "source": [
    "train.groupby('Year_of_recruitment').max().sort_values('Promoted_or_Not', ascending=False)"
   ]
  },
  {
   "cell_type": "markdown",
   "metadata": {},
   "source": [
    "##### Analyzing Show that year of recruitment is not a high criteria for Promotion"
   ]
  },
  {
   "cell_type": "code",
   "execution_count": null,
   "metadata": {},
   "outputs": [],
   "source": []
  },
  {
   "cell_type": "code",
   "execution_count": null,
   "metadata": {},
   "outputs": [],
   "source": []
  },
  {
   "cell_type": "code",
   "execution_count": null,
   "metadata": {},
   "outputs": [],
   "source": []
  },
  {
   "cell_type": "markdown",
   "metadata": {},
   "source": [
    "### PREVIOUS EMPLOYERS"
   ]
  },
  {
   "cell_type": "code",
   "execution_count": 311,
   "metadata": {},
   "outputs": [
    {
     "data": {
      "text/html": [
       "<div>\n",
       "<style scoped>\n",
       "    .dataframe tbody tr th:only-of-type {\n",
       "        vertical-align: middle;\n",
       "    }\n",
       "\n",
       "    .dataframe tbody tr th {\n",
       "        vertical-align: top;\n",
       "    }\n",
       "\n",
       "    .dataframe thead th {\n",
       "        text-align: right;\n",
       "    }\n",
       "</style>\n",
       "<table border=\"1\" class=\"dataframe\">\n",
       "  <thead>\n",
       "    <tr style=\"text-align: right;\">\n",
       "      <th></th>\n",
       "      <th>EmployeeNo</th>\n",
       "      <th>Division</th>\n",
       "      <th>Qualification</th>\n",
       "      <th>Gender</th>\n",
       "      <th>Channel_of_Recruitment</th>\n",
       "      <th>Trainings_Attended</th>\n",
       "      <th>Year_of_birth</th>\n",
       "      <th>Last_performance_score</th>\n",
       "      <th>Year_of_recruitment</th>\n",
       "      <th>Targets_met</th>\n",
       "      <th>Previous_Award</th>\n",
       "      <th>Training_score_average</th>\n",
       "      <th>State_Of_Origin</th>\n",
       "      <th>Foreign_schooled</th>\n",
       "      <th>Marital_Status</th>\n",
       "      <th>Past_Disciplinary_Action</th>\n",
       "      <th>Previous_IntraDepartmental_Movement</th>\n",
       "      <th>Promoted_or_Not</th>\n",
       "    </tr>\n",
       "    <tr>\n",
       "      <th>No_of_previous_employers</th>\n",
       "      <th></th>\n",
       "      <th></th>\n",
       "      <th></th>\n",
       "      <th></th>\n",
       "      <th></th>\n",
       "      <th></th>\n",
       "      <th></th>\n",
       "      <th></th>\n",
       "      <th></th>\n",
       "      <th></th>\n",
       "      <th></th>\n",
       "      <th></th>\n",
       "      <th></th>\n",
       "      <th></th>\n",
       "      <th></th>\n",
       "      <th></th>\n",
       "      <th></th>\n",
       "      <th></th>\n",
       "    </tr>\n",
       "  </thead>\n",
       "  <tbody>\n",
       "    <tr>\n",
       "      <th>0</th>\n",
       "      <td>YAK/S/54802</td>\n",
       "      <td>Sourcing and Purchasing</td>\n",
       "      <td>Non-University Education</td>\n",
       "      <td>Male</td>\n",
       "      <td>Referral and Special candidates</td>\n",
       "      <td>10</td>\n",
       "      <td>2001</td>\n",
       "      <td>12.5</td>\n",
       "      <td>2018</td>\n",
       "      <td>1</td>\n",
       "      <td>1</td>\n",
       "      <td>91</td>\n",
       "      <td>ZAMFARA</td>\n",
       "      <td>Yes</td>\n",
       "      <td>Single</td>\n",
       "      <td>Yes</td>\n",
       "      <td>Yes</td>\n",
       "      <td>1</td>\n",
       "    </tr>\n",
       "    <tr>\n",
       "      <th>1</th>\n",
       "      <td>YAK/S/54807</td>\n",
       "      <td>Sourcing and Purchasing</td>\n",
       "      <td>Non-University Education</td>\n",
       "      <td>Male</td>\n",
       "      <td>Referral and Special candidates</td>\n",
       "      <td>11</td>\n",
       "      <td>2001</td>\n",
       "      <td>12.5</td>\n",
       "      <td>2018</td>\n",
       "      <td>1</td>\n",
       "      <td>1</td>\n",
       "      <td>91</td>\n",
       "      <td>ZAMFARA</td>\n",
       "      <td>Yes</td>\n",
       "      <td>Single</td>\n",
       "      <td>Yes</td>\n",
       "      <td>Yes</td>\n",
       "      <td>1</td>\n",
       "    </tr>\n",
       "    <tr>\n",
       "      <th>2</th>\n",
       "      <td>YAK/S/54808</td>\n",
       "      <td>Sourcing and Purchasing</td>\n",
       "      <td>Non-University Education</td>\n",
       "      <td>Male</td>\n",
       "      <td>Referral and Special candidates</td>\n",
       "      <td>11</td>\n",
       "      <td>2001</td>\n",
       "      <td>12.5</td>\n",
       "      <td>2018</td>\n",
       "      <td>1</td>\n",
       "      <td>1</td>\n",
       "      <td>91</td>\n",
       "      <td>ZAMFARA</td>\n",
       "      <td>Yes</td>\n",
       "      <td>Single</td>\n",
       "      <td>Yes</td>\n",
       "      <td>Yes</td>\n",
       "      <td>1</td>\n",
       "    </tr>\n",
       "    <tr>\n",
       "      <th>3</th>\n",
       "      <td>YAK/S/54806</td>\n",
       "      <td>Sourcing and Purchasing</td>\n",
       "      <td>Non-University Education</td>\n",
       "      <td>Male</td>\n",
       "      <td>Referral and Special candidates</td>\n",
       "      <td>11</td>\n",
       "      <td>1999</td>\n",
       "      <td>12.5</td>\n",
       "      <td>2018</td>\n",
       "      <td>1</td>\n",
       "      <td>1</td>\n",
       "      <td>89</td>\n",
       "      <td>ZAMFARA</td>\n",
       "      <td>Yes</td>\n",
       "      <td>Single</td>\n",
       "      <td>Yes</td>\n",
       "      <td>Yes</td>\n",
       "      <td>1</td>\n",
       "    </tr>\n",
       "    <tr>\n",
       "      <th>4</th>\n",
       "      <td>YAK/S/54796</td>\n",
       "      <td>Sourcing and Purchasing</td>\n",
       "      <td>Non-University Education</td>\n",
       "      <td>Male</td>\n",
       "      <td>Referral and Special candidates</td>\n",
       "      <td>10</td>\n",
       "      <td>2001</td>\n",
       "      <td>12.5</td>\n",
       "      <td>2018</td>\n",
       "      <td>1</td>\n",
       "      <td>1</td>\n",
       "      <td>91</td>\n",
       "      <td>ZAMFARA</td>\n",
       "      <td>Yes</td>\n",
       "      <td>Single</td>\n",
       "      <td>Yes</td>\n",
       "      <td>Yes</td>\n",
       "      <td>1</td>\n",
       "    </tr>\n",
       "    <tr>\n",
       "      <th>5</th>\n",
       "      <td>YAK/S/54771</td>\n",
       "      <td>Sourcing and Purchasing</td>\n",
       "      <td>Non-University Education</td>\n",
       "      <td>Male</td>\n",
       "      <td>Referral and Special candidates</td>\n",
       "      <td>6</td>\n",
       "      <td>2000</td>\n",
       "      <td>12.5</td>\n",
       "      <td>2018</td>\n",
       "      <td>1</td>\n",
       "      <td>1</td>\n",
       "      <td>90</td>\n",
       "      <td>ZAMFARA</td>\n",
       "      <td>Yes</td>\n",
       "      <td>Single</td>\n",
       "      <td>Yes</td>\n",
       "      <td>Yes</td>\n",
       "      <td>1</td>\n",
       "    </tr>\n",
       "    <tr>\n",
       "      <th>More than 5</th>\n",
       "      <td>YAK/S/54759</td>\n",
       "      <td>Sourcing and Purchasing</td>\n",
       "      <td>Non-University Education</td>\n",
       "      <td>Male</td>\n",
       "      <td>Referral and Special candidates</td>\n",
       "      <td>6</td>\n",
       "      <td>1999</td>\n",
       "      <td>12.5</td>\n",
       "      <td>2018</td>\n",
       "      <td>1</td>\n",
       "      <td>1</td>\n",
       "      <td>91</td>\n",
       "      <td>ZAMFARA</td>\n",
       "      <td>Yes</td>\n",
       "      <td>Single</td>\n",
       "      <td>Yes</td>\n",
       "      <td>Yes</td>\n",
       "      <td>1</td>\n",
       "    </tr>\n",
       "  </tbody>\n",
       "</table>\n",
       "</div>"
      ],
      "text/plain": [
       "                           EmployeeNo                 Division  \\\n",
       "No_of_previous_employers                                         \n",
       "0                         YAK/S/54802  Sourcing and Purchasing   \n",
       "1                         YAK/S/54807  Sourcing and Purchasing   \n",
       "2                         YAK/S/54808  Sourcing and Purchasing   \n",
       "3                         YAK/S/54806  Sourcing and Purchasing   \n",
       "4                         YAK/S/54796  Sourcing and Purchasing   \n",
       "5                         YAK/S/54771  Sourcing and Purchasing   \n",
       "More than 5               YAK/S/54759  Sourcing and Purchasing   \n",
       "\n",
       "                                     Qualification Gender  \\\n",
       "No_of_previous_employers                                    \n",
       "0                         Non-University Education   Male   \n",
       "1                         Non-University Education   Male   \n",
       "2                         Non-University Education   Male   \n",
       "3                         Non-University Education   Male   \n",
       "4                         Non-University Education   Male   \n",
       "5                         Non-University Education   Male   \n",
       "More than 5               Non-University Education   Male   \n",
       "\n",
       "                                   Channel_of_Recruitment  Trainings_Attended  \\\n",
       "No_of_previous_employers                                                        \n",
       "0                         Referral and Special candidates                  10   \n",
       "1                         Referral and Special candidates                  11   \n",
       "2                         Referral and Special candidates                  11   \n",
       "3                         Referral and Special candidates                  11   \n",
       "4                         Referral and Special candidates                  10   \n",
       "5                         Referral and Special candidates                   6   \n",
       "More than 5               Referral and Special candidates                   6   \n",
       "\n",
       "                          Year_of_birth  Last_performance_score  \\\n",
       "No_of_previous_employers                                          \n",
       "0                                  2001                    12.5   \n",
       "1                                  2001                    12.5   \n",
       "2                                  2001                    12.5   \n",
       "3                                  1999                    12.5   \n",
       "4                                  2001                    12.5   \n",
       "5                                  2000                    12.5   \n",
       "More than 5                        1999                    12.5   \n",
       "\n",
       "                          Year_of_recruitment  Targets_met  Previous_Award  \\\n",
       "No_of_previous_employers                                                     \n",
       "0                                        2018            1               1   \n",
       "1                                        2018            1               1   \n",
       "2                                        2018            1               1   \n",
       "3                                        2018            1               1   \n",
       "4                                        2018            1               1   \n",
       "5                                        2018            1               1   \n",
       "More than 5                              2018            1               1   \n",
       "\n",
       "                          Training_score_average State_Of_Origin  \\\n",
       "No_of_previous_employers                                           \n",
       "0                                             91         ZAMFARA   \n",
       "1                                             91         ZAMFARA   \n",
       "2                                             91         ZAMFARA   \n",
       "3                                             89         ZAMFARA   \n",
       "4                                             91         ZAMFARA   \n",
       "5                                             90         ZAMFARA   \n",
       "More than 5                                   91         ZAMFARA   \n",
       "\n",
       "                         Foreign_schooled Marital_Status  \\\n",
       "No_of_previous_employers                                   \n",
       "0                                     Yes         Single   \n",
       "1                                     Yes         Single   \n",
       "2                                     Yes         Single   \n",
       "3                                     Yes         Single   \n",
       "4                                     Yes         Single   \n",
       "5                                     Yes         Single   \n",
       "More than 5                           Yes         Single   \n",
       "\n",
       "                         Past_Disciplinary_Action  \\\n",
       "No_of_previous_employers                            \n",
       "0                                             Yes   \n",
       "1                                             Yes   \n",
       "2                                             Yes   \n",
       "3                                             Yes   \n",
       "4                                             Yes   \n",
       "5                                             Yes   \n",
       "More than 5                                   Yes   \n",
       "\n",
       "                         Previous_IntraDepartmental_Movement  Promoted_or_Not  \n",
       "No_of_previous_employers                                                       \n",
       "0                                                        Yes                1  \n",
       "1                                                        Yes                1  \n",
       "2                                                        Yes                1  \n",
       "3                                                        Yes                1  \n",
       "4                                                        Yes                1  \n",
       "5                                                        Yes                1  \n",
       "More than 5                                              Yes                1  "
      ]
     },
     "execution_count": 311,
     "metadata": {},
     "output_type": "execute_result"
    }
   ],
   "source": [
    "train.groupby('No_of_previous_employers').max()"
   ]
  },
  {
   "cell_type": "code",
   "execution_count": null,
   "metadata": {},
   "outputs": [],
   "source": []
  },
  {
   "cell_type": "code",
   "execution_count": null,
   "metadata": {},
   "outputs": [],
   "source": []
  },
  {
   "cell_type": "markdown",
   "metadata": {},
   "source": [
    "#### CHANNEL OF RECRUITMENT"
   ]
  },
  {
   "cell_type": "code",
   "execution_count": 312,
   "metadata": {},
   "outputs": [
    {
     "data": {
      "text/plain": [
       "Agency and others                  21310\n",
       "Direct Internal process            16194\n",
       "Referral and Special candidates      808\n",
       "Name: Channel_of_Recruitment, dtype: int64"
      ]
     },
     "execution_count": 312,
     "metadata": {},
     "output_type": "execute_result"
    }
   ],
   "source": [
    "train['Channel_of_Recruitment'].value_counts()"
   ]
  },
  {
   "cell_type": "code",
   "execution_count": 313,
   "metadata": {},
   "outputs": [
    {
     "data": {
      "text/plain": [
       "EmployeeNo                             1796\n",
       "Division                               1796\n",
       "Qualification                          1796\n",
       "Gender                                 1796\n",
       "Channel_of_Recruitment                 1796\n",
       "Trainings_Attended                     1796\n",
       "Year_of_birth                          1796\n",
       "Last_performance_score                 1796\n",
       "Year_of_recruitment                    1796\n",
       "Targets_met                            1796\n",
       "Previous_Award                         1796\n",
       "Training_score_average                 1796\n",
       "State_Of_Origin                        1796\n",
       "Foreign_schooled                       1796\n",
       "Marital_Status                         1796\n",
       "Past_Disciplinary_Action               1796\n",
       "Previous_IntraDepartmental_Movement    1796\n",
       "No_of_previous_employers               1796\n",
       "Promoted_or_Not                        1796\n",
       "dtype: int64"
      ]
     },
     "execution_count": 313,
     "metadata": {},
     "output_type": "execute_result"
    }
   ],
   "source": [
    "train[(train['Channel_of_Recruitment'] == 'Agency and others') & (train['Promoted_or_Not']==1)].count()"
   ]
  },
  {
   "cell_type": "code",
   "execution_count": 314,
   "metadata": {},
   "outputs": [
    {
     "data": {
      "text/plain": [
       "EmployeeNo                             1347\n",
       "Division                               1347\n",
       "Qualification                          1347\n",
       "Gender                                 1347\n",
       "Channel_of_Recruitment                 1347\n",
       "Trainings_Attended                     1347\n",
       "Year_of_birth                          1347\n",
       "Last_performance_score                 1347\n",
       "Year_of_recruitment                    1347\n",
       "Targets_met                            1347\n",
       "Previous_Award                         1347\n",
       "Training_score_average                 1347\n",
       "State_Of_Origin                        1347\n",
       "Foreign_schooled                       1347\n",
       "Marital_Status                         1347\n",
       "Past_Disciplinary_Action               1347\n",
       "Previous_IntraDepartmental_Movement    1347\n",
       "No_of_previous_employers               1347\n",
       "Promoted_or_Not                        1347\n",
       "dtype: int64"
      ]
     },
     "execution_count": 314,
     "metadata": {},
     "output_type": "execute_result"
    }
   ],
   "source": [
    "train[(train['Channel_of_Recruitment'] == 'Direct Internal process') & (train['Promoted_or_Not']==1)].count()"
   ]
  },
  {
   "cell_type": "code",
   "execution_count": 315,
   "metadata": {},
   "outputs": [
    {
     "data": {
      "text/plain": [
       "EmployeeNo                             98\n",
       "Division                               98\n",
       "Qualification                          98\n",
       "Gender                                 98\n",
       "Channel_of_Recruitment                 98\n",
       "Trainings_Attended                     98\n",
       "Year_of_birth                          98\n",
       "Last_performance_score                 98\n",
       "Year_of_recruitment                    98\n",
       "Targets_met                            98\n",
       "Previous_Award                         98\n",
       "Training_score_average                 98\n",
       "State_Of_Origin                        98\n",
       "Foreign_schooled                       98\n",
       "Marital_Status                         98\n",
       "Past_Disciplinary_Action               98\n",
       "Previous_IntraDepartmental_Movement    98\n",
       "No_of_previous_employers               98\n",
       "Promoted_or_Not                        98\n",
       "dtype: int64"
      ]
     },
     "execution_count": 315,
     "metadata": {},
     "output_type": "execute_result"
    }
   ],
   "source": [
    "train[(train['Channel_of_Recruitment'] == 'Referral and Special candidates') & (train['Promoted_or_Not']==1)].count()"
   ]
  },
  {
   "cell_type": "markdown",
   "metadata": {},
   "source": [
    "**% of promoted staff in the (Agency and others) Recriutment**"
   ]
  },
  {
   "cell_type": "code",
   "execution_count": 320,
   "metadata": {},
   "outputs": [
    {
     "data": {
      "text/plain": [
       "8.427968090098545"
      ]
     },
     "execution_count": 320,
     "metadata": {},
     "output_type": "execute_result"
    }
   ],
   "source": [
    "(1796/21310)*100"
   ]
  },
  {
   "cell_type": "markdown",
   "metadata": {},
   "source": [
    "**% of promoted staff in the (Direct Internal process) Recruitment way**"
   ]
  },
  {
   "cell_type": "code",
   "execution_count": 321,
   "metadata": {},
   "outputs": [
    {
     "data": {
      "text/plain": [
       "8.317895516858096"
      ]
     },
     "execution_count": 321,
     "metadata": {},
     "output_type": "execute_result"
    }
   ],
   "source": [
    "(1347/16194)*100"
   ]
  },
  {
   "cell_type": "markdown",
   "metadata": {},
   "source": [
    "**% of promoted staff in the(Referral and Special candidates) Recruitment**"
   ]
  },
  {
   "cell_type": "code",
   "execution_count": 322,
   "metadata": {},
   "outputs": [
    {
     "data": {
      "text/plain": [
       "12.128712871287128"
      ]
     },
     "execution_count": 322,
     "metadata": {},
     "output_type": "execute_result"
    }
   ],
   "source": [
    "(98/808)*100"
   ]
  },
  {
   "cell_type": "code",
   "execution_count": null,
   "metadata": {},
   "outputs": [],
   "source": []
  },
  {
   "cell_type": "code",
   "execution_count": null,
   "metadata": {},
   "outputs": [],
   "source": []
  },
  {
   "cell_type": "code",
   "execution_count": null,
   "metadata": {},
   "outputs": [],
   "source": []
  },
  {
   "cell_type": "code",
   "execution_count": null,
   "metadata": {},
   "outputs": [],
   "source": []
  },
  {
   "cell_type": "code",
   "execution_count": null,
   "metadata": {},
   "outputs": [],
   "source": []
  },
  {
   "cell_type": "code",
   "execution_count": null,
   "metadata": {},
   "outputs": [],
   "source": []
  }
 ],
 "metadata": {
  "kernelspec": {
   "display_name": "Python 3 (ipykernel)",
   "language": "python",
   "name": "python3"
  },
  "language_info": {
   "codemirror_mode": {
    "name": "ipython",
    "version": 3
   },
   "file_extension": ".py",
   "mimetype": "text/x-python",
   "name": "python",
   "nbconvert_exporter": "python",
   "pygments_lexer": "ipython3",
   "version": "3.9.13"
  }
 },
 "nbformat": 4,
 "nbformat_minor": 2
}
