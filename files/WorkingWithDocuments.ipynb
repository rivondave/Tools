{
 "cells": [
  {
   "cell_type": "markdown",
   "metadata": {},
   "source": [
    "## WORKING WITH WORD,PDF AND JSON DOCUMENTS"
   ]
  },
  {
   "cell_type": "markdown",
   "metadata": {},
   "source": [
    "Pdf and word documents are binary files because they contain more than just plain text. In addition to text, they contain fonts, colors and other layout information. Json files on the other hand are plain text files. The python modules we are going to use for working with pdf, word and json documents are PyPDF2, Python-Docx and json respectively."
   ]
  },
  {
   "cell_type": "markdown",
   "metadata": {},
   "source": [
    "## PDF DOCUMENTS\n",
    "PDF is an acronym for Portable Document Format. The PyPDF2 module can only allow us extract text from PDF documents. Before you can use the PyPDF2 module, you need to install the module by typing the command `pip install --user PyPDF2` in your command prompt. To read a PDF file, we use the PdfFileReader() method of the PyPDF2 module. This method takes a file object as a parameter."
   ]
  },
  {
   "cell_type": "code",
   "execution_count": null,
   "metadata": {},
   "outputs": [],
   "source": [
    "import PyPDF2\n",
    "file_obj = open (r'C:\\Users\\General\\Downloads\\A Sample PDF.pdf', 'rb')\n",
    "reader_obj = PyPDF2.PdfFileReader(file_obj)\n",
    "num_of_pages = reader_obj.numPages\n",
    "num_of_pages"
   ]
  },
  {
   "cell_type": "code",
   "execution_count": null,
   "metadata": {},
   "outputs": [],
   "source": [
    "page = reader_obj.getPage(0)\n",
    "print(page.extractText())\n"
   ]
  },
  {
   "cell_type": "code",
   "execution_count": null,
   "metadata": {},
   "outputs": [],
   "source": [
    "for index in range(num_of_pages):\n",
    "    page = reader_obj.getPage(index)\n",
    "    text = page.extractText()\n",
    "    print(text)\n",
    "   # print(reader_obj.getPage(index).extractText())"
   ]
  },
  {
   "cell_type": "markdown",
   "metadata": {},
   "source": [
    "The file reader object has a method `getDocumentInfo()` that return a dictionary of information such as author, date of creation etc of a pdf document."
   ]
  },
  {
   "cell_type": "code",
   "execution_count": null,
   "metadata": {},
   "outputs": [],
   "source": [
    "info = reader_obj.getDocumentInfo()\n",
    "info"
   ]
  },
  {
   "cell_type": "code",
   "execution_count": null,
   "metadata": {},
   "outputs": [],
   "source": [
    "author = info.author\n",
    "author"
   ]
  },
  {
   "cell_type": "code",
   "execution_count": null,
   "metadata": {},
   "outputs": [],
   "source": [
    "file_obj.close()"
   ]
  },
  {
   "cell_type": "markdown",
   "metadata": {},
   "source": [
    "## DECRYPTING PDFS\n",
    "Some PDF documents are encrypted with a passsword. Before you can read such documents, you need to decrypt it by entering the correct password. The PyPDF2 module has a decrypt() method to decrypt encrypted PDF documents. This method receives the password as an argument. \n",
    "All PDFFileObjects have an attribute called `isEncrypted` that returns True if a PDF document is encrypted."
   ]
  },
  {
   "cell_type": "code",
   "execution_count": null,
   "metadata": {},
   "outputs": [],
   "source": [
    "encrypted_pdf = PyPDF2.PdfFileReader(open(r'Encrypted_doc.pdf', 'rb'))\n",
    "print(encrypted_pdf.isEncrypted)"
   ]
  },
  {
   "cell_type": "code",
   "execution_count": null,
   "metadata": {},
   "outputs": [],
   "source": [
    "password = input('Enter password')"
   ]
  },
  {
   "cell_type": "code",
   "execution_count": null,
   "metadata": {},
   "outputs": [],
   "source": [
    "#encrypted_pdf.decrypt(password)\n",
    "encrypted_pdf.decrypt('Rainigeria.')\n",
    "print(encrypted_pdf.getPage(0).extractText())"
   ]
  },
  {
   "cell_type": "markdown",
   "metadata": {},
   "source": [
    "## CREATING PDF DOCUMENTS\n",
    "To create a new PDF document, we use the PdfFileWriter() method. This method does not allows writing of text to a PDF document or directly editing a PDF file but can copy pages from other PDF documents, rotate pages in a PDF and encrypt PDF documents.\n"
   ]
  },
  {
   "cell_type": "code",
   "execution_count": null,
   "metadata": {},
   "outputs": [],
   "source": [
    "#creating a pdf writer object\n",
    "writer_obj = PyPDF2.PdfFileWriter()"
   ]
  },
  {
   "cell_type": "markdown",
   "metadata": {},
   "source": [
    "## COPYING PDF DOCUMENTS"
   ]
  },
  {
   "cell_type": "code",
   "execution_count": null,
   "metadata": {},
   "outputs": [],
   "source": [
    "#copying pages from an eisting pdf document\n",
    "reader_obj = PyPDF2.PdfFileReader(open (r'C:\\Users\\General\\Downloads\\A Sample PDF.pdf', 'rb'))\n",
    "for page_num in range(reader_obj.numPages):\n",
    "    page = reader_obj.getPage(page_num)\n",
    "    writer_obj.addPage(page)\n"
   ]
  },
  {
   "cell_type": "code",
   "execution_count": null,
   "metadata": {},
   "outputs": [],
   "source": [
    "#Writing the copied pages to an output pdf document\n",
    "writer_obj.write(open('Book1_copy.pdf', 'wb'))"
   ]
  },
  {
   "cell_type": "markdown",
   "metadata": {},
   "source": [
    "## ROTATING PAGES\n",
    "The methods rotateClockwise() and rotateCounterClockwise() methods used to rotate any pdf page in 90 degrees increments (90, 180. 270)."
   ]
  },
  {
   "cell_type": "code",
   "execution_count": null,
   "metadata": {},
   "outputs": [],
   "source": [
    "page = reader_obj.getPage(0)"
   ]
  },
  {
   "cell_type": "code",
   "execution_count": null,
   "metadata": {},
   "outputs": [],
   "source": [
    "page.rotateClockwise(90)\n",
    "writer_obj.addPage(page)\n",
    "writer_obj.write(open('rotated_pdf.pdf', 'wb'))"
   ]
  },
  {
   "cell_type": "markdown",
   "metadata": {},
   "source": [
    "## ENCRYPTING PDF DOCUMENTS\n",
    "The PdfFileWriter() object can also encrypt PDF documents using its encrypt method which takes the password as parameter. The encrypt method can take two parameters; the user password and the owner password. If only one password is supplied, it is used as both user and owner password."
   ]
  },
  {
   "cell_type": "code",
   "execution_count": null,
   "metadata": {},
   "outputs": [],
   "source": [
    "writer_obj = PyPDF2.PdfFileWriter()\n",
    "reader_obj = PyPDF2.PdfFileReader(open(r'C:\\Users\\General\\Downloads\\A Sample PDF.pdf', 'rb'))"
   ]
  },
  {
   "cell_type": "code",
   "execution_count": null,
   "metadata": {},
   "outputs": [],
   "source": [
    "for index in range(reader_obj.numPages):\n",
    "    writer_obj.addPage(reader_obj.getPage(index))"
   ]
  },
  {
   "cell_type": "code",
   "execution_count": null,
   "metadata": {},
   "outputs": [],
   "source": [
    "writer_obj.encrypt('Admissions')\n",
    "writer_obj.write(open('Admissions.pdf', 'wb'))"
   ]
  },
  {
   "cell_type": "markdown",
   "metadata": {},
   "source": [
    "## WORD DOCUMENTS"
   ]
  },
  {
   "cell_type": "markdown",
   "metadata": {},
   "source": [
    "The python-docx module allows us to read from and write to word documents. To install this module, simply type `pip install --user -U python-docx` in your terminal or command prompt."
   ]
  },
  {
   "cell_type": "code",
   "execution_count": null,
   "metadata": {},
   "outputs": [],
   "source": [
    "import docx"
   ]
  },
  {
   "cell_type": "markdown",
   "metadata": {},
   "source": [
    "## READING TEXT FROM A WORD DOCUMENT\n",
    "Text in word documents are different from plain text as they contain color, font and other style information. Also, unlike plain text documents, the structure of a word document is different. There are three levels;  \n",
    "1. Document: refers to the entire document and contains a list of paragraphs\n",
    "2. Paragraph: contains a list of Run objects.\n",
    "3. Run: a contigous run of text with same style."
   ]
  },
  {
   "cell_type": "markdown",
   "metadata": {},
   "source": [
    "![image.png](attachment:image.png)\n"
   ]
  },
  {
   "cell_type": "markdown",
   "metadata": {},
   "source": [
    "To read from a word document, we use the Document method of the python-docx module which receives the document path as an argument. We cn also retrive the paragraphs contained in te document and the runs contained in a paragraph using the paragraphs and runs attributes respectively."
   ]
  },
  {
   "cell_type": "code",
   "execution_count": null,
   "metadata": {},
   "outputs": [],
   "source": [
    "doc = docx.Document(r'MACHINE LEARNING.docx')"
   ]
  },
  {
   "cell_type": "code",
   "execution_count": null,
   "metadata": {
    "scrolled": true
   },
   "outputs": [],
   "source": [
    "paragraphs = doc.paragraphs\n",
    "paragraphs"
   ]
  },
  {
   "cell_type": "markdown",
   "metadata": {},
   "source": [
    "You can access the text of a paragraph using the text attribute."
   ]
  },
  {
   "cell_type": "code",
   "execution_count": null,
   "metadata": {},
   "outputs": [],
   "source": [
    "paragraphs[0].text"
   ]
  },
  {
   "cell_type": "code",
   "execution_count": null,
   "metadata": {},
   "outputs": [],
   "source": [
    "runs = paragraphs[8].runs\n",
    "len(runs)"
   ]
  },
  {
   "cell_type": "code",
   "execution_count": null,
   "metadata": {},
   "outputs": [],
   "source": [
    "runs[0].text"
   ]
  },
  {
   "cell_type": "code",
   "execution_count": null,
   "metadata": {},
   "outputs": [],
   "source": [
    "runs[1].text"
   ]
  },
  {
   "cell_type": "markdown",
   "metadata": {},
   "source": [
    "## ADDING STYLES TO A WORD DOCUMENT\n",
    "Word documents have various styles. To view the styles on Windows, click `Ctrl-Alt-Shift-S` keys. On MacOS, click on view and select styles. \n"
   ]
  },
  {
   "cell_type": "markdown",
   "metadata": {},
   "source": [
    "![image.png](attachment:image.png)"
   ]
  },
  {
   "cell_type": "markdown",
   "metadata": {},
   "source": [
    "There are three styles types for word documents; paragraph styles, character styles and linked styles. Paragraph styles are used on paragraph objects, character styles are used on run objects and linked styles are used for both. In the styles pane, Paragraph styles are prefixed with Paragraph symbol `P`, character styles are prefixed with the character symbol `a` and linked styles are prefixed with both.  We use the style attribute to add styles to paragraph and run objects."
   ]
  },
  {
   "cell_type": "code",
   "execution_count": null,
   "metadata": {},
   "outputs": [],
   "source": [
    "paragraph = paragraphs[5]\n",
    "paragraph.style = 'Heading 4'\n",
    "doc.save('ML.docx')"
   ]
  },
  {
   "cell_type": "markdown",
   "metadata": {},
   "source": [
    "NOTE: The default styles on word document are not automatically saved to the document. You cannot access any default style in Python until you have used that particular style in the word document. Otherwise, you get a key error."
   ]
  },
  {
   "cell_type": "markdown",
   "metadata": {},
   "source": [
    "To use a linked style for a run object, you must add `Char` at the end of the style name."
   ]
  },
  {
   "cell_type": "code",
   "execution_count": null,
   "metadata": {},
   "outputs": [],
   "source": [
    "paragraph = paragraphs[6]\n",
    "run = runs[1]\n",
    "paragraph.style = 'Quote'\n",
    "run.style = 'Quote Char'\n",
    "doc.save('ML.docx')"
   ]
  },
  {
   "cell_type": "markdown",
   "metadata": {},
   "source": [
    "## WRITING WORD DOCUMENT\n",
    "To create a new word document, we use the docx.Document(). This will return a new blank word document."
   ]
  },
  {
   "cell_type": "code",
   "execution_count": null,
   "metadata": {},
   "outputs": [],
   "source": [
    "import docx\n",
    "doc = docx.Document()"
   ]
  },
  {
   "cell_type": "markdown",
   "metadata": {},
   "source": [
    "The add_paragraph() method is used to add a paragraph of text to the word document. To save the document, we need to use the save() method as pass the filename as an argumnet. "
   ]
  },
  {
   "cell_type": "code",
   "execution_count": null,
   "metadata": {},
   "outputs": [],
   "source": [
    "doc.add_paragraph('This is a new word document')\n",
    "doc.save('new_doc.docx')"
   ]
  },
  {
   "cell_type": "markdown",
   "metadata": {},
   "source": [
    "To add more text to an existing paragraph, we use the add_run() method.\n"
   ]
  },
  {
   "cell_type": "code",
   "execution_count": null,
   "metadata": {},
   "outputs": [],
   "source": [
    "paragraph_1 = doc.add_paragraph('This is paragraph two.')\n",
    "paragraph_2 = doc.add_paragraph('This is paragraph three.')\n",
    "paragraph_1.add_run(' Paragraph consists of run objects.')\n",
    "doc.save('new_doc_copy.docx')"
   ]
  },
  {
   "cell_type": "markdown",
   "metadata": {},
   "source": [
    "The add_paragraph() and add_run() methods take an optional parameter which is the style parameter."
   ]
  },
  {
   "cell_type": "code",
   "execution_count": null,
   "metadata": {},
   "outputs": [],
   "source": [
    "doc.add_paragraph('This is a new sub topic','Heading 4')\n",
    "doc.save('new_doc_copy.docx')"
   ]
  },
  {
   "cell_type": "markdown",
   "metadata": {},
   "source": [
    "##  ADDING HEADERS\n",
    "To add a header to a word document, we use the add_heading() method. This method takes to parameters; the header text and the heading level (an integer with values between 0 and 4)."
   ]
  },
  {
   "cell_type": "code",
   "execution_count": null,
   "metadata": {},
   "outputs": [],
   "source": [
    "doc.add_heading('A new Header', 2)\n",
    "doc.save('new_doc_copy.docx')"
   ]
  },
  {
   "cell_type": "markdown",
   "metadata": {},
   "source": [
    "## ADDING PICTURES\n",
    "To add a picture to a word document, use the add_picture() method. This method takes the file name, height and width for the picture (optional)"
   ]
  },
  {
   "cell_type": "code",
   "execution_count": null,
   "metadata": {},
   "outputs": [],
   "source": [
    "file_path = r'anitaBorg.jpg'\n",
    "doc.add_picture(file_path, height = docx.shared.Cm(4), width = docx.shared.Cm(4))\n",
    "doc.save('new_doc_copy.docx')"
   ]
  },
  {
   "cell_type": "markdown",
   "metadata": {},
   "source": [
    "## EXERCISE\n",
    "Get all images (png and jpg files) in your downloads folder. Write each image and its name to a word document. The name of the image should be of the Strong style and the images should be square images (i.e same dimension for width and height)."
   ]
  },
  {
   "cell_type": "markdown",
   "metadata": {},
   "source": [
    "## JSON AND API\n",
    "JSON stands for JavaScript Object Notation. It is a popular way to format data as a single human readable string. Many websites provide their content as json data for programs to interact with. This is known as API (Application Programming Interface). Accessing an API is similar to accesing a web page via a URL. To make an API call, you need to check the API documentation to know the URLs your program needs to request in order to get the data you want, as well as the general format of the JSON data structures that are returned.\n",
    "![image.png](attachment:8c7b6339-9f3f-443f-83ce-2f2231b18d3f.png)\n",
    "\n",
    "The above picture is an example of a json data. Json data supports primitive types; strings, numbers, nested data structures."
   ]
  },
  {
   "cell_type": "markdown",
   "metadata": {},
   "source": [
    "## THE JSON MODULE\n",
    "The json module allows us to translate json data to python objects and vice versa. You can convert any python object to json. Below is the conversion chart for encoding/serialising python objects.\n",
    "\n",
    "![image.png](attachment:53802581-7c22-438d-8243-6d01b0309a99.png)\n",
    "\n",
    "Below is the conversion chart for decoding/deserialising json data.\n",
    "\n",
    "![image.png](attachment:e01ffda9-5383-4567-9c44-ca59b4e35dc0.png)\n",
    "\n",
    "The json module has various methods to parse json data. The loads() and dumps() methods allow us to parse a string of json data. The loads() function which stands for load string allows us to translate/decode/deserialize a string of json data to a python object."
   ]
  },
  {
   "cell_type": "code",
   "execution_count": null,
   "metadata": {},
   "outputs": [],
   "source": [
    "import json\n",
    "json_str = '{\"name\": \"Amanda\", \"age\": 20, \"can_drive\": true, \"IQ\": null}'\n",
    "data = json.loads(json_str)\n",
    "data\n",
    "#type(json_str)"
   ]
  },
  {
   "cell_type": "markdown",
   "metadata": {},
   "source": [
    "The dumps() function which stands for dump string is used to translate/encode/serialise python objects to a string of json data."
   ]
  },
  {
   "cell_type": "code",
   "execution_count": null,
   "metadata": {},
   "outputs": [],
   "source": [
    "data = {'name': 'Amanda', 'age': 20, 'can_drive': True, 'IQ': None}\n",
    "json_str = json.dumps(data)\n",
    "json_str"
   ]
  },
  {
   "cell_type": "markdown",
   "metadata": {},
   "source": [
    "The load() and dump() methods allow us to parse a file containing json data. Below is an example of how we can use the load() method to deserialise a json data from a URL."
   ]
  },
  {
   "cell_type": "code",
   "execution_count": null,
   "metadata": {},
   "outputs": [],
   "source": [
    "with open('example_2.json', 'r') as f:\n",
    "    data = json.load(f)\n",
    "print(data)"
   ]
  },
  {
   "cell_type": "code",
   "execution_count": null,
   "metadata": {},
   "outputs": [],
   "source": [
    "data['quiz']['sport']['q1']['options']"
   ]
  },
  {
   "cell_type": "markdown",
   "metadata": {},
   "source": [
    "Below is an example of how to serialise a python object to json using the dump method. The dump method takes two required parameters, the python object to be serialised and the file object to which the json data would be written."
   ]
  },
  {
   "cell_type": "code",
   "execution_count": null,
   "metadata": {},
   "outputs": [],
   "source": [
    "data = {\n",
    "  \"colors\": [\n",
    "    {\n",
    "      \"color\": \"black\",\n",
    "      \"category\": \"hue\",\n",
    "      \"type\": \"primary\",\n",
    "      \"code\": {\n",
    "        \"rgba\": [255,255,255,1],\n",
    "        \"hex\": \"#000\"\n",
    "      }\n",
    "    },\n",
    "    {\n",
    "      \"color\": \"white\",\n",
    "      \"category\": \"value\",\n",
    "      \"code\": {\n",
    "        \"rgba\": [0,0,0,1],\n",
    "        \"hex\": \"#FFF\"\n",
    "      }\n",
    "    },\n",
    "    {\n",
    "      \"color\": \"red\",\n",
    "      \"category\": \"hue\",\n",
    "      \"type\": \"primary\",\n",
    "      \"code\": {\n",
    "        \"rgba\": [255,0,0,1],\n",
    "        \"hex\": \"#FF0\"\n",
    "      }\n",
    "    },\n",
    "    {\n",
    "      \"color\": \"blue\",\n",
    "      \"category\": \"hue\",\n",
    "      \"type\": \"primary\",\n",
    "      \"code\": {\n",
    "        \"rgba\": [0,0,255,1],\n",
    "        \"hex\": \"#00F\"\n",
    "      }\n",
    "    }\n",
    "  ]\n",
    "}"
   ]
  },
  {
   "cell_type": "code",
   "execution_count": null,
   "metadata": {},
   "outputs": [],
   "source": [
    "with open('colors.json', 'w') as f:\n",
    "    json.dump(data, f, indent = 6)\n",
    "    "
   ]
  },
  {
   "cell_type": "markdown",
   "metadata": {},
   "source": [
    "## EXERCISE\n",
    "Load the todo json data from the url https://jsonplaceholder.typicode.com/todos and write to a new csv file all todos that have been completed."
   ]
  },
  {
   "cell_type": "code",
   "execution_count": null,
   "metadata": {},
   "outputs": [],
   "source": []
  }
 ],
 "metadata": {
  "kernelspec": {
   "display_name": "Python 3",
   "language": "python",
   "name": "python3"
  },
  "language_info": {
   "codemirror_mode": {
    "name": "ipython",
    "version": 3
   },
   "file_extension": ".py",
   "mimetype": "text/x-python",
   "name": "python",
   "nbconvert_exporter": "python",
   "pygments_lexer": "ipython3",
   "version": "3.6.5"
  }
 },
 "nbformat": 4,
 "nbformat_minor": 4
}
